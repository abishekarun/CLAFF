{
  "nbformat": 4,
  "nbformat_minor": 0,
  "metadata": {
    "colab": {
      "name": "GRU_Agency.ipynb",
      "version": "0.3.2",
      "provenance": [],
      "collapsed_sections": []
    },
    "kernelspec": {
      "name": "python3",
      "display_name": "Python 3"
    },
    "accelerator": "GPU"
  },
  "cells": [
    {
      "metadata": {
        "id": "9uag8ljF07Og",
        "colab_type": "code",
        "colab": {}
      },
      "cell_type": "code",
      "source": [
        "%%capture\n",
        "!pip3 install http://download.pytorch.org/whl/cu80/torch-0.3.0.post4-cp36-cp36m-linux_x86_64.whl \n",
        "!pip3 install torchvision\n",
        "\n",
        "from os.path import exists\n",
        "from wheel.pep425tags import get_abbr_impl, get_impl_ver, get_abi_tag\n",
        "platform = '{}{}-{}'.format(get_abbr_impl(), get_impl_ver(), get_abi_tag())\n",
        "cuda_output = !ldconfig -p|grep cudart.so|sed -e 's/.*\\.\\([0-9]*\\)\\.\\([0-9]*\\)$/cu\\1\\2/'\n",
        "accelerator = cuda_output[0] if exists('/dev/nvidia0') else 'cpu'\n",
        "\n",
        "!pip install -q http://download.pytorch.org/whl/{accelerator}/torch-0.4.1-{platform}-linux_x86_64.whl torchvision\n",
        "import torch\n",
        "!pip install torchtext\n",
        "!pip install spacy && python -m spacy download en"
      ],
      "execution_count": 0,
      "outputs": []
    },
    {
      "metadata": {
        "id": "4Riv1NfxbnfP",
        "colab_type": "code",
        "colab": {}
      },
      "cell_type": "code",
      "source": [
        "import pandas as pd\n",
        "labeled_train = \"https://raw.githubusercontent.com/kj2013/claff-happydb/master/data/TRAIN/labeled_10k.csv\"\n",
        "unlabeled_train = \"https://raw.githubusercontent.com/kj2013/claff-happydb/master/data/TRAIN/unlabeled_70k.csv\"\n",
        "unlabeled_test = \"https://raw.githubusercontent.com/kj2013/claff-happydb/master/data/TEST/unlabeled_17k.csv\"\n",
        "labeled_data = pd.read_table(labeled_train,sep=',',index_col=False, error_bad_lines=False) "
      ],
      "execution_count": 0,
      "outputs": []
    },
    {
      "metadata": {
        "id": "3spTQAmnuHz2",
        "colab_type": "code",
        "outputId": "6430996c-01cf-4c10-eb2a-b12669366154",
        "colab": {
          "base_uri": "https://localhost:8080/",
          "height": 461
        }
      },
      "cell_type": "code",
      "source": [
        "labeled_data.head(10)"
      ],
      "execution_count": 13,
      "outputs": [
        {
          "output_type": "execute_result",
          "data": {
            "text/html": [
              "<div>\n",
              "<style scoped>\n",
              "    .dataframe tbody tr th:only-of-type {\n",
              "        vertical-align: middle;\n",
              "    }\n",
              "\n",
              "    .dataframe tbody tr th {\n",
              "        vertical-align: top;\n",
              "    }\n",
              "\n",
              "    .dataframe thead th {\n",
              "        text-align: right;\n",
              "    }\n",
              "</style>\n",
              "<table border=\"1\" class=\"dataframe\">\n",
              "  <thead>\n",
              "    <tr style=\"text-align: right;\">\n",
              "      <th></th>\n",
              "      <th>hmid</th>\n",
              "      <th>moment</th>\n",
              "      <th>concepts</th>\n",
              "      <th>agency</th>\n",
              "      <th>social</th>\n",
              "      <th>age</th>\n",
              "      <th>country</th>\n",
              "      <th>gender</th>\n",
              "      <th>married</th>\n",
              "      <th>parenthood</th>\n",
              "      <th>reflection</th>\n",
              "      <th>duration</th>\n",
              "    </tr>\n",
              "  </thead>\n",
              "  <tbody>\n",
              "    <tr>\n",
              "      <th>0</th>\n",
              "      <td>27674</td>\n",
              "      <td>I was happy when my son got 90% marks in his e...</td>\n",
              "      <td>education|family</td>\n",
              "      <td>no</td>\n",
              "      <td>yes</td>\n",
              "      <td>29.0</td>\n",
              "      <td>IND</td>\n",
              "      <td>m</td>\n",
              "      <td>married</td>\n",
              "      <td>y</td>\n",
              "      <td>24h</td>\n",
              "      <td>half_a_day</td>\n",
              "    </tr>\n",
              "    <tr>\n",
              "      <th>1</th>\n",
              "      <td>27685</td>\n",
              "      <td>went to movies with my friends it was fun</td>\n",
              "      <td>entertainment</td>\n",
              "      <td>yes</td>\n",
              "      <td>yes</td>\n",
              "      <td>29.0</td>\n",
              "      <td>IND</td>\n",
              "      <td>m</td>\n",
              "      <td>single</td>\n",
              "      <td>y</td>\n",
              "      <td>24h</td>\n",
              "      <td>half_a_day</td>\n",
              "    </tr>\n",
              "    <tr>\n",
              "      <th>2</th>\n",
              "      <td>27691</td>\n",
              "      <td>A hot kiss with my girl friend last night made...</td>\n",
              "      <td>romance</td>\n",
              "      <td>yes</td>\n",
              "      <td>yes</td>\n",
              "      <td>25.0</td>\n",
              "      <td>IND</td>\n",
              "      <td>m</td>\n",
              "      <td>married</td>\n",
              "      <td>y</td>\n",
              "      <td>24h</td>\n",
              "      <td>at_least_one_hour</td>\n",
              "    </tr>\n",
              "    <tr>\n",
              "      <th>3</th>\n",
              "      <td>27701</td>\n",
              "      <td>My son woke me up to a fantastic breakfast of ...</td>\n",
              "      <td>family|food</td>\n",
              "      <td>no</td>\n",
              "      <td>yes</td>\n",
              "      <td>79</td>\n",
              "      <td>USA</td>\n",
              "      <td>f</td>\n",
              "      <td>widowed</td>\n",
              "      <td>y</td>\n",
              "      <td>24h</td>\n",
              "      <td>all_day_im_still_feeling_it</td>\n",
              "    </tr>\n",
              "    <tr>\n",
              "      <th>4</th>\n",
              "      <td>27712</td>\n",
              "      <td>My older daughter keeps patting my younger dau...</td>\n",
              "      <td>family</td>\n",
              "      <td>no</td>\n",
              "      <td>yes</td>\n",
              "      <td>30</td>\n",
              "      <td>USA</td>\n",
              "      <td>f</td>\n",
              "      <td>married</td>\n",
              "      <td>y</td>\n",
              "      <td>24h</td>\n",
              "      <td>a_few_moment</td>\n",
              "    </tr>\n",
              "    <tr>\n",
              "      <th>5</th>\n",
              "      <td>27737</td>\n",
              "      <td>I cooked my girlfriend a wonderful breakfast.</td>\n",
              "      <td>food|romance</td>\n",
              "      <td>yes</td>\n",
              "      <td>yes</td>\n",
              "      <td>34</td>\n",
              "      <td>USA</td>\n",
              "      <td>m</td>\n",
              "      <td>single</td>\n",
              "      <td>n</td>\n",
              "      <td>24h</td>\n",
              "      <td>half_a_day</td>\n",
              "    </tr>\n",
              "    <tr>\n",
              "      <th>6</th>\n",
              "      <td>27754</td>\n",
              "      <td>My Mother gave me a surprise visit at my home.</td>\n",
              "      <td>family</td>\n",
              "      <td>no</td>\n",
              "      <td>yes</td>\n",
              "      <td>26</td>\n",
              "      <td>IND</td>\n",
              "      <td>m</td>\n",
              "      <td>married</td>\n",
              "      <td>n</td>\n",
              "      <td>24h</td>\n",
              "      <td>half_a_day</td>\n",
              "    </tr>\n",
              "    <tr>\n",
              "      <th>7</th>\n",
              "      <td>27772</td>\n",
              "      <td>There was hardly any traffic on my way to work...</td>\n",
              "      <td>career</td>\n",
              "      <td>yes</td>\n",
              "      <td>no</td>\n",
              "      <td>25</td>\n",
              "      <td>USA</td>\n",
              "      <td>m</td>\n",
              "      <td>single</td>\n",
              "      <td>n</td>\n",
              "      <td>24h</td>\n",
              "      <td>at_least_one_hour</td>\n",
              "    </tr>\n",
              "    <tr>\n",
              "      <th>8</th>\n",
              "      <td>27775</td>\n",
              "      <td>I came to my office at right time.</td>\n",
              "      <td>career</td>\n",
              "      <td>yes</td>\n",
              "      <td>no</td>\n",
              "      <td>22</td>\n",
              "      <td>USA</td>\n",
              "      <td>m</td>\n",
              "      <td>single</td>\n",
              "      <td>n</td>\n",
              "      <td>24h</td>\n",
              "      <td>a_few_moment</td>\n",
              "    </tr>\n",
              "    <tr>\n",
              "      <th>9</th>\n",
              "      <td>27777</td>\n",
              "      <td>The day I got my degree in industrial engineering</td>\n",
              "      <td>education</td>\n",
              "      <td>yes</td>\n",
              "      <td>no</td>\n",
              "      <td>22</td>\n",
              "      <td>VEN</td>\n",
              "      <td>f</td>\n",
              "      <td>single</td>\n",
              "      <td>n</td>\n",
              "      <td>24h</td>\n",
              "      <td>all_day_im_still_feeling_it</td>\n",
              "    </tr>\n",
              "  </tbody>\n",
              "</table>\n",
              "</div>"
            ],
            "text/plain": [
              "    hmid                                             moment          concepts  \\\n",
              "0  27674  I was happy when my son got 90% marks in his e...  education|family   \n",
              "1  27685          went to movies with my friends it was fun     entertainment   \n",
              "2  27691  A hot kiss with my girl friend last night made...           romance   \n",
              "3  27701  My son woke me up to a fantastic breakfast of ...       family|food   \n",
              "4  27712  My older daughter keeps patting my younger dau...            family   \n",
              "5  27737      I cooked my girlfriend a wonderful breakfast.      food|romance   \n",
              "6  27754     My Mother gave me a surprise visit at my home.            family   \n",
              "7  27772  There was hardly any traffic on my way to work...            career   \n",
              "8  27775                 I came to my office at right time.            career   \n",
              "9  27777  The day I got my degree in industrial engineering         education   \n",
              "\n",
              "  agency social   age country gender  married parenthood reflection  \\\n",
              "0     no    yes  29.0     IND      m  married          y        24h   \n",
              "1    yes    yes  29.0     IND      m   single          y        24h   \n",
              "2    yes    yes  25.0     IND      m  married          y        24h   \n",
              "3     no    yes    79     USA      f  widowed          y        24h   \n",
              "4     no    yes    30     USA      f  married          y        24h   \n",
              "5    yes    yes    34     USA      m   single          n        24h   \n",
              "6     no    yes    26     IND      m  married          n        24h   \n",
              "7    yes     no    25     USA      m   single          n        24h   \n",
              "8    yes     no    22     USA      m   single          n        24h   \n",
              "9    yes     no    22     VEN      f   single          n        24h   \n",
              "\n",
              "                      duration  \n",
              "0                   half_a_day  \n",
              "1                   half_a_day  \n",
              "2            at_least_one_hour  \n",
              "3  all_day_im_still_feeling_it  \n",
              "4                 a_few_moment  \n",
              "5                   half_a_day  \n",
              "6                   half_a_day  \n",
              "7            at_least_one_hour  \n",
              "8                 a_few_moment  \n",
              "9  all_day_im_still_feeling_it  "
            ]
          },
          "metadata": {
            "tags": []
          },
          "execution_count": 13
        }
      ]
    },
    {
      "metadata": {
        "id": "0L3XswtLuepv",
        "colab_type": "code",
        "outputId": "7652d23e-afc3-4eb1-963f-8856d2e29780",
        "colab": {
          "base_uri": "https://localhost:8080/",
          "height": 34
        }
      },
      "cell_type": "code",
      "source": [
        "len(labeled_data.country.unique())"
      ],
      "execution_count": 14,
      "outputs": [
        {
          "output_type": "execute_result",
          "data": {
            "text/plain": [
              "70"
            ]
          },
          "metadata": {
            "tags": []
          },
          "execution_count": 14
        }
      ]
    },
    {
      "metadata": {
        "id": "ZOpgLUS3uez5",
        "colab_type": "code",
        "outputId": "35cefd80-085b-43be-843a-ac0422609391",
        "colab": {
          "base_uri": "https://localhost:8080/",
          "height": 34
        }
      },
      "cell_type": "code",
      "source": [
        "len(labeled_data.concepts.unique())"
      ],
      "execution_count": 15,
      "outputs": [
        {
          "output_type": "execute_result",
          "data": {
            "text/plain": [
              "294"
            ]
          },
          "metadata": {
            "tags": []
          },
          "execution_count": 15
        }
      ]
    },
    {
      "metadata": {
        "id": "sH-gvX9p5-NL",
        "colab_type": "code",
        "colab": {}
      },
      "cell_type": "code",
      "source": [
        "import numpy as np\n",
        "from sklearn.model_selection import train_test_split\n",
        "train, valid = train_test_split(labeled_data, test_size=0.2, random_state=0, stratify=labeled_data['social'])"
      ],
      "execution_count": 0,
      "outputs": []
    },
    {
      "metadata": {
        "id": "MoOyCFEg6OeG",
        "colab_type": "code",
        "outputId": "791fe5bf-115c-4521-f900-4101b4992085",
        "colab": {
          "base_uri": "https://localhost:8080/",
          "height": 68
        }
      },
      "cell_type": "code",
      "source": [
        "train.social.value_counts()"
      ],
      "execution_count": 17,
      "outputs": [
        {
          "output_type": "execute_result",
          "data": {
            "text/plain": [
              "yes    4500\n",
              "no     3948\n",
              "Name: social, dtype: int64"
            ]
          },
          "metadata": {
            "tags": []
          },
          "execution_count": 17
        }
      ]
    },
    {
      "metadata": {
        "id": "g1XKpMc16TjF",
        "colab_type": "code",
        "outputId": "90b7154c-f174-4ed5-c283-e7fed75a5aea",
        "colab": {
          "base_uri": "https://localhost:8080/",
          "height": 68
        }
      },
      "cell_type": "code",
      "source": [
        "valid.social.value_counts()"
      ],
      "execution_count": 18,
      "outputs": [
        {
          "output_type": "execute_result",
          "data": {
            "text/plain": [
              "yes    1125\n",
              "no      987\n",
              "Name: social, dtype: int64"
            ]
          },
          "metadata": {
            "tags": []
          },
          "execution_count": 18
        }
      ]
    },
    {
      "metadata": {
        "id": "rygV2En4BeOh",
        "colab_type": "code",
        "colab": {}
      },
      "cell_type": "code",
      "source": [
        "train = train[['hmid','moment','agency']]\n",
        "valid = valid[['hmid','moment','agency']]"
      ],
      "execution_count": 0,
      "outputs": []
    },
    {
      "metadata": {
        "id": "JXbGiB5nB7E0",
        "colab_type": "code",
        "outputId": "9ff218cf-fbf8-4151-ce0f-14ed36329ea7",
        "colab": {
          "base_uri": "https://localhost:8080/",
          "height": 359
        }
      },
      "cell_type": "code",
      "source": [
        "train.head(10)"
      ],
      "execution_count": 20,
      "outputs": [
        {
          "output_type": "execute_result",
          "data": {
            "text/html": [
              "<div>\n",
              "<style scoped>\n",
              "    .dataframe tbody tr th:only-of-type {\n",
              "        vertical-align: middle;\n",
              "    }\n",
              "\n",
              "    .dataframe tbody tr th {\n",
              "        vertical-align: top;\n",
              "    }\n",
              "\n",
              "    .dataframe thead th {\n",
              "        text-align: right;\n",
              "    }\n",
              "</style>\n",
              "<table border=\"1\" class=\"dataframe\">\n",
              "  <thead>\n",
              "    <tr style=\"text-align: right;\">\n",
              "      <th></th>\n",
              "      <th>hmid</th>\n",
              "      <th>moment</th>\n",
              "      <th>agency</th>\n",
              "    </tr>\n",
              "  </thead>\n",
              "  <tbody>\n",
              "    <tr>\n",
              "      <th>484</th>\n",
              "      <td>32335</td>\n",
              "      <td>I went to an art gallery, which I've never don...</td>\n",
              "      <td>yes</td>\n",
              "    </tr>\n",
              "    <tr>\n",
              "      <th>217</th>\n",
              "      <td>29833</td>\n",
              "      <td>I learned how to cook a new cake recipe.</td>\n",
              "      <td>yes</td>\n",
              "    </tr>\n",
              "    <tr>\n",
              "      <th>3608</th>\n",
              "      <td>62136</td>\n",
              "      <td>All my friends give me surprise party on my bi...</td>\n",
              "      <td>no</td>\n",
              "    </tr>\n",
              "    <tr>\n",
              "      <th>7568</th>\n",
              "      <td>100495</td>\n",
              "      <td>I ordered three pairs of pants online and when...</td>\n",
              "      <td>yes</td>\n",
              "    </tr>\n",
              "    <tr>\n",
              "      <th>1805</th>\n",
              "      <td>44630</td>\n",
              "      <td>I was able to successfully clean a student's c...</td>\n",
              "      <td>yes</td>\n",
              "    </tr>\n",
              "    <tr>\n",
              "      <th>2218</th>\n",
              "      <td>48616</td>\n",
              "      <td>I watched one of my favorite shows after a hia...</td>\n",
              "      <td>yes</td>\n",
              "    </tr>\n",
              "    <tr>\n",
              "      <th>1318</th>\n",
              "      <td>40100</td>\n",
              "      <td>Gonzaga won its Final Four basketball game.</td>\n",
              "      <td>no</td>\n",
              "    </tr>\n",
              "    <tr>\n",
              "      <th>2820</th>\n",
              "      <td>54298</td>\n",
              "      <td>I talked on the phone with a good friend of mi...</td>\n",
              "      <td>yes</td>\n",
              "    </tr>\n",
              "    <tr>\n",
              "      <th>4891</th>\n",
              "      <td>74912</td>\n",
              "      <td>Going to get a coffee at the bookstore and bro...</td>\n",
              "      <td>yes</td>\n",
              "    </tr>\n",
              "    <tr>\n",
              "      <th>4627</th>\n",
              "      <td>72216</td>\n",
              "      <td>Watched a friend's daughter play soccer</td>\n",
              "      <td>yes</td>\n",
              "    </tr>\n",
              "  </tbody>\n",
              "</table>\n",
              "</div>"
            ],
            "text/plain": [
              "        hmid                                             moment agency\n",
              "484    32335  I went to an art gallery, which I've never don...    yes\n",
              "217    29833           I learned how to cook a new cake recipe.    yes\n",
              "3608   62136  All my friends give me surprise party on my bi...     no\n",
              "7568  100495  I ordered three pairs of pants online and when...    yes\n",
              "1805   44630  I was able to successfully clean a student's c...    yes\n",
              "2218   48616  I watched one of my favorite shows after a hia...    yes\n",
              "1318   40100        Gonzaga won its Final Four basketball game.     no\n",
              "2820   54298  I talked on the phone with a good friend of mi...    yes\n",
              "4891   74912  Going to get a coffee at the bookstore and bro...    yes\n",
              "4627   72216            Watched a friend's daughter play soccer    yes"
            ]
          },
          "metadata": {
            "tags": []
          },
          "execution_count": 20
        }
      ]
    },
    {
      "metadata": {
        "id": "l_4L-ShF3iOP",
        "colab_type": "code",
        "colab": {}
      },
      "cell_type": "code",
      "source": [
        "train.to_csv('train_data.csv',index=False)\n",
        "valid.to_csv('valid_data.csv',index=False)"
      ],
      "execution_count": 0,
      "outputs": []
    },
    {
      "metadata": {
        "id": "y5sACbfI17ZT",
        "colab_type": "code",
        "outputId": "472f38db-549f-45ca-bf51-9f34afeb50f8",
        "colab": {
          "base_uri": "https://localhost:8080/",
          "height": 34
        }
      },
      "cell_type": "code",
      "source": [
        "import torch \n",
        "import torch.nn as nn\n",
        "import torchvision.datasets as datasets\n",
        "from skimage import transform\n",
        "import torchvision.transforms as transforms\n",
        "from torch.autograd import Variable\n",
        "import torch.optim as optim\n",
        "import pandas as pd\n",
        "import numpy as np\n",
        "from torch.utils.data import Dataset, DataLoader\n",
        "from collections import Counter,OrderedDict\n",
        "from keras.utils.vis_utils import *\n",
        "import random\n",
        "import math"
      ],
      "execution_count": 22,
      "outputs": [
        {
          "output_type": "stream",
          "text": [
            "Using TensorFlow backend.\n"
          ],
          "name": "stderr"
        }
      ]
    },
    {
      "metadata": {
        "id": "NT9hjh34gGr9",
        "colab_type": "code",
        "colab": {}
      },
      "cell_type": "code",
      "source": [
        "%%capture\n",
        "from torchtext import vocab\n",
        "# specify the path to the localy saved vectors\n",
        "vec = vocab.GloVe(name='840B', dim=300)\n",
        "# vec = vocab.GloVe(name='6B', dim=200)"
      ],
      "execution_count": 0,
      "outputs": []
    },
    {
      "metadata": {
        "id": "28EUVijcR5bD",
        "colab_type": "code",
        "colab": {}
      },
      "cell_type": "code",
      "source": [
        "import torchtext\n",
        "import spacy\n",
        "import re\n",
        "from torchtext import data\n",
        "\n",
        "# tokenizer function using spacy\n",
        "nlp = spacy.load('en',disable=['parser', 'tagger', 'ner'])\n",
        "def tokenizer(s): \n",
        "    return [w.text.lower() for w in nlp(tweet_clean(s))]\n",
        "\n",
        "def tweet_clean(text):\n",
        "    text = re.sub(r'[^A-Za-z0-9]+', ' ', text) # remove non alphanumeric character\n",
        "    text = re.sub(r'https?:/\\/\\S+', ' ', text) # remove links\n",
        "    return text.strip()\n",
        "\n",
        "def tokenizer(s): \n",
        "    return [w.text.lower() for w in nlp(tweet_clean(s))]\n",
        "\n",
        "# define the columns that we want to process and how to process\n",
        "TEXT = data.Field(sequential=True, \n",
        "                 tokenize=tokenizer, \n",
        "                 include_lengths=True, \n",
        "                 use_vocab=True)\n",
        "LABEL = data.Field(sequential=False, \n",
        "                   use_vocab=True,\n",
        "                   pad_token=None, \n",
        "                   unk_token=None)\n",
        "\n",
        "train_val_fields = [\n",
        "    (\"hmid\", None),\n",
        "    ('moment', TEXT), # process it as text\n",
        "    ('agency', LABEL) # process it as label\n",
        "]\n",
        "\n",
        "trainds, valds = data.TabularDataset.splits(path='', \n",
        "                                            format='csv', \n",
        "                                            train='train_data.csv', \n",
        "                                            validation='valid_data.csv', \n",
        "                                            fields=train_val_fields, \n",
        "                                            skip_header=True)"
      ],
      "execution_count": 0,
      "outputs": []
    },
    {
      "metadata": {
        "id": "73zEBx4_lQwT",
        "colab_type": "code",
        "colab": {}
      },
      "cell_type": "code",
      "source": [
        "# build the vocabulary using train and validation dataset and assign the vectors\n",
        "TEXT.build_vocab(trainds,valds, max_size=100000, vectors=vec)\n",
        "# build vocab for labels\n",
        "LABEL.build_vocab(trainds)"
      ],
      "execution_count": 0,
      "outputs": []
    },
    {
      "metadata": {
        "id": "PHmzIO3_85sI",
        "colab_type": "code",
        "outputId": "8c8b82f4-5d80-47e4-8952-97b1d5f9098c",
        "colab": {
          "base_uri": "https://localhost:8080/",
          "height": 34
        }
      },
      "cell_type": "code",
      "source": [
        "print(LABEL.vocab.vectors)"
      ],
      "execution_count": 26,
      "outputs": [
        {
          "output_type": "stream",
          "text": [
            "None\n"
          ],
          "name": "stdout"
        }
      ]
    },
    {
      "metadata": {
        "id": "9afOJyTKk8Rv",
        "colab_type": "code",
        "colab": {}
      },
      "cell_type": "code",
      "source": [
        "traindl, valdl = data.BucketIterator.splits(datasets=(trainds, valds), # specify train and validation Tabulardataset\n",
        "                                            batch_sizes=(64,len(valid)),  # batch size of train and validation\n",
        "                                            sort_key=lambda x: len(x.moment), # on what attribute the text should be sorted\n",
        "                                            device=None, # -1 mean cpu and 0 or None mean gpu\n",
        "                                            sort_within_batch=True, \n",
        "                                            repeat=False)"
      ],
      "execution_count": 0,
      "outputs": []
    },
    {
      "metadata": {
        "id": "N6ZGgIxc39A2",
        "colab_type": "code",
        "outputId": "15826616-4ace-4aec-cf6d-1bdd5af1ad54",
        "colab": {
          "base_uri": "https://localhost:8080/",
          "height": 34
        }
      },
      "cell_type": "code",
      "source": [
        "print(len(traindl), len(valdl))"
      ],
      "execution_count": 28,
      "outputs": [
        {
          "output_type": "stream",
          "text": [
            "132 1\n"
          ],
          "name": "stdout"
        }
      ]
    },
    {
      "metadata": {
        "id": "t9mIWH8v9Tcr",
        "colab_type": "code",
        "outputId": "9bab4d9a-82a9-454a-abe5-2350e55a661a",
        "colab": {
          "base_uri": "https://localhost:8080/",
          "height": 34
        }
      },
      "cell_type": "code",
      "source": [
        "traindl"
      ],
      "execution_count": 29,
      "outputs": [
        {
          "output_type": "execute_result",
          "data": {
            "text/plain": [
              "<torchtext.data.iterator.BucketIterator at 0x7fe16c9097b8>"
            ]
          },
          "metadata": {
            "tags": []
          },
          "execution_count": 29
        }
      ]
    },
    {
      "metadata": {
        "id": "X4tZudVU3_OG",
        "colab_type": "code",
        "colab": {}
      },
      "cell_type": "code",
      "source": [
        "batch = next(iter(traindl)) # BucketIterator return a batch object"
      ],
      "execution_count": 0,
      "outputs": []
    },
    {
      "metadata": {
        "id": "PNKXAgZB4A4X",
        "colab_type": "code",
        "outputId": "969d8852-4251-4e68-f255-c134e188fa8e",
        "colab": {
          "base_uri": "https://localhost:8080/",
          "height": 68
        }
      },
      "cell_type": "code",
      "source": [
        "print(batch.agency) # labels of the batch"
      ],
      "execution_count": 31,
      "outputs": [
        {
          "output_type": "stream",
          "text": [
            "tensor([1, 0, 0, 0, 0, 1, 0, 0, 0, 0, 0, 0, 0, 0, 0, 0, 0, 0, 0, 0, 0, 0, 0, 0,\n",
            "        1, 0, 0, 1, 1, 0, 0, 0, 0, 0, 1, 0, 0, 0, 0, 0, 0, 0, 0, 1, 1, 0, 0, 0,\n",
            "        0, 1, 1, 0, 0, 0, 0, 1, 0, 0, 0, 0, 1, 0, 0, 0])\n"
          ],
          "name": "stdout"
        }
      ]
    },
    {
      "metadata": {
        "id": "HfWglGms4CHK",
        "colab_type": "code",
        "outputId": "92b6f078-985a-4796-c617-25665daeaa28",
        "colab": {
          "base_uri": "https://localhost:8080/",
          "height": 561
        }
      },
      "cell_type": "code",
      "source": [
        "print(batch.moment) "
      ],
      "execution_count": 32,
      "outputs": [
        {
          "output_type": "stream",
          "text": [
            "(tensor([[   3,    2,  790,    2,    2,   30,  107,    2,    7,    7,    2,  129,\n",
            "            2,    2,  710,  128,    2,   23,    2,    2,    2,    2,    2,    2,\n",
            "            3,    2,    2, 1653,    3,  125,    2,    7,    2,   96,    3,   30,\n",
            "            2,    2,    2, 3424,    2,  302,  129,    2,   20,    2,    2,   96,\n",
            "            2,    4,    7,   84,  710,    2,    2,    3,    2,    2,    2,  398,\n",
            "            3,  469,    7,   30],\n",
            "        [  34,   52,   24,  241,  309,  350,  167,  100,   32,   32,  125,    3,\n",
            "         5836,  379,  157,  105,   52,   59,   52,  100,  191,   52,  324,   52,\n",
            "           44,   52,   22,   42,   53,    7,  696,   32,  309,  470,  599,   17,\n",
            "           52,   52,   52,    9,   60,  883,  413,   17,    8,  206,   17,    4,\n",
            "           22, 3694,   32,    5,  157,   18,   18,  599,   52,  196,   17, 1098,\n",
            "          599,    5,   32,   21],\n",
            "        [  52,    4,    9,   36,    3,   61,   15,   36,   11,   11,   51,   53,\n",
            "            5,    4,   11,   11,    4,   11,    4,    4,    5,    4,   29,    4,\n",
            "           84,    4,  221, 2860,   96,   65, 1948,   11,    3,    5,   34,    4,\n",
            "            4,    4,    4,   47,    3,   11,   11,    3,    3,   74,    4,  180,\n",
            "          313,   27,   11,    4,   11,    9,    5,   34,  190,    4,  120,   19,\n",
            "           34,    4,   11,  214],\n",
            "        [  10,   23,    7,  650,  230, 1679, 1455,  300,    3,    3,  198,  126,\n",
            "           36,   41,    3,    3,   23,   23,   23,  131,    3,   23, 1580,   23,\n",
            "            5,   23,    5,   27,   41, 3576,  165,    3,  230,    3,  166,   23,\n",
            "           23,   23,   23,    3,  944,    3,    3,  593,   53, 1227,   23,   15,\n",
            "         7367,    4,    3,  995,    3,    4,  303,  166,   23,  182,   13, 1329,\n",
            "          166,   41,    3,    9],\n",
            "        [ 105, 3857,   32, 7246,  336,  499, 3696,  283,   63,   63,  405,  349,\n",
            "         6231,  343,   40,  108,  444, 1500,  444,   47,  373,  114, 1073,  114,\n",
            "          130,  444,   32,  328,  871,  156, 4360,   63,  336,   63,  274,  114,\n",
            "         1402,  444,  444,   54,   59,   56,   90,   37, 4719,  382,  211, 1916,\n",
            "         1239,  235,  393,   99,   40,  319,  240,  274,  463,  180,   24,  234,\n",
            "          274,  343,   63,   47]]), tensor([5, 5, 5, 5, 5, 5, 5, 5, 5, 5, 5, 5, 5, 5, 5, 5, 5, 5, 5, 5, 5, 5, 5, 5,\n",
            "        5, 5, 5, 5, 5, 5, 5, 5, 5, 5, 5, 5, 5, 5, 5, 5, 5, 5, 5, 5, 5, 5, 5, 5,\n",
            "        5, 5, 5, 5, 5, 5, 5, 5, 5, 5, 5, 5, 5, 5, 5, 5]))\n"
          ],
          "name": "stdout"
        }
      ]
    },
    {
      "metadata": {
        "id": "XQkVolv04Dfs",
        "colab_type": "code",
        "outputId": "66820465-81e3-447d-d06a-b2a57b0a3e47",
        "colab": {
          "base_uri": "https://localhost:8080/",
          "height": 34
        }
      },
      "cell_type": "code",
      "source": [
        "print(batch.dataset.fields)"
      ],
      "execution_count": 33,
      "outputs": [
        {
          "output_type": "stream",
          "text": [
            "{'hmid': None, 'moment': <torchtext.data.field.Field object at 0x7fe16d35b048>, 'agency': <torchtext.data.field.Field object at 0x7fe16d35b208>}\n"
          ],
          "name": "stdout"
        }
      ]
    },
    {
      "metadata": {
        "id": "EahfEJ1rAGx4",
        "colab_type": "code",
        "outputId": "61738b34-905f-4a10-d889-9c264d97895d",
        "colab": {
          "base_uri": "https://localhost:8080/",
          "height": 34
        }
      },
      "cell_type": "code",
      "source": [
        "(x,lengths) = batch.moment\n",
        "x.shape"
      ],
      "execution_count": 34,
      "outputs": [
        {
          "output_type": "execute_result",
          "data": {
            "text/plain": [
              "torch.Size([5, 64])"
            ]
          },
          "metadata": {
            "tags": []
          },
          "execution_count": 34
        }
      ]
    },
    {
      "metadata": {
        "id": "peOOj2MEANPe",
        "colab_type": "code",
        "outputId": "726fb691-9dfc-4274-8030-bc2011d1d6b9",
        "colab": {
          "base_uri": "https://localhost:8080/",
          "height": 34
        }
      },
      "cell_type": "code",
      "source": [
        "batch.agency.shape"
      ],
      "execution_count": 35,
      "outputs": [
        {
          "output_type": "execute_result",
          "data": {
            "text/plain": [
              "torch.Size([64])"
            ]
          },
          "metadata": {
            "tags": []
          },
          "execution_count": 35
        }
      ]
    },
    {
      "metadata": {
        "id": "ssMm5Wp54E2D",
        "colab_type": "code",
        "colab": {}
      },
      "cell_type": "code",
      "source": [
        "class BatchGenerator:\n",
        "    def __init__(self, dl, x_field, y_field):\n",
        "        self.dl, self.x_field, self.y_field = dl, x_field, y_field\n",
        "        \n",
        "    def __iter__(self):\n",
        "        for batch in self.dl:\n",
        "            X = getattr(batch, self.x_field)\n",
        "            y = getattr(batch, self.y_field)\n",
        "            yield (X,y)\n",
        " \n"
      ],
      "execution_count": 0,
      "outputs": []
    },
    {
      "metadata": {
        "id": "ZJ1TfTlA4F7S",
        "colab_type": "code",
        "colab": {}
      },
      "cell_type": "code",
      "source": [
        "train_batch_it = BatchGenerator(traindl, 'moment', 'agency')\n",
        "valid_batch_it = BatchGenerator(valdl, 'moment', 'agency')"
      ],
      "execution_count": 0,
      "outputs": []
    },
    {
      "metadata": {
        "id": "F6LKOxYP7kHQ",
        "colab_type": "code",
        "colab": {}
      },
      "cell_type": "code",
      "source": [
        "import torch.nn as nn\n",
        "import torch.nn.functional as F\n",
        "import torch.optim as optim\n",
        "from torch.autograd import Variable\n",
        " \n",
        "class LSTM(nn.Module):\n",
        "    def __init__(self, hidden_dim, n_lstm_layers,emb_dim, dropout_p):\n",
        "        super(LSTM,self).__init__() # don't forget to call this!\n",
        "        self.embedding = nn.Embedding(len(TEXT.vocab), emb_dim)\n",
        "        self.embedding.weight = nn.Parameter(TEXT.vocab.vectors, requires_grad=False)\n",
        "        self.encoder = nn.GRU(emb_dim, hidden_dim, num_layers=n_lstm_layers,dropout=dropout_p)\n",
        "        self.dropout = nn.Dropout(dropout_p)\n",
        "        self.fc1=nn.Linear(hidden_dim,64)\n",
        "        self.predictor=nn.Linear(64,1)\n",
        " \n",
        "    def forward(self, seq):\n",
        "        hdn, _ = self.encoder(self.embedding(seq))\n",
        "        output = hdn[-1, :, :]\n",
        "        fc_output= self.fc1(output)\n",
        "        fc_output= self.dropout(fc_output)\n",
        "        preds=self.predictor(fc_output)\n",
        "        return torch.sigmoid(preds)"
      ],
      "execution_count": 0,
      "outputs": []
    },
    {
      "metadata": {
        "id": "PObJ6utqAtNF",
        "colab_type": "code",
        "colab": {
          "base_uri": "https://localhost:8080/",
          "height": 71
        },
        "outputId": "7176f378-2b98-43e0-f636-a774c6d6c943"
      },
      "cell_type": "code",
      "source": [
        "embed_size = 300\n",
        "nh = 128\n",
        "drop=0.75\n",
        "n_lstm_layers=1\n",
        "model = LSTM(nh,n_lstm_layers,embed_size,drop)"
      ],
      "execution_count": 39,
      "outputs": [
        {
          "output_type": "stream",
          "text": [
            "/usr/local/lib/python3.6/dist-packages/torch/nn/modules/rnn.py:38: UserWarning: dropout option adds dropout after all but last recurrent layer, so non-zero dropout expects num_layers greater than 1, but got dropout=0.75 and num_layers=1\n",
            "  \"num_layers={}\".format(dropout, num_layers))\n"
          ],
          "name": "stderr"
        }
      ]
    },
    {
      "metadata": {
        "id": "hKn5fzsc_DQO",
        "colab_type": "code",
        "outputId": "a18f0d70-0622-45d7-ac11-009a893edcf3",
        "colab": {
          "base_uri": "https://localhost:8080/",
          "height": 411
        }
      },
      "cell_type": "code",
      "source": [
        "from tqdm import tqdm\n",
        "from sklearn.metrics import accuracy_score\n",
        "from torch.optim.lr_scheduler import StepLR\n",
        "opt = optim.Adam(model.parameters(), lr=1e-3)\n",
        "loss_func = nn.BCELoss()\n",
        "epochs = 20\n",
        "batch_size = 64 \n",
        "scheduler = StepLR(opt, step_size=5, gamma=0.1)\n",
        "\n",
        "for epoch in range(1, epochs + 1):\n",
        "    running_loss = 0.0\n",
        "    running_corrects = 0\n",
        "    iterations=0\n",
        "    scheduler.step()\n",
        "    model.train() # turn on training mode\n",
        "    for x,y in tqdm(train_batch_it,disable=True): # thanks to our wrapper, we can intuitively iterate over our data!\n",
        "        iterations=iterations+1\n",
        "        opt.zero_grad()\n",
        "        (x,lengths)=x\n",
        "        predicted = model(x)\n",
        "        predicted=predicted.view(-1)\n",
        "        loss = loss_func(predicted,y.float())\n",
        "        loss.backward()\n",
        "        opt.step()\n",
        "        running_loss += loss.item() * x.size(0)\n",
        "    epoch_loss = running_loss / len(trainds)\n",
        " \n",
        "    # calculate the validation loss for this epoch\n",
        "    val_loss = 0.0\n",
        "    list_scores=[]\n",
        "    model.eval() # turn on evaluation mode\n",
        "    for x,y in tqdm(valid_batch_it,disable=True):\n",
        "        (x,lengths)=x\n",
        "        preds = model(x)\n",
        "        loss = loss_func(preds,y.float())\n",
        "        val_loss += loss.item() * x.size(0)\n",
        "        preds = [int(x>0.5) for x in preds]\n",
        "        temp=accuracy_score(preds,y)\n",
        "    \n",
        "    val_loss /= len(valds)\n",
        "    state = {\n",
        "    'epoch': epoch,\n",
        "    'state_dict': model.state_dict(),\n",
        "    'optimizer': opt.state_dict(),\n",
        "    }\n",
        "    torch.save(state, 'mytraining1'+str(epoch)+'.pt')\n",
        "    print('Epoch: {}, Training Loss: {:.4f}, Validation Loss: {:.4f}, Validation Accuracy: {:.4f}'.format(epoch, epoch_loss, val_loss,temp))\n"
      ],
      "execution_count": 40,
      "outputs": [
        {
          "output_type": "stream",
          "text": [
            "/usr/local/lib/python3.6/dist-packages/torch/nn/functional.py:1594: UserWarning: Using a target size (torch.Size([2112])) that is different to the input size (torch.Size([2112, 1])) is deprecated. Please ensure they have the same size.\n",
            "  \"Please ensure they have the same size.\".format(target.size(), input.size()))\n"
          ],
          "name": "stderr"
        },
        {
          "output_type": "stream",
          "text": [
            "Epoch: 1, Training Loss: 0.1237, Validation Loss: 0.0153, Validation Accuracy: 0.8092\n",
            "Epoch: 2, Training Loss: 0.0918, Validation Loss: 0.0149, Validation Accuracy: 0.7386\n",
            "Epoch: 3, Training Loss: 0.0842, Validation Loss: 0.0338, Validation Accuracy: 0.7391\n",
            "Epoch: 4, Training Loss: 0.0784, Validation Loss: 0.0176, Validation Accuracy: 0.7472\n",
            "Epoch: 5, Training Loss: 0.0775, Validation Loss: 0.0136, Validation Accuracy: 0.8059\n",
            "Epoch: 6, Training Loss: 0.0700, Validation Loss: 0.0142, Validation Accuracy: 0.8490\n",
            "Epoch: 7, Training Loss: 0.0659, Validation Loss: 0.0127, Validation Accuracy: 0.8527\n",
            "Epoch: 8, Training Loss: 0.0642, Validation Loss: 0.0126, Validation Accuracy: 0.8423\n",
            "Epoch: 9, Training Loss: 0.0624, Validation Loss: 0.0123, Validation Accuracy: 0.8542\n",
            "Epoch: 10, Training Loss: 0.0620, Validation Loss: 0.0121, Validation Accuracy: 0.8466\n",
            "Epoch: 11, Training Loss: 0.0606, Validation Loss: 0.0122, Validation Accuracy: 0.8442\n",
            "Epoch: 12, Training Loss: 0.0609, Validation Loss: 0.0122, Validation Accuracy: 0.8490\n",
            "Epoch: 13, Training Loss: 0.0598, Validation Loss: 0.0124, Validation Accuracy: 0.8542\n",
            "Epoch: 14, Training Loss: 0.0601, Validation Loss: 0.0123, Validation Accuracy: 0.8537\n",
            "Epoch: 15, Training Loss: 0.0603, Validation Loss: 0.0124, Validation Accuracy: 0.8518\n",
            "Epoch: 16, Training Loss: 0.0608, Validation Loss: 0.0124, Validation Accuracy: 0.8518\n",
            "Epoch: 17, Training Loss: 0.0603, Validation Loss: 0.0124, Validation Accuracy: 0.8523\n",
            "Epoch: 18, Training Loss: 0.0613, Validation Loss: 0.0124, Validation Accuracy: 0.8523\n",
            "Epoch: 19, Training Loss: 0.0601, Validation Loss: 0.0124, Validation Accuracy: 0.8523\n",
            "Epoch: 20, Training Loss: 0.0600, Validation Loss: 0.0124, Validation Accuracy: 0.8546\n"
          ],
          "name": "stdout"
        }
      ]
    },
    {
      "metadata": {
        "id": "RPzYXTZHFFhw",
        "colab_type": "code",
        "colab": {}
      },
      "cell_type": "code",
      "source": [
        "index = 20\n",
        "from google.colab import files\n",
        "files.download('mytraining'+str(index)+'.pt')"
      ],
      "execution_count": 0,
      "outputs": []
    }
  ]
}