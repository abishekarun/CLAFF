{
  "nbformat": 4,
  "nbformat_minor": 0,
  "metadata": {
    "colab": {
      "name": "fastai_agency_bilstm.ipynb",
      "version": "0.3.2",
      "provenance": [],
      "collapsed_sections": []
    },
    "kernelspec": {
      "name": "python3",
      "display_name": "Python 3"
    },
    "accelerator": "GPU"
  },
  "cells": [
    {
      "metadata": {
        "id": "EFby1DpPJy3h",
        "colab_type": "text"
      },
      "cell_type": "markdown",
      "source": [
        "## IMDb"
      ]
    },
    {
      "metadata": {
        "id": "Z4AlZjOCKbBJ",
        "colab_type": "code",
        "colab": {}
      },
      "cell_type": "code",
      "source": [
        "%%capture\n",
        "!pip install \"fastai==0.7.0\"\n",
        "!pip3 install http://download.pytorch.org/whl/cu80/torch-0.3.0.post4-cp36-cp36m-linux_x86_64.whl \n",
        "!pip3 install torchvision\n",
        "!pip3 install spacy\n",
        "!python -m spacy download en\n",
        "!pip install torchtext==0.2.3"
      ],
      "execution_count": 0,
      "outputs": []
    },
    {
      "metadata": {
        "id": "59Sf7tRCJy3j",
        "colab_type": "text"
      },
      "cell_type": "markdown",
      "source": [
        "At Fast.ai we have introduced a new module called fastai.text which replaces the torchtext library that was used in our 2018 dl1 course. The fastai.text module also supersedes the fastai.nlp library but retains many of the key functions."
      ]
    },
    {
      "metadata": {
        "id": "tMJj22t5Jy3l",
        "colab_type": "code",
        "outputId": "95166cdc-eb1e-4fac-f896-b96215701b20",
        "colab": {
          "base_uri": "https://localhost:8080/",
          "height": 71
        }
      },
      "cell_type": "code",
      "source": [
        "from fastai.text import *\n",
        "import html"
      ],
      "execution_count": 5,
      "outputs": [
        {
          "output_type": "stream",
          "text": [
            "/usr/local/lib/python3.6/dist-packages/sklearn/ensemble/weight_boosting.py:29: DeprecationWarning: numpy.core.umath_tests is an internal NumPy module and should not be imported. It will be removed in a future NumPy release.\n",
            "  from numpy.core.umath_tests import inner1d\n"
          ],
          "name": "stderr"
        }
      ]
    },
    {
      "metadata": {
        "id": "Qs48YTiOJy3q",
        "colab_type": "text"
      },
      "cell_type": "markdown",
      "source": [
        "The Fastai.text module introduces several custom tokens.\n",
        "\n",
        "We need to download the IMDB large movie reviews from this site: http://ai.stanford.edu/~amaas/data/sentiment/\n",
        "Direct link : [Link](http://ai.stanford.edu/~amaas/data/sentiment/aclImdb_v1.tar.gz) and untar it into the PATH location. We use pathlib which makes directory traveral a breeze."
      ]
    },
    {
      "metadata": {
        "id": "qGl8bsG4Jy3s",
        "colab_type": "code",
        "colab": {}
      },
      "cell_type": "code",
      "source": [
        "DATA_PATH=Path('data/')\n",
        "DATA_PATH.mkdir(exist_ok=True)"
      ],
      "execution_count": 0,
      "outputs": []
    },
    {
      "metadata": {
        "id": "waF0MZwLJy3x",
        "colab_type": "code",
        "colab": {}
      },
      "cell_type": "code",
      "source": [
        "BOS = 'xbos'  # beginning-of-sentence tag\n",
        "FLD = 'xfld'  # data field tag\n",
        "\n",
        "PATH=Path('data/claff/')"
      ],
      "execution_count": 0,
      "outputs": []
    },
    {
      "metadata": {
        "id": "sq48iZvzJy32",
        "colab_type": "text"
      },
      "cell_type": "markdown",
      "source": [
        "## Standardize format"
      ]
    },
    {
      "metadata": {
        "id": "0csRvYiHJy34",
        "colab_type": "code",
        "colab": {}
      },
      "cell_type": "code",
      "source": [
        "CLAS_PATH=Path('data/claff_clas/')\n",
        "CLAS_PATH.mkdir(exist_ok=True)\n",
        "\n",
        "LM_PATH=Path('data/claff_lm/')\n",
        "LM_PATH.mkdir(exist_ok=True)"
      ],
      "execution_count": 0,
      "outputs": []
    },
    {
      "metadata": {
        "id": "AKDC8anbJy38",
        "colab_type": "text"
      },
      "cell_type": "markdown",
      "source": [
        "The imdb dataset has 3 classes. positive, negative and unsupervised(sentiment is unknown). \n",
        "There are 75k training reviews(12.5k pos, 12.5k neg, 50k unsup)\n",
        "There are 25k validation reviews(12.5k pos, 12.5k neg & no unsup)\n",
        "\n",
        "Refer to the README file in the imdb corpus for further information about the dataset."
      ]
    },
    {
      "metadata": {
        "id": "Lhdvxcgwxjw4",
        "colab_type": "code",
        "colab": {}
      },
      "cell_type": "code",
      "source": [
        "import pandas as pd\n",
        "labeled_train = \"https://raw.githubusercontent.com/kj2013/claff-happydb/master/data/TRAIN/labeled_10k.csv\"\n",
        "unlabeled_train = \"https://raw.githubusercontent.com/kj2013/claff-happydb/master/data/TRAIN/unlabeled_70k.csv\"\n",
        "unlabeled_test = \"https://raw.githubusercontent.com/kj2013/claff-happydb/master/data/TEST/unlabeled_17k.csv\"\n",
        "\n",
        "labeled_data = pd.read_table(labeled_train,sep=',',index_col=False, error_bad_lines=False)\n",
        "unlabeled_train = pd.read_table(unlabeled_train,sep=',',index_col=False, error_bad_lines=False) \n",
        "test = pd.read_table(unlabeled_test,sep=',',index_col=False, error_bad_lines=False, encoding = \"ISO-8859-1\") "
      ],
      "execution_count": 0,
      "outputs": []
    },
    {
      "metadata": {
        "id": "f-QjiVlAxFv3",
        "colab_type": "code",
        "colab": {}
      },
      "cell_type": "code",
      "source": [
        "from sklearn.model_selection import train_test_split\n",
        "train, valid = train_test_split(labeled_data, test_size=0.2, random_state=0, stratify=labeled_data['social'])\n",
        "train = train[['moment','social']]\n",
        "valid = valid[['moment','social']]\n",
        "unlabeled_train = unlabeled_train[['moment']]\n",
        "test=test[['moment']]"
      ],
      "execution_count": 0,
      "outputs": []
    },
    {
      "metadata": {
        "id": "ZsCvQG7wELS6",
        "colab_type": "code",
        "colab": {}
      },
      "cell_type": "code",
      "source": [
        "train['moment'] = train['moment'].apply(lambda x: ' '.join(reversed(x.split())))\n",
        "valid['moment'] = valid['moment'].apply(lambda x: ' '.join(reversed(x.split())))\n",
        "unlabeled_train['moment'] = unlabeled_train['moment'].apply(lambda x: ' '.join(reversed(x.split())))\n",
        "test['moment'] = test['moment'].apply(lambda x: ' '.join(reversed(x.split())))"
      ],
      "execution_count": 0,
      "outputs": []
    },
    {
      "metadata": {
        "id": "Z58vT24gxHs_",
        "colab_type": "code",
        "colab": {}
      },
      "cell_type": "code",
      "source": [
        "from sklearn import preprocessing\n",
        "le = preprocessing.LabelEncoder()\n",
        "train['social'] = le.fit_transform(train['social'])\n",
        "valid['social'] = le.transform(valid['social'])"
      ],
      "execution_count": 0,
      "outputs": []
    },
    {
      "metadata": {
        "id": "9Ac8pw1jyRhr",
        "colab_type": "code",
        "colab": {}
      },
      "cell_type": "code",
      "source": [
        "col_names = ['text','labels']\n",
        "train.columns = col_names\n",
        "valid.columns = col_names"
      ],
      "execution_count": 0,
      "outputs": []
    },
    {
      "metadata": {
        "id": "466L2L6qJy4i",
        "colab_type": "text"
      },
      "cell_type": "markdown",
      "source": [
        "The pandas dataframe is used to store text data in a newly evolving standard format of label followed by text columns. This was influenced by a paper by Yann LeCun (LINK REQUIRED). Fastai adopts this new format for NLP datasets. In the case of IMDB, there is only one text column."
      ]
    },
    {
      "metadata": {
        "id": "tKXm5JiUJy4j",
        "colab_type": "code",
        "colab": {}
      },
      "cell_type": "code",
      "source": [
        "df_trn = pd.DataFrame({'labels':train['labels'],'text':train['text']}, columns=col_names)\n",
        "df_val = pd.DataFrame({'labels':valid['labels'],'text':valid['text']}, columns=col_names)\n",
        "df_trn=df_trn[['labels','text']]\n",
        "df_val=df_val[['labels','text']]\n",
        "\n",
        "df_trn.to_csv(CLAS_PATH/'train.csv', header=False, index=False)\n",
        "df_val.to_csv(CLAS_PATH/'test.csv', header=False, index=False)\n",
        "\n",
        "CLASSES = ['yes', 'no', 'unsup']\n",
        "(CLAS_PATH/'classes.txt').open('w', encoding='utf-8').writelines(f'{o}\\n' for o in CLASSES)"
      ],
      "execution_count": 0,
      "outputs": []
    },
    {
      "metadata": {
        "id": "JzD_Bb6UMk35",
        "colab_type": "code",
        "colab": {}
      },
      "cell_type": "code",
      "source": [
        "unlabeled_train.to_csv(CLAS_PATH/'unlabeled_train.csv', header=False, index=False)"
      ],
      "execution_count": 0,
      "outputs": []
    },
    {
      "metadata": {
        "id": "1MTQL3dUJy4p",
        "colab_type": "text"
      },
      "cell_type": "markdown",
      "source": [
        "We start by creating the data for the Language Model(LM). The LM's goal is to learn the structure of the english language. It learns language by trying to predict the next word given a set of previous words(ngrams). Since the LM does not classify reviews, the labels can be ignored.\n",
        "\n",
        "The LM can benefit from all the textual data and there is no need to exclude the unsup/unclassified movie reviews.\n",
        "\n",
        "We first concat all the train(pos/neg/unsup = **75k**) and test(pos/neg=**25k**) reviews into a big chunk of **100k** reviews. And then we use sklearn splitter to divide up the 100k texts into 90% training and 10% validation sets."
      ]
    },
    {
      "metadata": {
        "id": "2E4LYJWNJy4q",
        "colab_type": "code",
        "colab": {}
      },
      "cell_type": "code",
      "source": [
        "trn_texts,val_texts = sklearn.model_selection.train_test_split(\n",
        "    np.concatenate([train.text,valid.text,unlabeled_train.moment]), test_size=0.1)"
      ],
      "execution_count": 0,
      "outputs": []
    },
    {
      "metadata": {
        "id": "n4yCiSGHJy4u",
        "colab_type": "code",
        "outputId": "79909d4b-ebf9-41aa-9cac-70c5afde2c33",
        "colab": {
          "base_uri": "https://localhost:8080/",
          "height": 34
        }
      },
      "cell_type": "code",
      "source": [
        "len(trn_texts), len(val_texts)"
      ],
      "execution_count": 17,
      "outputs": [
        {
          "output_type": "execute_result",
          "data": {
            "text/plain": [
              "(74595, 8289)"
            ]
          },
          "metadata": {
            "tags": []
          },
          "execution_count": 17
        }
      ]
    },
    {
      "metadata": {
        "id": "ae1n2mPJJy42",
        "colab_type": "code",
        "colab": {}
      },
      "cell_type": "code",
      "source": [
        "df_trn = pd.DataFrame({'text':trn_texts,'labels':[0]*len(trn_texts)}, columns=col_names)\n",
        "df_val = pd.DataFrame({'text':val_texts,'labels':[0]*len(val_texts)}, columns=col_names)\n",
        "df_trn=df_trn[['labels','text']]\n",
        "df_val=df_val[['labels','text']]\n",
        "\n",
        "df_trn.to_csv(LM_PATH/'train.csv', sep=',',header=False, index=False)\n",
        "df_val.to_csv(LM_PATH/'test.csv',sep=',', header=False, index=False)"
      ],
      "execution_count": 0,
      "outputs": []
    },
    {
      "metadata": {
        "id": "VzbjACItJy48",
        "colab_type": "text"
      },
      "cell_type": "markdown",
      "source": [
        "## Language model tokens"
      ]
    },
    {
      "metadata": {
        "id": "Tp6QZDo2Jy5C",
        "colab_type": "text"
      },
      "cell_type": "markdown",
      "source": [
        "In this section, we start cleaning up the messy text. There are 2 main activities we need to perform:\n",
        "\n",
        "1. Clean up extra spaces, tab chars, new ln chars and other characters and replace them with standard ones\n",
        "2. Use the awesome [spacy](http://spacy.io) library to tokenize the data. Since spacy does not provide a parallel/multicore version of the tokenizer, the fastai library adds this functionality. This parallel version uses all the cores of your CPUs and runs much faster than the serial version of the spacy tokenizer.\n",
        "\n",
        "Tokenization is the process of splitting the text into separate tokens so that each token can be assigned a unique index. This means we can convert the text into integer indexes our models can use.\n",
        "\n",
        "We use an appropriate chunksize as the tokenization process is memory intensive"
      ]
    },
    {
      "metadata": {
        "id": "hI85dPyiJy5G",
        "colab_type": "code",
        "colab": {}
      },
      "cell_type": "code",
      "source": [
        "chunksize=24000"
      ],
      "execution_count": 0,
      "outputs": []
    },
    {
      "metadata": {
        "id": "8K3THWAlJy5M",
        "colab_type": "code",
        "colab": {}
      },
      "cell_type": "code",
      "source": [
        "re1 = re.compile(r'  +')\n",
        "\n",
        "def fixup(x):\n",
        "    x = x.replace('#39;', \"'\").replace('amp;', '&').replace('#146;', \"'\").replace(\n",
        "        'nbsp;', ' ').replace('#36;', '$').replace('\\\\n', \"\\n\").replace('quot;', \"'\").replace(\n",
        "        '<br />', \"\\n\").replace('\\\\\"', '\"').replace('<unk>','u_n').replace(' @.@ ','.').replace(\n",
        "        ' @-@ ','-').replace('\\\\', ' \\\\ ')\n",
        "    return re1.sub(' ', html.unescape(x))"
      ],
      "execution_count": 0,
      "outputs": []
    },
    {
      "metadata": {
        "id": "DvneidKNJy5Q",
        "colab_type": "code",
        "colab": {}
      },
      "cell_type": "code",
      "source": [
        "def get_texts(df, n_lbls=1):\n",
        "    labels = df.iloc[:,range(n_lbls)].values.astype(np.int64)\n",
        "    texts = f'\\n{BOS} {FLD} 1 ' + df[n_lbls].astype(str)\n",
        "    for i in range(n_lbls+1, len(df.columns)): texts += f' {FLD} {i-n_lbls} ' + df[i].astype(str)\n",
        "    texts = list(texts.apply(fixup).values)\n",
        "    tok = Tokenizer().proc_all_mp(partition_by_cores(texts))\n",
        "    return tok, list(labels)"
      ],
      "execution_count": 0,
      "outputs": []
    },
    {
      "metadata": {
        "id": "gocAiwV2Jy5U",
        "colab_type": "code",
        "colab": {}
      },
      "cell_type": "code",
      "source": [
        "def get_all(df, n_lbls):\n",
        "    tok, labels = [], []\n",
        "    for i, r in enumerate(df):\n",
        "        print(i)\n",
        "        tok_, labels_ = get_texts(r, n_lbls)\n",
        "        tok += tok_;\n",
        "        labels += labels_\n",
        "    return tok, labels"
      ],
      "execution_count": 0,
      "outputs": []
    },
    {
      "metadata": {
        "id": "sCyfinVIJy5X",
        "colab_type": "code",
        "colab": {}
      },
      "cell_type": "code",
      "source": [
        "df_trn = pd.read_csv(LM_PATH/'train.csv',sep=',',header=None, chunksize=chunksize)\n",
        "df_val = pd.read_csv(LM_PATH/'test.csv',sep=',', header=None, chunksize=chunksize)"
      ],
      "execution_count": 0,
      "outputs": []
    },
    {
      "metadata": {
        "id": "TkLigiVDJy5b",
        "colab_type": "code",
        "outputId": "af3e1f35-22cb-491a-e6e9-56669d71face",
        "colab": {
          "base_uri": "https://localhost:8080/",
          "height": 102
        }
      },
      "cell_type": "code",
      "source": [
        "tok_trn, trn_labels = get_all(df_trn, 1)\n",
        "tok_val, val_labels = get_all(df_val, 1)"
      ],
      "execution_count": 24,
      "outputs": [
        {
          "output_type": "stream",
          "text": [
            "0\n",
            "1\n",
            "2\n",
            "3\n",
            "0\n"
          ],
          "name": "stdout"
        }
      ]
    },
    {
      "metadata": {
        "id": "F1HQf35aJy5g",
        "colab_type": "code",
        "colab": {}
      },
      "cell_type": "code",
      "source": [
        "(LM_PATH/'tmp').mkdir(exist_ok=True)"
      ],
      "execution_count": 0,
      "outputs": []
    },
    {
      "metadata": {
        "id": "jnMV4emIJy5k",
        "colab_type": "code",
        "colab": {}
      },
      "cell_type": "code",
      "source": [
        "np.save(LM_PATH/'tmp'/'tok_trn.npy', tok_trn)\n",
        "np.save(LM_PATH/'tmp'/'tok_val.npy', tok_val)"
      ],
      "execution_count": 0,
      "outputs": []
    },
    {
      "metadata": {
        "id": "NhzZ_tnBJy5n",
        "colab_type": "code",
        "colab": {}
      },
      "cell_type": "code",
      "source": [
        "tok_trn = np.load(LM_PATH/'tmp'/'tok_trn.npy')\n",
        "tok_val = np.load(LM_PATH/'tmp'/'tok_val.npy')"
      ],
      "execution_count": 0,
      "outputs": []
    },
    {
      "metadata": {
        "id": "HDk87Bu2Jy5u",
        "colab_type": "code",
        "outputId": "085508e3-fd11-4380-d5fc-0f139ddf78a1",
        "colab": {
          "base_uri": "https://localhost:8080/",
          "height": 442
        }
      },
      "cell_type": "code",
      "source": [
        "freq = Counter(p for o in tok_trn for p in o)\n",
        "freq.most_common(25)"
      ],
      "execution_count": 28,
      "outputs": [
        {
          "output_type": "execute_result",
          "data": {
            "text/plain": [
              "[('1', 74838),\n",
              " ('\\n', 74595),\n",
              " ('xbos', 74595),\n",
              " ('xfld', 74595),\n",
              " ('i', 65889),\n",
              " ('.', 59814),\n",
              " ('my', 47369),\n",
              " ('a', 45686),\n",
              " ('to', 31873),\n",
              " ('and', 29530),\n",
              " ('the', 26681),\n",
              " ('was', 17196),\n",
              " ('t_up', 16806),\n",
              " ('for', 16483),\n",
              " ('me', 14480),\n",
              " ('in', 14465),\n",
              " ('with', 13969),\n",
              " (',', 13728),\n",
              " ('of', 13084),\n",
              " ('that', 11970),\n",
              " ('happy', 9998),\n",
              " ('on', 9482),\n",
              " ('got', 9438),\n",
              " ('it', 7975),\n",
              " ('had', 7952)]"
            ]
          },
          "metadata": {
            "tags": []
          },
          "execution_count": 28
        }
      ]
    },
    {
      "metadata": {
        "id": "zJlna0XUJy52",
        "colab_type": "text"
      },
      "cell_type": "markdown",
      "source": [
        "The *vocab* is the **unique set of all tokens** in our dataset. The vocab provides us a way for us to simply replace each word in our datasets with a unique integer called an index.\n",
        "\n",
        "In a large corpus of data one might find some rare words which are only used a few times in the whole dataset. We discard such rare words and avoid trying to learn meaningful patterns out of them.\n",
        "\n",
        "Here we have set a minimum frequency of occurence to 2 times. It has been observed by NLP practicioners that a maximum vocab of 60k usually yields good results for classification tasks. So we set maz_vocab to 60000."
      ]
    },
    {
      "metadata": {
        "id": "udI_7jJNJy53",
        "colab_type": "code",
        "colab": {}
      },
      "cell_type": "code",
      "source": [
        "max_vocab = 60000\n",
        "min_freq = 2"
      ],
      "execution_count": 0,
      "outputs": []
    },
    {
      "metadata": {
        "id": "g52RDc1vJy58",
        "colab_type": "code",
        "colab": {}
      },
      "cell_type": "code",
      "source": [
        "itos = [o for o,c in freq.most_common(max_vocab) if c>min_freq]\n",
        "itos.insert(0, '_pad_')\n",
        "itos.insert(0, '_unk_')"
      ],
      "execution_count": 0,
      "outputs": []
    },
    {
      "metadata": {
        "id": "ZSg_bcrIJy6A",
        "colab_type": "text"
      },
      "cell_type": "markdown",
      "source": [
        "We create a reverse mapping called stoi which is useful to lookup the index of a given token. stoi also has the same number of elements as itos. We use a high performance container called [collections.defaultdict](https://docs.python.org/2/library/collections.html#collections.defaultdict) to store our stoi mapping."
      ]
    },
    {
      "metadata": {
        "id": "oAmml2YhJy6C",
        "colab_type": "code",
        "outputId": "776b193c-b9b3-4820-b185-50c6c7c6f535",
        "colab": {
          "base_uri": "https://localhost:8080/",
          "height": 34
        }
      },
      "cell_type": "code",
      "source": [
        "stoi = collections.defaultdict(lambda:0, {v:k for k,v in enumerate(itos)})\n",
        "len(itos)"
      ],
      "execution_count": 31,
      "outputs": [
        {
          "output_type": "execute_result",
          "data": {
            "text/plain": [
              "8661"
            ]
          },
          "metadata": {
            "tags": []
          },
          "execution_count": 31
        }
      ]
    },
    {
      "metadata": {
        "id": "0Pt58rHnJy6J",
        "colab_type": "code",
        "colab": {}
      },
      "cell_type": "code",
      "source": [
        "trn_lm = np.array([[stoi[o] for o in p] for p in tok_trn])\n",
        "val_lm = np.array([[stoi[o] for o in p] for p in tok_val])"
      ],
      "execution_count": 0,
      "outputs": []
    },
    {
      "metadata": {
        "id": "9PiG2q6zJy6P",
        "colab_type": "code",
        "colab": {}
      },
      "cell_type": "code",
      "source": [
        "np.save(LM_PATH/'tmp'/'trn_ids.npy', trn_lm)\n",
        "np.save(LM_PATH/'tmp'/'val_ids.npy', val_lm)\n",
        "pickle.dump(itos, open(LM_PATH/'tmp'/'itos.pkl', 'wb'))"
      ],
      "execution_count": 0,
      "outputs": []
    },
    {
      "metadata": {
        "id": "i4tTzU0bJy6S",
        "colab_type": "code",
        "colab": {}
      },
      "cell_type": "code",
      "source": [
        "trn_lm = np.load(LM_PATH/'tmp'/'trn_ids.npy')\n",
        "val_lm = np.load(LM_PATH/'tmp'/'val_ids.npy')\n",
        "itos = pickle.load(open(LM_PATH/'tmp'/'itos.pkl', 'rb'))"
      ],
      "execution_count": 0,
      "outputs": []
    },
    {
      "metadata": {
        "id": "hot4ZQ9wJy6W",
        "colab_type": "code",
        "outputId": "305cf042-19c2-4890-be45-2a63823414e8",
        "colab": {
          "base_uri": "https://localhost:8080/",
          "height": 34
        }
      },
      "cell_type": "code",
      "source": [
        "vs=len(itos)\n",
        "vs,len(trn_lm)"
      ],
      "execution_count": 35,
      "outputs": [
        {
          "output_type": "execute_result",
          "data": {
            "text/plain": [
              "(8661, 74595)"
            ]
          },
          "metadata": {
            "tags": []
          },
          "execution_count": 35
        }
      ]
    },
    {
      "metadata": {
        "id": "6nD_TQ8YJy6b",
        "colab_type": "text"
      },
      "cell_type": "markdown",
      "source": [
        "## wikitext103 conversion"
      ]
    },
    {
      "metadata": {
        "id": "ieu1JG50Jy6c",
        "colab_type": "text"
      },
      "cell_type": "markdown",
      "source": [
        "We are now going to build an english language model for the IMDB corpus. We could start from scratch and try to learn the structure of the english language. But we use a technique called transfer learning to make this process easier. In transfer learning (a fairly recent idea for NLP) a pre-trained LM that has been trained on a large generic corpus(_like wikipedia articles_) can be used to transfer it's knowledge to a target LM and the weights can be fine-tuned.\n",
        "\n",
        "Our source LM is the wikitext103 LM created by Stephen Merity @ Salesforce research. [Link to dataset](https://www.salesforce.com/products/einstein/ai-research/the-wikitext-dependency-language-modeling-dataset/)\n",
        "The language model for wikitext103 (AWD LSTM) has been pre-trained and the weights can be downloaded here: [Link](http://files.fast.ai/models/wt103/). Our target LM is the IMDB LM. "
      ]
    },
    {
      "metadata": {
        "id": "nzHsResjJy6c",
        "colab_type": "code",
        "outputId": "6eab9256-ea56-4754-ba13-8e91fde9ffe0",
        "colab": {
          "base_uri": "https://localhost:8080/",
          "height": 2567
        }
      },
      "cell_type": "code",
      "source": [
        "! wget -nH -r -np -P {PATH} http://files.fast.ai/models/wt103/"
      ],
      "execution_count": 36,
      "outputs": [
        {
          "output_type": "stream",
          "text": [
            "--2018-12-09 19:35:36--  http://files.fast.ai/models/wt103/\n",
            "Resolving files.fast.ai (files.fast.ai)... 67.205.15.147\n",
            "Connecting to files.fast.ai (files.fast.ai)|67.205.15.147|:80... connected.\n",
            "HTTP request sent, awaiting response... 200 OK\n",
            "Length: 857 [text/html]\n",
            "Saving to: ‘data/claff/models/wt103/index.html’\n",
            "\n",
            "\rmodels/wt103/index.   0%[                    ]       0  --.-KB/s               \rmodels/wt103/index. 100%[===================>]     857  --.-KB/s    in 0s      \n",
            "\n",
            "2018-12-09 19:35:36 (97.4 MB/s) - ‘data/claff/models/wt103/index.html’ saved [857/857]\n",
            "\n",
            "Loading robots.txt; please ignore errors.\n",
            "--2018-12-09 19:35:36--  http://files.fast.ai/robots.txt\n",
            "Reusing existing connection to files.fast.ai:80.\n",
            "HTTP request sent, awaiting response... 404 Not Found\n",
            "2018-12-09 19:35:36 ERROR 404: Not Found.\n",
            "\n",
            "--2018-12-09 19:35:36--  http://files.fast.ai/models/wt103/?C=N;O=D\n",
            "Reusing existing connection to files.fast.ai:80.\n",
            "HTTP request sent, awaiting response... 200 OK\n",
            "Length: 857 [text/html]\n",
            "Saving to: ‘data/claff/models/wt103/index.html?C=N;O=D’\n",
            "\n",
            "\r          models/wt   0%[                    ]       0  --.-KB/s               \rmodels/wt103/index. 100%[===================>]     857  --.-KB/s    in 0s      \n",
            "\n",
            "2018-12-09 19:35:36 (108 MB/s) - ‘data/claff/models/wt103/index.html?C=N;O=D’ saved [857/857]\n",
            "\n",
            "--2018-12-09 19:35:36--  http://files.fast.ai/models/wt103/?C=M;O=A\n",
            "Reusing existing connection to files.fast.ai:80.\n",
            "HTTP request sent, awaiting response... 200 OK\n",
            "Length: 857 [text/html]\n",
            "Saving to: ‘data/claff/models/wt103/index.html?C=M;O=A’\n",
            "\n",
            "\r          models/wt   0%[                    ]       0  --.-KB/s               \rmodels/wt103/index. 100%[===================>]     857  --.-KB/s    in 0s      \n",
            "\n",
            "2018-12-09 19:35:36 (104 MB/s) - ‘data/claff/models/wt103/index.html?C=M;O=A’ saved [857/857]\n",
            "\n",
            "--2018-12-09 19:35:36--  http://files.fast.ai/models/wt103/?C=S;O=A\n",
            "Reusing existing connection to files.fast.ai:80.\n",
            "HTTP request sent, awaiting response... 200 OK\n",
            "Length: 857 [text/html]\n",
            "Saving to: ‘data/claff/models/wt103/index.html?C=S;O=A’\n",
            "\n",
            "\r          models/wt   0%[                    ]       0  --.-KB/s               \rmodels/wt103/index. 100%[===================>]     857  --.-KB/s    in 0s      \n",
            "\n",
            "2018-12-09 19:35:36 (95.8 MB/s) - ‘data/claff/models/wt103/index.html?C=S;O=A’ saved [857/857]\n",
            "\n",
            "--2018-12-09 19:35:36--  http://files.fast.ai/models/wt103/?C=D;O=A\n",
            "Reusing existing connection to files.fast.ai:80.\n",
            "HTTP request sent, awaiting response... 200 OK\n",
            "Length: 857 [text/html]\n",
            "Saving to: ‘data/claff/models/wt103/index.html?C=D;O=A’\n",
            "\n",
            "\r          models/wt   0%[                    ]       0  --.-KB/s               \rmodels/wt103/index. 100%[===================>]     857  --.-KB/s    in 0s      \n",
            "\n",
            "2018-12-09 19:35:36 (105 MB/s) - ‘data/claff/models/wt103/index.html?C=D;O=A’ saved [857/857]\n",
            "\n",
            "--2018-12-09 19:35:36--  http://files.fast.ai/models/wt103/bwd_wt103.h5\n",
            "Reusing existing connection to files.fast.ai:80.\n",
            "HTTP request sent, awaiting response... 200 OK\n",
            "Length: 462387687 (441M) [text/plain]\n",
            "Saving to: ‘data/claff/models/wt103/bwd_wt103.h5’\n",
            "\n",
            "models/wt103/bwd_wt 100%[===================>] 440.97M   102MB/s    in 4.5s    \n",
            "\n",
            "2018-12-09 19:35:41 (97.7 MB/s) - ‘data/claff/models/wt103/bwd_wt103.h5’ saved [462387687/462387687]\n",
            "\n",
            "--2018-12-09 19:35:41--  http://files.fast.ai/models/wt103/bwd_wt103_enc.h5\n",
            "Reusing existing connection to files.fast.ai:80.\n",
            "HTTP request sent, awaiting response... 200 OK\n",
            "Length: 462387634 (441M) [text/plain]\n",
            "Saving to: ‘data/claff/models/wt103/bwd_wt103_enc.h5’\n",
            "\n",
            "models/wt103/bwd_wt 100%[===================>] 440.97M   102MB/s    in 4.3s    \n",
            "\n",
            "2018-12-09 19:35:45 (103 MB/s) - ‘data/claff/models/wt103/bwd_wt103_enc.h5’ saved [462387634/462387634]\n",
            "\n",
            "--2018-12-09 19:35:45--  http://files.fast.ai/models/wt103/fwd_wt103.h5\n",
            "Reusing existing connection to files.fast.ai:80.\n",
            "HTTP request sent, awaiting response... 200 OK\n",
            "Length: 462387687 (441M) [text/plain]\n",
            "Saving to: ‘data/claff/models/wt103/fwd_wt103.h5’\n",
            "\n",
            "models/wt103/fwd_wt 100%[===================>] 440.97M  75.2MB/s    in 5.4s    \n",
            "\n",
            "2018-12-09 19:35:50 (82.4 MB/s) - ‘data/claff/models/wt103/fwd_wt103.h5’ saved [462387687/462387687]\n",
            "\n",
            "--2018-12-09 19:35:50--  http://files.fast.ai/models/wt103/fwd_wt103_enc.h5\n",
            "Reusing existing connection to files.fast.ai:80.\n",
            "HTTP request sent, awaiting response... 200 OK\n",
            "Length: 462387634 (441M) [text/plain]\n",
            "Saving to: ‘data/claff/models/wt103/fwd_wt103_enc.h5’\n",
            "\n",
            "models/wt103/fwd_wt 100%[===================>] 440.97M  74.6MB/s    in 5.8s    \n",
            "\n",
            "2018-12-09 19:35:56 (75.8 MB/s) - ‘data/claff/models/wt103/fwd_wt103_enc.h5’ saved [462387634/462387634]\n",
            "\n",
            "--2018-12-09 19:35:56--  http://files.fast.ai/models/wt103/itos_wt103.pkl\n",
            "Reusing existing connection to files.fast.ai:80.\n",
            "HTTP request sent, awaiting response... 200 OK\n",
            "Length: 4161252 (4.0M) [text/plain]\n",
            "Saving to: ‘data/claff/models/wt103/itos_wt103.pkl’\n",
            "\n",
            "models/wt103/itos_w 100%[===================>]   3.97M  --.-KB/s    in 0.06s   \n",
            "\n",
            "2018-12-09 19:35:56 (69.6 MB/s) - ‘data/claff/models/wt103/itos_wt103.pkl’ saved [4161252/4161252]\n",
            "\n",
            "--2018-12-09 19:35:56--  http://files.fast.ai/models/wt103/?C=N;O=A\n",
            "Reusing existing connection to files.fast.ai:80.\n",
            "HTTP request sent, awaiting response... 200 OK\n",
            "Length: 857 [text/html]\n",
            "Saving to: ‘data/claff/models/wt103/index.html?C=N;O=A’\n",
            "\n",
            "models/wt103/index. 100%[===================>]     857  --.-KB/s    in 0s      \n",
            "\n",
            "2018-12-09 19:35:56 (125 MB/s) - ‘data/claff/models/wt103/index.html?C=N;O=A’ saved [857/857]\n",
            "\n",
            "--2018-12-09 19:35:56--  http://files.fast.ai/models/wt103/?C=M;O=D\n",
            "Reusing existing connection to files.fast.ai:80.\n",
            "HTTP request sent, awaiting response... 200 OK\n",
            "Length: 857 [text/html]\n",
            "Saving to: ‘data/claff/models/wt103/index.html?C=M;O=D’\n",
            "\n",
            "models/wt103/index. 100%[===================>]     857  --.-KB/s    in 0s      \n",
            "\n",
            "2018-12-09 19:35:56 (43.2 MB/s) - ‘data/claff/models/wt103/index.html?C=M;O=D’ saved [857/857]\n",
            "\n",
            "--2018-12-09 19:35:56--  http://files.fast.ai/models/wt103/?C=S;O=D\n",
            "Reusing existing connection to files.fast.ai:80.\n",
            "HTTP request sent, awaiting response... 200 OK\n",
            "Length: 857 [text/html]\n",
            "Saving to: ‘data/claff/models/wt103/index.html?C=S;O=D’\n",
            "\n",
            "models/wt103/index. 100%[===================>]     857  --.-KB/s    in 0s      \n",
            "\n",
            "2018-12-09 19:35:56 (80.1 MB/s) - ‘data/claff/models/wt103/index.html?C=S;O=D’ saved [857/857]\n",
            "\n",
            "--2018-12-09 19:35:56--  http://files.fast.ai/models/wt103/?C=D;O=D\n",
            "Reusing existing connection to files.fast.ai:80.\n",
            "HTTP request sent, awaiting response... 200 OK\n",
            "Length: 857 [text/html]\n",
            "Saving to: ‘data/claff/models/wt103/index.html?C=D;O=D’\n",
            "\n",
            "models/wt103/index. 100%[===================>]     857  --.-KB/s    in 0s      \n",
            "\n",
            "2018-12-09 19:35:57 (133 MB/s) - ‘data/claff/models/wt103/index.html?C=D;O=D’ saved [857/857]\n",
            "\n",
            "FINISHED --2018-12-09 19:35:57--\n",
            "Total wall clock time: 21s\n",
            "Downloaded: 14 files, 1.7G in 20s (88.3 MB/s)\n"
          ],
          "name": "stdout"
        }
      ]
    },
    {
      "metadata": {
        "id": "hG6jZx0DJy6f",
        "colab_type": "text"
      },
      "cell_type": "markdown",
      "source": [
        "The pre-trained LM weights have an embedding size of 400, 1150 hidden units and just 3 layers. We need to match these values  with the target IMDB LM so that the weights can be loaded up."
      ]
    },
    {
      "metadata": {
        "id": "knuW_hosJy6g",
        "colab_type": "code",
        "colab": {}
      },
      "cell_type": "code",
      "source": [
        "em_sz,nh,nl = 400,1150,3"
      ],
      "execution_count": 0,
      "outputs": []
    },
    {
      "metadata": {
        "id": "coPPJC_yJy6n",
        "colab_type": "code",
        "colab": {}
      },
      "cell_type": "code",
      "source": [
        "PRE_PATH = PATH/'models'/'wt103'\n",
        "PRE_LM_PATH = PRE_PATH/'bwd_wt103.h5'"
      ],
      "execution_count": 0,
      "outputs": []
    },
    {
      "metadata": {
        "id": "lNkAfjkBJy6x",
        "colab_type": "code",
        "colab": {}
      },
      "cell_type": "code",
      "source": [
        "wgts = torch.load(PRE_LM_PATH, map_location=lambda storage, loc: storage)"
      ],
      "execution_count": 0,
      "outputs": []
    },
    {
      "metadata": {
        "id": "1b4fAIokJy61",
        "colab_type": "text"
      },
      "cell_type": "markdown",
      "source": [
        "We calculate the mean of the layer0 encoder weights. This can be used to assign weights to unknown tokens when we transfer to target IMDB LM."
      ]
    },
    {
      "metadata": {
        "id": "IVUlNx18Jy63",
        "colab_type": "code",
        "colab": {}
      },
      "cell_type": "code",
      "source": [
        "enc_wgts = to_np(wgts['0.encoder.weight'])\n",
        "row_m = enc_wgts.mean(0)"
      ],
      "execution_count": 0,
      "outputs": []
    },
    {
      "metadata": {
        "id": "NbeC5CUmJy69",
        "colab_type": "code",
        "colab": {}
      },
      "cell_type": "code",
      "source": [
        "itos2 = pickle.load((PRE_PATH/'itos_wt103.pkl').open('rb'))\n",
        "stoi2 = collections.defaultdict(lambda:-1, {v:k for k,v in enumerate(itos2)})"
      ],
      "execution_count": 0,
      "outputs": []
    },
    {
      "metadata": {
        "id": "Oh5RWUKDJy7B",
        "colab_type": "text"
      },
      "cell_type": "markdown",
      "source": [
        "Before we try to transfer the knowledge from wikitext to the IMDB LM, we match up the vocab words and their indexes. \n",
        "We use the defaultdict container once again, to assign mean weights to unknown IMDB tokens that do not exist in wikitext103."
      ]
    },
    {
      "metadata": {
        "id": "kzrX-L-eJy7C",
        "colab_type": "code",
        "colab": {}
      },
      "cell_type": "code",
      "source": [
        "new_w = np.zeros((vs, em_sz), dtype=np.float32)\n",
        "for i,w in enumerate(itos):\n",
        "    r = stoi2[w]\n",
        "    new_w[i] = enc_wgts[r] if r>=0 else row_m"
      ],
      "execution_count": 0,
      "outputs": []
    },
    {
      "metadata": {
        "id": "prPkyjnjJy7H",
        "colab_type": "text"
      },
      "cell_type": "markdown",
      "source": [
        "We now overwrite the weights into the wgts odict.\n",
        "The decoder module, which we will explore in detail is also loaded with the same weights due to an idea called weight tying."
      ]
    },
    {
      "metadata": {
        "id": "0GsVOrbxJy7I",
        "colab_type": "code",
        "colab": {}
      },
      "cell_type": "code",
      "source": [
        "wgts['0.encoder.weight'] = T(new_w)\n",
        "wgts['0.encoder_with_dropout.embed.weight'] = T(np.copy(new_w))\n",
        "wgts['1.decoder.weight'] = T(np.copy(new_w))"
      ],
      "execution_count": 0,
      "outputs": []
    },
    {
      "metadata": {
        "id": "lN_7H1Y-Jy7L",
        "colab_type": "text"
      },
      "cell_type": "markdown",
      "source": [
        "Now that we have the weights prepared, we are ready to create and start training our new IMDB language pytorch model!"
      ]
    },
    {
      "metadata": {
        "id": "eRIAV3tGJy7N",
        "colab_type": "text"
      },
      "cell_type": "markdown",
      "source": [
        "## Language model"
      ]
    },
    {
      "metadata": {
        "id": "T_H_yHyrJy7O",
        "colab_type": "text"
      },
      "cell_type": "markdown",
      "source": [
        "It is fairly straightforward to create a new language model using the fastai library. Like every other lesson, our model will have a backbone and a custom head. The backbone in our case is the IMDB LM pre-trained with wikitext and the custom head is a linear classifier. In this section we will focus on the backbone LM and the next section will talk about the classifier custom head.\n",
        "\n",
        "bptt (*also known traditionally in NLP LM as ngrams*) in fastai LMs is approximated to a std. deviation around 70, by perturbing the sequence length on a per-batch basis. This is akin to shuffling our data in computer vision, only that in NLP we cannot shuffle inputs and we have to maintain statefulness. \n",
        "\n",
        "Since we are predicting words using ngrams, we want our next batch to line up with the end-points of the previous mini-batch's items. batch-size is constant and but the fastai library expands and contracts bptt each mini-batch using a clever stochastic implementation of a batch. (original credits attributed to [Smerity](https://twitter.com/jeremyphoward/status/980227258395770882))"
      ]
    },
    {
      "metadata": {
        "id": "kJ42ceddJy7Q",
        "colab_type": "code",
        "colab": {}
      },
      "cell_type": "code",
      "source": [
        "wd=1e-7\n",
        "bptt=70\n",
        "bs=52\n",
        "opt_fn = partial(optim.Adam, betas=(0.8, 0.99))"
      ],
      "execution_count": 0,
      "outputs": []
    },
    {
      "metadata": {
        "id": "1PX7xmjWJy7T",
        "colab_type": "text"
      },
      "cell_type": "markdown",
      "source": [
        "The goal of the LM is to learn to predict a word/token given a preceeding set of words(tokens). We take all the movie reviews in both the 90k training set and 10k validation set and concatenate them to form long strings of tokens. In fastai, we use the `LanguageModelLoader` to create a data loader which makes it easy to create and use bptt sized mini batches. The  `LanguageModelLoader` takes a concatenated string of tokens and returns a loader.\n",
        "\n",
        "We have a special modeldata object class for LMs called `LanguageModelData` to which we can pass the training and validation loaders and get in return the model itself."
      ]
    },
    {
      "metadata": {
        "id": "FHEfNJ_uJy7X",
        "colab_type": "code",
        "colab": {}
      },
      "cell_type": "code",
      "source": [
        "trn_dl = LanguageModelLoader(np.concatenate(trn_lm), bs, bptt)\n",
        "val_dl = LanguageModelLoader(np.concatenate(val_lm), bs, bptt)\n",
        "md = LanguageModelData(PATH, 1, vs, trn_dl, val_dl, bs=bs, bptt=bptt)"
      ],
      "execution_count": 0,
      "outputs": []
    },
    {
      "metadata": {
        "id": "Ucg-R2waJy7d",
        "colab_type": "text"
      },
      "cell_type": "markdown",
      "source": [
        "We setup the dropouts for the model - these values have been chosen after experimentation. If you need to update them for custom LMs, you can change the weighting factor (0.7 here) based on the amount of data you have. For more data, you can reduce dropout factor and for small datasets, you can reduce overfitting by choosing a higher dropout factor. *No other dropout value requires tuning*"
      ]
    },
    {
      "metadata": {
        "id": "H-uvI9SWJy7g",
        "colab_type": "code",
        "colab": {}
      },
      "cell_type": "code",
      "source": [
        "drops = np.array([0.25, 0.1, 0.2, 0.02, 0.15])*0.9"
      ],
      "execution_count": 0,
      "outputs": []
    },
    {
      "metadata": {
        "id": "LihTTcytJy7j",
        "colab_type": "text"
      },
      "cell_type": "markdown",
      "source": [
        "We first tune the last embedding layer so that the missing tokens initialized with mean weights get tuned properly. So we freeze everything except the last layer.\n",
        "\n",
        "We also keep track of the *accuracy* metric."
      ]
    },
    {
      "metadata": {
        "id": "grqK7ibQJy7j",
        "colab_type": "code",
        "colab": {}
      },
      "cell_type": "code",
      "source": [
        "learner= md.get_model(opt_fn, em_sz, nh, nl, \n",
        "    dropouti=drops[0], dropout=drops[1], wdrop=drops[2], dropoute=drops[3], dropouth=drops[4])\n",
        "\n",
        "learner.metrics = [accuracy]\n",
        "learner.freeze_to(-1)"
      ],
      "execution_count": 0,
      "outputs": []
    },
    {
      "metadata": {
        "id": "DnCCXQnnJy7n",
        "colab_type": "code",
        "colab": {}
      },
      "cell_type": "code",
      "source": [
        "learner.model.load_state_dict(wgts)"
      ],
      "execution_count": 0,
      "outputs": []
    },
    {
      "metadata": {
        "id": "diPoKEN5Jy7u",
        "colab_type": "text"
      },
      "cell_type": "markdown",
      "source": [
        "We set learning rates and fit our IMDB LM. We first run one epoch to tune the last layer which contains the embedding weights. This should help the missing tokens in the wikitext103 learn better weights."
      ]
    },
    {
      "metadata": {
        "id": "4hY4f8HMJy7w",
        "colab_type": "code",
        "colab": {}
      },
      "cell_type": "code",
      "source": [
        "lr=1e-3\n",
        "lrs = lr"
      ],
      "execution_count": 0,
      "outputs": []
    },
    {
      "metadata": {
        "id": "3gFtElScJy76",
        "colab_type": "code",
        "outputId": "a8e394b1-2e7a-4052-8738-60f717702dcb",
        "colab": {
          "base_uri": "https://localhost:8080/",
          "height": 102
        }
      },
      "cell_type": "code",
      "source": [
        "learner.fit(lrs/2, 1, wds=wd, use_clr=(32,2), cycle_len=1)"
      ],
      "execution_count": 50,
      "outputs": [
        {
          "output_type": "display_data",
          "data": {
            "application/vnd.jupyter.widget-view+json": {
              "model_id": "72fe52bdd04c48e583158e20f7c130db",
              "version_minor": 0,
              "version_major": 2
            },
            "text/plain": [
              "HBox(children=(IntProgress(value=0, description='Epoch', max=1, style=ProgressStyle(description_width='initial…"
            ]
          },
          "metadata": {
            "tags": []
          }
        },
        {
          "output_type": "stream",
          "text": [
            "epoch      trn_loss   val_loss   accuracy   \n",
            "    0      5.175543   4.966391   0.308359  \n",
            "\n"
          ],
          "name": "stdout"
        },
        {
          "output_type": "execute_result",
          "data": {
            "text/plain": [
              "[array([4.96639]), 0.3083587205076993]"
            ]
          },
          "metadata": {
            "tags": []
          },
          "execution_count": 50
        }
      ]
    },
    {
      "metadata": {
        "id": "ghIeNCKiJy79",
        "colab_type": "text"
      },
      "cell_type": "markdown",
      "source": [
        "Note that we print out accuracy and keep track of how often we end up predicting the target word correctly. While this is a good metric to check, it is not part of our loss function as it can get quite bumpy. We only minimize cross-entropy loss in the LM.\n",
        "\n",
        "The exponent of the cross-entropy loss is called the perplexity of the LM. (low perplexity is better)."
      ]
    },
    {
      "metadata": {
        "id": "Qql-poWNJy7-",
        "colab_type": "code",
        "colab": {}
      },
      "cell_type": "code",
      "source": [
        "learner.save('lm_last_ft')"
      ],
      "execution_count": 0,
      "outputs": []
    },
    {
      "metadata": {
        "id": "kSHB-LqtJy8B",
        "colab_type": "code",
        "colab": {}
      },
      "cell_type": "code",
      "source": [
        "learner.load('lm_last_ft')"
      ],
      "execution_count": 0,
      "outputs": []
    },
    {
      "metadata": {
        "id": "s7eiRn4bJy8D",
        "colab_type": "code",
        "colab": {}
      },
      "cell_type": "code",
      "source": [
        "learner.unfreeze()"
      ],
      "execution_count": 0,
      "outputs": []
    },
    {
      "metadata": {
        "id": "z-eoSewgJy8F",
        "colab_type": "code",
        "outputId": "a7810315-1b82-4cd2-f223-4c8b34b05d2b",
        "colab": {
          "base_uri": "https://localhost:8080/",
          "height": 85
        }
      },
      "cell_type": "code",
      "source": [
        "learner.lr_find(start_lr=lrs/20, end_lr=lrs*20, linear=True)"
      ],
      "execution_count": 54,
      "outputs": [
        {
          "output_type": "display_data",
          "data": {
            "application/vnd.jupyter.widget-view+json": {
              "model_id": "12b735d6f3e1422eb09be7a021641bb4",
              "version_minor": 0,
              "version_major": 2
            },
            "text/plain": [
              "HBox(children=(IntProgress(value=0, description='Epoch', max=1, style=ProgressStyle(description_width='initial…"
            ]
          },
          "metadata": {
            "tags": []
          }
        },
        {
          "output_type": "stream",
          "text": [
            "epoch      trn_loss   val_loss   accuracy   \n",
            "    0      3.013887   2.843624   0.493125  \n",
            "\n"
          ],
          "name": "stdout"
        }
      ]
    },
    {
      "metadata": {
        "id": "Pxaw7adHJy8J",
        "colab_type": "code",
        "outputId": "cd287644-f1ad-4726-ed7a-8adf46d4b819",
        "colab": {
          "base_uri": "https://localhost:8080/",
          "height": 365
        }
      },
      "cell_type": "code",
      "source": [
        "learner.sched.plot()"
      ],
      "execution_count": 55,
      "outputs": [
        {
          "output_type": "display_data",
          "data": {
            "image/png": "[encoded data removed]",
            "text/plain": [
              "<matplotlib.figure.Figure at 0x7fef865556a0>"
            ]
          },
          "metadata": {
            "tags": []
          }
        }
      ]
    },
    {
      "metadata": {
        "id": "3uoG3RobJy8Q",
        "colab_type": "code",
        "outputId": "103d1c83-4db1-4f4c-8e76-bbfdca33b708",
        "colab": {
          "base_uri": "https://localhost:8080/",
          "height": 425
        }
      },
      "cell_type": "code",
      "source": [
        "learner.fit(lrs, 1, wds=wd, use_clr=(20,10), cycle_len=20)"
      ],
      "execution_count": 56,
      "outputs": [
        {
          "output_type": "display_data",
          "data": {
            "application/vnd.jupyter.widget-view+json": {
              "model_id": "79e605c041354b378f497fbf801b1039",
              "version_minor": 0,
              "version_major": 2
            },
            "text/plain": [
              "HBox(children=(IntProgress(value=0, description='Epoch', max=20, style=ProgressStyle(description_width='initia…"
            ]
          },
          "metadata": {
            "tags": []
          }
        },
        {
          "output_type": "stream",
          "text": [
            "epoch      trn_loss   val_loss   accuracy   \n",
            "    0      3.228869   2.949582   0.483319  \n",
            "    1      2.927064   2.724578   0.507153  \n",
            "    2      2.757776   2.619215   0.519349  \n",
            "    3      2.656569   2.570302   0.525175  \n",
            "    4      2.582541   2.536658   0.528778  \n",
            "    5      2.515267   2.517326   0.532161  \n",
            "    6      2.47236    2.503135   0.533662  \n",
            "    7      2.418821   2.499677   0.534418  \n",
            "    8      2.371922   2.494436   0.535566  \n",
            "    9      2.351091   2.490576   0.536146  \n",
            "    10     2.322154   2.490388   0.537133  \n",
            "    11     2.302216   2.488764   0.53738   \n",
            "    12     2.262934   2.491425   0.537571  \n",
            "    13     2.246388   2.490072   0.537877  \n",
            "    14     2.206596   2.494649   0.538057  \n",
            "    15     2.205875   2.496104   0.537617  \n",
            "    16     2.197968   2.497077   0.538188  \n",
            "    17     2.176652   2.497179   0.538441  \n",
            "    18     2.182899   2.497464   0.538634  \n",
            "    19     2.158733   2.500884   0.538113  \n",
            "\n"
          ],
          "name": "stdout"
        },
        {
          "output_type": "execute_result",
          "data": {
            "text/plain": [
              "[array([2.50088]), 0.5381131989859752]"
            ]
          },
          "metadata": {
            "tags": []
          },
          "execution_count": 56
        }
      ]
    },
    {
      "metadata": {
        "id": "5ln8AYxaJy8U",
        "colab_type": "text"
      },
      "cell_type": "markdown",
      "source": [
        "We save the trained model weights and separately save the encoder part of the LM model as well. This will serve as our backbone in the classification task model."
      ]
    },
    {
      "metadata": {
        "id": "0IRwrMPWJy8W",
        "colab_type": "code",
        "colab": {}
      },
      "cell_type": "code",
      "source": [
        "learner.save('lm1')"
      ],
      "execution_count": 0,
      "outputs": []
    },
    {
      "metadata": {
        "id": "-wSQGtmdJy8Y",
        "colab_type": "code",
        "colab": {}
      },
      "cell_type": "code",
      "source": [
        "learner.save_encoder('lm1_enc')"
      ],
      "execution_count": 0,
      "outputs": []
    },
    {
      "metadata": {
        "id": "0kpGz9nTJy8b",
        "colab_type": "code",
        "outputId": "036f1d89-bbc4-4dda-f47f-446aae9dcc85",
        "colab": {
          "base_uri": "https://localhost:8080/",
          "height": 347
        }
      },
      "cell_type": "code",
      "source": [
        "learner.sched.plot_loss()"
      ],
      "execution_count": 59,
      "outputs": [
        {
          "output_type": "display_data",
          "data": {
            "image/png": "[encoded data removed]",
            "text/plain": [
              "<matplotlib.figure.Figure at 0x7fef85effeb8>"
            ]
          },
          "metadata": {
            "tags": []
          }
        }
      ]
    },
    {
      "metadata": {
        "id": "jRC0FFn4Jy8e",
        "colab_type": "text"
      },
      "cell_type": "markdown",
      "source": [
        "## Classifier tokens"
      ]
    },
    {
      "metadata": {
        "id": "uKHwbzbeJy8g",
        "colab_type": "text"
      },
      "cell_type": "markdown",
      "source": [
        "The classifier model is basically a linear layer custom head on top of the LM backbone. Setting up the classifier data is similar to the LM data setup except that we cannot use the unsup movie reviews this time."
      ]
    },
    {
      "metadata": {
        "id": "kBQXygIdJy8h",
        "colab_type": "code",
        "colab": {}
      },
      "cell_type": "code",
      "source": [
        "df_trn = pd.read_csv(CLAS_PATH/'train.csv', header=None, chunksize=chunksize)\n",
        "df_val = pd.read_csv(CLAS_PATH/'test.csv', header=None, chunksize=chunksize)"
      ],
      "execution_count": 0,
      "outputs": []
    },
    {
      "metadata": {
        "id": "QCcqKqk3Jy8k",
        "colab_type": "code",
        "outputId": "a41b668c-e4c6-40ac-8769-47f1262fcf92",
        "colab": {
          "base_uri": "https://localhost:8080/",
          "height": 51
        }
      },
      "cell_type": "code",
      "source": [
        "tok_trn, trn_labels = get_all(df_trn, 1)\n",
        "tok_val, val_labels = get_all(df_val, 1)"
      ],
      "execution_count": 61,
      "outputs": [
        {
          "output_type": "stream",
          "text": [
            "0\n",
            "0\n"
          ],
          "name": "stdout"
        }
      ]
    },
    {
      "metadata": {
        "id": "nEh8rzmWpDVJ",
        "colab_type": "code",
        "colab": {}
      },
      "cell_type": "code",
      "source": [
        "unlabeled_train = pd.read_csv(CLAS_PATH/'unlabeled_train.csv', header=None, chunksize=chunksize)"
      ],
      "execution_count": 0,
      "outputs": []
    },
    {
      "metadata": {
        "id": "yn1QAbNBK_b5",
        "colab_type": "code",
        "colab": {}
      },
      "cell_type": "code",
      "source": [
        "def get_texts_b(df, n_lbls=0):\n",
        "    texts = f'\\n{BOS} {FLD} 1 ' + df[n_lbls]\n",
        "    for i in range(n_lbls+1, len(df.columns)): texts += f' {FLD} {i-n_lbls} ' + df[i].astype(str)\n",
        "    texts = list(texts.apply(fixup).values)\n",
        "    tok = Tokenizer().proc_all_mp(partition_by_cores(texts))\n",
        "    return tok\n",
        "\n",
        "def get_all_b(df, n_lbls):\n",
        "    tok = []\n",
        "    for i, r in enumerate(df):\n",
        "        tok_ = get_texts_b(r, n_lbls)\n",
        "        tok += tok_;\n",
        "        print(len(tok))\n",
        "    return tok"
      ],
      "execution_count": 0,
      "outputs": []
    },
    {
      "metadata": {
        "id": "9hjMUPLI7PZ6",
        "colab_type": "code",
        "outputId": "adbb3da4-a461-46f8-a7cb-6b6ce6cf52a9",
        "colab": {
          "base_uri": "https://localhost:8080/",
          "height": 85
        }
      },
      "cell_type": "code",
      "source": [
        "tok_test = get_all_b(unlabeled_train,0)"
      ],
      "execution_count": 64,
      "outputs": [
        {
          "output_type": "stream",
          "text": [
            "24000\n",
            "48000\n",
            "72000\n",
            "72324\n"
          ],
          "name": "stdout"
        }
      ]
    },
    {
      "metadata": {
        "id": "3gImJDFvJy8p",
        "colab_type": "code",
        "colab": {}
      },
      "cell_type": "code",
      "source": [
        "(CLAS_PATH/'tmp').mkdir(exist_ok=True)\n",
        "\n",
        "np.save(CLAS_PATH/'tmp'/'tok_trn.npy', tok_trn)\n",
        "np.save(CLAS_PATH/'tmp'/'tok_val.npy', tok_val)\n",
        "np.save(CLAS_PATH/'tmp'/'tok_test.npy', tok_test)\n",
        "\n",
        "np.save(CLAS_PATH/'tmp'/'trn_labels.npy', trn_labels)\n",
        "np.save(CLAS_PATH/'tmp'/'val_labels.npy', val_labels)"
      ],
      "execution_count": 0,
      "outputs": []
    },
    {
      "metadata": {
        "id": "Qb4NH4dnJy8s",
        "colab_type": "code",
        "colab": {}
      },
      "cell_type": "code",
      "source": [
        "tok_trn = np.load(CLAS_PATH/'tmp'/'tok_trn.npy')\n",
        "tok_val = np.load(CLAS_PATH/'tmp'/'tok_val.npy')\n",
        "tok_test = np.load(CLAS_PATH/'tmp'/'tok_test.npy')"
      ],
      "execution_count": 0,
      "outputs": []
    },
    {
      "metadata": {
        "id": "_3SFnSJ2Jy8u",
        "colab_type": "code",
        "outputId": "bb40c22a-4493-46e9-8495-7d0ba4f4f9aa",
        "colab": {
          "base_uri": "https://localhost:8080/",
          "height": 34
        }
      },
      "cell_type": "code",
      "source": [
        "itos = pickle.load((LM_PATH/'tmp'/'itos.pkl').open('rb'))\n",
        "stoi = collections.defaultdict(lambda:0, {v:k for k,v in enumerate(itos)})\n",
        "len(itos)"
      ],
      "execution_count": 67,
      "outputs": [
        {
          "output_type": "execute_result",
          "data": {
            "text/plain": [
              "8661"
            ]
          },
          "metadata": {
            "tags": []
          },
          "execution_count": 67
        }
      ]
    },
    {
      "metadata": {
        "id": "S6Qls6ovJy8z",
        "colab_type": "code",
        "colab": {}
      },
      "cell_type": "code",
      "source": [
        "trn_clas = np.array([[stoi[o] for o in p] for p in tok_trn])\n",
        "val_clas = np.array([[stoi[o] for o in p] for p in tok_val])\n",
        "test_clas = np.array([[stoi[o] for o in p] for p in tok_test])"
      ],
      "execution_count": 0,
      "outputs": []
    },
    {
      "metadata": {
        "id": "WgNITZAgJy81",
        "colab_type": "code",
        "colab": {}
      },
      "cell_type": "code",
      "source": [
        "np.save(CLAS_PATH/'tmp'/'trn_ids.npy', trn_clas)\n",
        "np.save(CLAS_PATH/'tmp'/'val_ids.npy', val_clas)\n",
        "np.save(CLAS_PATH/'tmp'/'test_ids.npy', test_clas)"
      ],
      "execution_count": 0,
      "outputs": []
    },
    {
      "metadata": {
        "id": "p9w9Rv3fJy83",
        "colab_type": "text"
      },
      "cell_type": "markdown",
      "source": [
        "## Classifier"
      ]
    },
    {
      "metadata": {
        "id": "vHnpS6eAJy84",
        "colab_type": "text"
      },
      "cell_type": "markdown",
      "source": [
        "Now we can create our final model, a classifier which is really a custom linear head over our trained IMDB backbone. The steps to create the classifier model are similar to the ones for the LM."
      ]
    },
    {
      "metadata": {
        "id": "w5bKlImVJy84",
        "colab_type": "code",
        "colab": {}
      },
      "cell_type": "code",
      "source": [
        "trn_clas = np.load(CLAS_PATH/'tmp'/'trn_ids.npy')\n",
        "val_clas = np.load(CLAS_PATH/'tmp'/'val_ids.npy')\n",
        "test_clas = np.load(CLAS_PATH/'tmp'/'test_ids.npy')"
      ],
      "execution_count": 0,
      "outputs": []
    },
    {
      "metadata": {
        "id": "fbEOBTWCJy88",
        "colab_type": "code",
        "colab": {}
      },
      "cell_type": "code",
      "source": [
        "trn_labels = np.squeeze(np.load(CLAS_PATH/'tmp'/'trn_labels.npy'))\n",
        "val_labels = np.squeeze(np.load(CLAS_PATH/'tmp'/'val_labels.npy'))"
      ],
      "execution_count": 0,
      "outputs": []
    },
    {
      "metadata": {
        "id": "bUe-mduxnq2k",
        "colab_type": "code",
        "outputId": "647490d6-80ac-47a7-e408-dd19d8a39842",
        "colab": {
          "base_uri": "https://localhost:8080/",
          "height": 34
        }
      },
      "cell_type": "code",
      "source": [
        "test_clas.shape"
      ],
      "execution_count": 72,
      "outputs": [
        {
          "output_type": "execute_result",
          "data": {
            "text/plain": [
              "(72324,)"
            ]
          },
          "metadata": {
            "tags": []
          },
          "execution_count": 72
        }
      ]
    },
    {
      "metadata": {
        "id": "AINlKaGWr0_q",
        "colab_type": "code",
        "colab": {}
      },
      "cell_type": "code",
      "source": [
        "test_labels = np.zeros(test_clas.shape)"
      ],
      "execution_count": 0,
      "outputs": []
    },
    {
      "metadata": {
        "id": "yJ6vnLhIJy8-",
        "colab_type": "code",
        "colab": {}
      },
      "cell_type": "code",
      "source": [
        "bptt,em_sz,nh,nl = 70,400,1150,3\n",
        "vs = len(itos)\n",
        "opt_fn = partial(optim.Adam, betas=(0.8, 0.99))\n",
        "bs = 48"
      ],
      "execution_count": 0,
      "outputs": []
    },
    {
      "metadata": {
        "id": "IMZOEShxJy9A",
        "colab_type": "code",
        "colab": {}
      },
      "cell_type": "code",
      "source": [
        "min_lbl = trn_labels.min()\n",
        "trn_labels -= min_lbl\n",
        "val_labels -= min_lbl\n",
        "c=int(trn_labels.max())+1"
      ],
      "execution_count": 0,
      "outputs": []
    },
    {
      "metadata": {
        "id": "1nzj10UMJy9B",
        "colab_type": "text"
      },
      "cell_type": "markdown",
      "source": [
        "In the classifier, unlike LM, we need to read a movie review at a time and learn to predict the it's sentiment as pos/neg. We do not deal with equal bptt size batches, so we have to pad the sequences to the same length in each batch. To create batches of similar sized movie reviews, we use a sortish sampler method invented by [@Smerity](https://twitter.com/Smerity) and [@jekbradbury](https://twitter.com/jekbradbury)\n",
        "\n",
        "The sortishSampler cuts down the overall number of padding tokens the classifier ends up seeing."
      ]
    },
    {
      "metadata": {
        "id": "XuiY_qFvNmjR",
        "colab_type": "code",
        "colab": {}
      },
      "cell_type": "code",
      "source": [
        "test_ds = TextDataset(test_clas, test_labels)\n",
        "test_dl = DataLoader(test_ds, bs, transpose=True, num_workers=1, pad_idx=1)"
      ],
      "execution_count": 0,
      "outputs": []
    },
    {
      "metadata": {
        "id": "jLFQPT_6Jy9H",
        "colab_type": "code",
        "colab": {}
      },
      "cell_type": "code",
      "source": [
        "trn_ds = TextDataset(trn_clas, trn_labels)\n",
        "val_ds = TextDataset(val_clas, val_labels)\n",
        "trn_dl = DataLoader(trn_ds, bs//2, transpose=True, num_workers=1, pad_idx=1)\n",
        "val_dl = DataLoader(val_ds, bs, transpose=True, num_workers=1, pad_idx=1)"
      ],
      "execution_count": 0,
      "outputs": []
    },
    {
      "metadata": {
        "id": "rLNJAUVdg0oB",
        "colab_type": "code",
        "outputId": "6e2abf03-0336-4734-e9db-6abb83271c55",
        "colab": {
          "base_uri": "https://localhost:8080/",
          "height": 34
        }
      },
      "cell_type": "code",
      "source": [
        "test_ds"
      ],
      "execution_count": 78,
      "outputs": [
        {
          "output_type": "execute_result",
          "data": {
            "text/plain": [
              "<fastai.text.TextDataset at 0x7fef85946ef0>"
            ]
          },
          "metadata": {
            "tags": []
          },
          "execution_count": 78
        }
      ]
    },
    {
      "metadata": {
        "id": "yBl-_jUBgexq",
        "colab_type": "code",
        "colab": {}
      },
      "cell_type": "code",
      "source": [
        "## ModelData??"
      ],
      "execution_count": 0,
      "outputs": []
    },
    {
      "metadata": {
        "id": "sqAzgZh9OaKv",
        "colab_type": "code",
        "colab": {}
      },
      "cell_type": "code",
      "source": [
        "md = ModelData(PATH, trn_dl, val_dl,test_dl)"
      ],
      "execution_count": 0,
      "outputs": []
    },
    {
      "metadata": {
        "id": "ZC0NPjiRJy9P",
        "colab_type": "code",
        "colab": {}
      },
      "cell_type": "code",
      "source": [
        "# part 1\n",
        "dps = np.array([0.4, 0.5, 0.05, 0.3, 0.1])"
      ],
      "execution_count": 0,
      "outputs": []
    },
    {
      "metadata": {
        "id": "_vipjDOcJy9T",
        "colab_type": "code",
        "colab": {}
      },
      "cell_type": "code",
      "source": [
        "dps = np.array([0.4,0.5,0.05,0.3,0.4])*0.75"
      ],
      "execution_count": 0,
      "outputs": []
    },
    {
      "metadata": {
        "id": "nbWk95LrJy9h",
        "colab_type": "code",
        "colab": {}
      },
      "cell_type": "code",
      "source": [
        "m = get_rnn_classifer(bptt, 20*70, c, vs, emb_sz=em_sz, n_hid=nh, n_layers=nl, pad_token=1,\n",
        "          layers=[3*em_sz, 50, c], drops=[dps[4], 0.1],\n",
        "          dropouti=dps[0], wdrop=dps[1], dropoute=dps[2], dropouth=dps[3])"
      ],
      "execution_count": 0,
      "outputs": []
    },
    {
      "metadata": {
        "id": "CQX4ED2tJy9m",
        "colab_type": "code",
        "colab": {}
      },
      "cell_type": "code",
      "source": [
        "opt_fn = partial(optim.Adam, betas=(0.7, 0.99))"
      ],
      "execution_count": 0,
      "outputs": []
    },
    {
      "metadata": {
        "id": "VBGSAlbpJy9q",
        "colab_type": "code",
        "colab": {}
      },
      "cell_type": "code",
      "source": [
        "learn = RNN_Learner(md, TextModel(to_gpu(m)), opt_fn=opt_fn)\n",
        "learn.reg_fn = partial(seq2seq_reg, alpha=2, beta=1)\n",
        "learn.clip=.25\n",
        "learn.metrics = [accuracy]"
      ],
      "execution_count": 0,
      "outputs": []
    },
    {
      "metadata": {
        "id": "hrJuT_WwJy9u",
        "colab_type": "code",
        "colab": {}
      },
      "cell_type": "code",
      "source": [
        "lr=3e-3\n",
        "lrm = 2.6\n",
        "lrs = np.array([lr/(lrm**4), lr/(lrm**3), lr/(lrm**2), lr/lrm, lr])"
      ],
      "execution_count": 0,
      "outputs": []
    },
    {
      "metadata": {
        "id": "ZPe9WNHvJy9x",
        "colab_type": "code",
        "colab": {}
      },
      "cell_type": "code",
      "source": [
        "lrs=np.array([1e-4,1e-4,1e-4,1e-3,1e-2])"
      ],
      "execution_count": 0,
      "outputs": []
    },
    {
      "metadata": {
        "id": "roG7Yw1sJy-I",
        "colab_type": "code",
        "colab": {}
      },
      "cell_type": "code",
      "source": [
        "wd = 1e-7\n",
        "wd = 0\n",
        "learn.load_encoder('lm1_enc')"
      ],
      "execution_count": 0,
      "outputs": []
    },
    {
      "metadata": {
        "id": "ouc4ipYTJy-Q",
        "colab_type": "code",
        "colab": {}
      },
      "cell_type": "code",
      "source": [
        "learn.freeze_to(-1)"
      ],
      "execution_count": 0,
      "outputs": []
    },
    {
      "metadata": {
        "id": "c84-00r_Jy-U",
        "colab_type": "code",
        "outputId": "531f8601-0fb4-420d-958a-43dbebe989cc",
        "colab": {
          "base_uri": "https://localhost:8080/",
          "height": 399
        }
      },
      "cell_type": "code",
      "source": [
        "learn.lr_find(lrs/1000)\n",
        "learn.sched.plot()"
      ],
      "execution_count": 90,
      "outputs": [
        {
          "output_type": "display_data",
          "data": {
            "application/vnd.jupyter.widget-view+json": {
              "model_id": "8d294a374bf9431a9aebb17e739453f8",
              "version_minor": 0,
              "version_major": 2
            },
            "text/plain": [
              "HBox(children=(IntProgress(value=0, description='Epoch', max=1, style=ProgressStyle(description_width='initial…"
            ]
          },
          "metadata": {
            "tags": []
          }
        },
        {
          "output_type": "stream",
          "text": [
            " 82%|████████▏ | 290/352 [00:22<00:04, 12.47it/s, loss=2.38]"
          ],
          "name": "stdout"
        },
        {
          "output_type": "display_data",
          "data": {
            "image/png": "[encoded data removed]",
            "text/plain": [
              "<matplotlib.figure.Figure at 0x7fef85946e80>"
            ]
          },
          "metadata": {
            "tags": []
          }
        }
      ]
    },
    {
      "metadata": {
        "id": "I5oP-9euJy-a",
        "colab_type": "code",
        "outputId": "1f2f041e-2ae4-4edc-9ecf-4cabec7c8364",
        "colab": {
          "base_uri": "https://localhost:8080/",
          "height": 85
        }
      },
      "cell_type": "code",
      "source": [
        "learn.fit(lrs, 1, wds=wd, cycle_len=1, use_clr=(10,3))"
      ],
      "execution_count": 91,
      "outputs": [
        {
          "output_type": "display_data",
          "data": {
            "application/vnd.jupyter.widget-view+json": {
              "model_id": "c15600f3bd7642938045f36db4d3b0d2",
              "version_minor": 0,
              "version_major": 2
            },
            "text/plain": [
              "HBox(children=(IntProgress(value=0, description='Epoch', max=1, style=ProgressStyle(description_width='initial…"
            ]
          },
          "metadata": {
            "tags": []
          }
        },
        {
          "output_type": "stream",
          "text": [
            "epoch      trn_loss   val_loss   accuracy   \n",
            "    0      0.504084   0.360477   0.858508  \n"
          ],
          "name": "stdout"
        },
        {
          "output_type": "execute_result",
          "data": {
            "text/plain": [
              "[array([0.36048]), 0.8585081513217101]"
            ]
          },
          "metadata": {
            "tags": []
          },
          "execution_count": 91
        }
      ]
    },
    {
      "metadata": {
        "id": "CuhmrZi3wp6Y",
        "colab_type": "code",
        "colab": {}
      },
      "cell_type": "code",
      "source": [
        "learn.save('clas_0')"
      ],
      "execution_count": 0,
      "outputs": []
    },
    {
      "metadata": {
        "id": "irAFQXWGJy-o",
        "colab_type": "code",
        "colab": {}
      },
      "cell_type": "code",
      "source": [
        "learn.load('clas_0')"
      ],
      "execution_count": 0,
      "outputs": []
    },
    {
      "metadata": {
        "id": "L21jU_mrJy--",
        "colab_type": "code",
        "colab": {}
      },
      "cell_type": "code",
      "source": [
        "learn.freeze_to(-2)"
      ],
      "execution_count": 0,
      "outputs": []
    },
    {
      "metadata": {
        "id": "gPRLEoa3Jy_C",
        "colab_type": "code",
        "outputId": "1c628586-da23-4eee-e17d-f18236a0cdf3",
        "colab": {
          "base_uri": "https://localhost:8080/",
          "height": 85
        }
      },
      "cell_type": "code",
      "source": [
        "learn.fit(lrs, 1, wds=wd, cycle_len=1, use_clr=(8,3))"
      ],
      "execution_count": 95,
      "outputs": [
        {
          "output_type": "display_data",
          "data": {
            "application/vnd.jupyter.widget-view+json": {
              "model_id": "c982cf405946448796e3cc525b7d7fde",
              "version_minor": 0,
              "version_major": 2
            },
            "text/plain": [
              "HBox(children=(IntProgress(value=0, description='Epoch', max=1, style=ProgressStyle(description_width='initial…"
            ]
          },
          "metadata": {
            "tags": []
          }
        },
        {
          "output_type": "stream",
          "text": [
            "epoch      trn_loss   val_loss   accuracy   \n",
            "    0      0.39357    0.250484   0.903076  \n"
          ],
          "name": "stdout"
        },
        {
          "output_type": "execute_result",
          "data": {
            "text/plain": [
              "[array([0.25048]), 0.9030755317777244]"
            ]
          },
          "metadata": {
            "tags": []
          },
          "execution_count": 95
        }
      ]
    },
    {
      "metadata": {
        "id": "wjx2IWemJy_K",
        "colab_type": "code",
        "colab": {}
      },
      "cell_type": "code",
      "source": [
        "learn.save('clas_1')"
      ],
      "execution_count": 0,
      "outputs": []
    },
    {
      "metadata": {
        "id": "J2CCnmO0Jy_P",
        "colab_type": "code",
        "colab": {}
      },
      "cell_type": "code",
      "source": [
        "learn.load('clas_1')"
      ],
      "execution_count": 0,
      "outputs": []
    },
    {
      "metadata": {
        "id": "UlN3YMAKJy_T",
        "colab_type": "code",
        "colab": {}
      },
      "cell_type": "code",
      "source": [
        "learn.unfreeze()"
      ],
      "execution_count": 0,
      "outputs": []
    },
    {
      "metadata": {
        "id": "H7uasgh3Jy_Z",
        "colab_type": "code",
        "outputId": "51732132-b58f-4bef-c3dc-0c245e26797c",
        "colab": {
          "base_uri": "https://localhost:8080/",
          "height": 323
        }
      },
      "cell_type": "code",
      "source": [
        "learn.fit(lrs, 1, wds=wd, cycle_len=15, use_clr=(32,10),best_save_name = 'best_model')  "
      ],
      "execution_count": 99,
      "outputs": [
        {
          "output_type": "display_data",
          "data": {
            "application/vnd.jupyter.widget-view+json": {
              "model_id": "281d64907a3141f6ae3bec3d21d2c3cf",
              "version_minor": 0,
              "version_major": 2
            },
            "text/plain": [
              "HBox(children=(IntProgress(value=0, description='Epoch', max=15, style=ProgressStyle(description_width='initia…"
            ]
          },
          "metadata": {
            "tags": []
          }
        },
        {
          "output_type": "stream",
          "text": [
            "epoch      trn_loss   val_loss   accuracy   \n",
            "    0      0.35548    0.249359   0.91318   \n",
            "    1      0.331735   0.231925   0.911653  \n",
            "    2      0.310927   0.222997   0.918021  \n",
            "    3      0.276992   0.20559    0.92314   \n",
            "    4      0.254371   0.211373   0.927818  \n",
            "    5      0.244744   0.208166   0.927914  \n",
            "    6      0.23494    0.212589   0.929816  \n",
            "    7      0.227812   0.22819    0.923861  \n",
            "    8      0.21449    0.236286   0.923035  \n",
            "    9      0.206706   0.221871   0.927376  \n",
            "    10     0.191727   0.248984   0.931055  \n",
            "    11     0.193045   0.251156   0.927847  \n",
            "    12     0.169391   0.27096    0.92655   \n",
            "    13     0.173472   0.266464   0.929691  \n",
            "    14     0.175187   0.26111    0.92899   \n"
          ],
          "name": "stdout"
        },
        {
          "output_type": "execute_result",
          "data": {
            "text/plain": [
              "[array([0.26111]), 0.9289899346959266]"
            ]
          },
          "metadata": {
            "tags": []
          },
          "execution_count": 99
        }
      ]
    },
    {
      "metadata": {
        "id": "9tIoSEnwsMot",
        "colab_type": "code",
        "outputId": "35091db1-9a09-4ae4-8100-06d99a745135",
        "colab": {
          "base_uri": "https://localhost:8080/",
          "height": 34
        }
      },
      "cell_type": "code",
      "source": [
        "ls"
      ],
      "execution_count": 100,
      "outputs": [
        {
          "output_type": "stream",
          "text": [
            "\u001b[0m\u001b[01;34mdata\u001b[0m/  losses.npy  loss_plot.png  predictions.csv  \u001b[01;34msample_data\u001b[0m/\n"
          ],
          "name": "stdout"
        }
      ]
    },
    {
      "metadata": {
        "id": "trCm45sjSwSO",
        "colab_type": "code",
        "colab": {}
      },
      "cell_type": "code",
      "source": [
        "check_preds = learn.predict()\n",
        "m = nn.Softmax()\n",
        "input = Variable(torch.from_numpy(check_preds))\n",
        "probs=m(input)"
      ],
      "execution_count": 0,
      "outputs": []
    },
    {
      "metadata": {
        "id": "BIR7bC8SoeqT",
        "colab_type": "code",
        "colab": {}
      },
      "cell_type": "code",
      "source": [
        "probs = probs.data.cpu().numpy()"
      ],
      "execution_count": 0,
      "outputs": []
    },
    {
      "metadata": {
        "id": "U2LVsXyeoju_",
        "colab_type": "code",
        "outputId": "a937f74c-c4da-4862-e5de-f597e8d2fe71",
        "colab": {
          "base_uri": "https://localhost:8080/",
          "height": 34
        }
      },
      "cell_type": "code",
      "source": [
        "probs.shape"
      ],
      "execution_count": 103,
      "outputs": [
        {
          "output_type": "execute_result",
          "data": {
            "text/plain": [
              "(2112, 2)"
            ]
          },
          "metadata": {
            "tags": []
          },
          "execution_count": 103
        }
      ]
    },
    {
      "metadata": {
        "id": "zULjnOKQo3QA",
        "colab_type": "code",
        "outputId": "3dbac103-ef76-4694-8e18-1b0f4b5a5bc7",
        "colab": {
          "base_uri": "https://localhost:8080/",
          "height": 34
        }
      },
      "cell_type": "code",
      "source": [
        "probs.dtype"
      ],
      "execution_count": 104,
      "outputs": [
        {
          "output_type": "execute_result",
          "data": {
            "text/plain": [
              "dtype('float32')"
            ]
          },
          "metadata": {
            "tags": []
          },
          "execution_count": 104
        }
      ]
    },
    {
      "metadata": {
        "id": "gv1o1-NuxX6D",
        "colab_type": "code",
        "colab": {
          "resources": {
            "http://localhost:8080/nbextensions/google.colab/files.js": {
              "data": "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",
              "ok": true,
              "headers": [
                [
                  "content-type",
                  "application/javascript"
                ]
              ],
              "status": 200,
              "status_text": ""
            }
          },
          "base_uri": "https://localhost:8080/",
          "height": 109
        },
        "outputId": "66bd6efd-97e2-49f4-a397-11c758b33e9f"
      },
      "cell_type": "code",
      "source": [
        "files.upload()"
      ],
      "execution_count": 118,
      "outputs": [
        {
          "output_type": "display_data",
          "data": {
            "text/html": [
              "\n",
              "     <input type=\"file\" id=\"files-2cbb6f32-cd54-45be-a484-0e32dd0f02ad\" name=\"files[]\" multiple disabled />\n",
              "     <output id=\"result-2cbb6f32-cd54-45be-a484-0e32dd0f02ad\">\n",
              "      Upload widget is only available when the cell has been executed in the\n",
              "      current browser session. Please rerun this cell to enable.\n",
              "      </output>\n",
              "      <script src=\"/nbextensions/google.colab/files.js\"></script> "
            ],
            "text/plain": [
              "<IPython.core.display.HTML object>"
            ]
          },
          "metadata": {
            "tags": []
          }
        },
        {
          "output_type": "stream",
          "text": [
            "Saving predictions.csv to predictions.csv\n"
          ],
          "name": "stdout"
        },
        {
          "output_type": "execute_result",
          "data": {
            "text/plain": [
              "{'predictions.csv': b',no,yes\\n0,0.00022390045,0.9997761\\n1,0.95761853,0.04238147\\n2,0.00019639639,0.9998036\\n3,9.850599e-06,0.99999017\\n4,0.9967179,0.0032821405\\n5,0.00025411983,0.9997459\\n6,1.0693568e-06,0.9999989\\n7,1.8687215e-06,0.99999815\\n8,0.00034353408,0.99965644\\n9,0.00022388593,0.9997761\\n10,0.99977523,0.00022478685\\n11,3.9332404e-06,0.99999607\\n12,0.9997772,0.00022281519\\n13,6.626804e-05,0.9999337\\n14,5.37428e-06,0.99999464\\n15,7.8612065e-05,0.9999214\\n16,0.014208761,0.98579127\\n17,8.8557573e-07,0.9999991\\n18,0.9999506,4.9418875e-05\\n19,7.8521116e-05,0.9999215\\n20,0.9936028,0.006397159\\n21,0.9996789,0.00032109165\\n22,1.7718892e-07,0.9999998\\n23,2.4984477e-06,0.9999975\\n24,0.9992969,0.0007030763\\n25,0.013159386,0.9868406\\n26,0.0009295023,0.9990705\\n27,0.9999506,4.9418875e-05\\n28,0.99940425,0.0005957198\\n29,1.5599124e-05,0.9999844\\n30,3.2825592e-05,0.99996716\\n31,0.98948544,0.010514576\\n32,0.99510187,0.0048981463\\n33,0.99989516,0.00010483068\\n34,8.301326e-05,0.999917\\n35,0.99984354,0.00015648022\\n36,0.9996259,0.00037408955\\n37,0.9969289,0.003071139\\n38,5.0595636e-06,0.99999493\\n39,2.0838042e-05,0.99997914\\n40,0.99978256,0.00021742187\\n41,0.00012529247,0.9998747\\n42,0.021117315,0.9788827\\n43,0.68446285,0.31553718\\n44,5.115062e-05,0.99994886\\n45,0.19844374,0.8015562\\n46,5.321805e-05,0.9999468\\n47,5.245441e-06,0.99999475\\n48,0.99928313,0.00071684795\\n49,0.99902856,0.0009714109\\n50,9.2261485e-05,0.99990773\\n51,0.00014829774,0.9998517\\n52,0.0033783137,0.99662167\\n53,0.00021319935,0.9997868\\n54,8.093421e-06,0.9999919\\n55,0.94308543,0.056914557\\n56,0.00014384504,0.9998562\\n57,0.0010459633,0.99895406\\n58,0.00043964465,0.99956036\\n59,0.00019479122,0.9998052\\n60,0.011512913,0.98848706\\n61,0.9984019,0.0015981178\\n62,6.867272e-06,0.99999315\\n63,0.97644323,0.02355675\\n64,8.527552e-07,0.99999917\\n65,0.99526495,0.0047350815\\n66,7.0414094e-06,0.99999297\\n67,0.9998717,0.0001283246\\n68,5.3213127e-05,0.9999468\\n69,1.5645473e-05,0.9999844\\n70,9.737342e-06,0.9999903\\n71,0.94043946,0.059560534\\n72,0.9969924,0.003007584\\n73,0.99910647,0.0008935205\\n74,3.4949392e-07,0.99999964\\n75,0.00013322855,0.9998668\\n76,0.97636425,0.023635745\\n77,0.9998583,0.00014165927\\n78,3.1859803e-05,0.9999681\\n79,1.4280722e-05,0.9999857\\n80,2.2083805e-05,0.9999779\\n81,0.99854565,0.0014543454\\n82,2.644913e-06,0.9999974\\n83,0.9959632,0.004036766\\n84,4.424076e-05,0.9999558\\n85,0.99611086,0.0038891179\\n86,0.0014470222,0.998553\\n87,1.643127e-05,0.99998355\\n88,0.99994147,5.8545746e-05\\n89,2.6063124e-05,0.99997395\\n90,0.9073761,0.092623875\\n91,0.0005256675,0.99947435\\n92,0.00026534664,0.99973464\\n93,0.000550102,0.9994499\\n94,0.015437751,0.9845623\\n95,0.9998779,0.00012208981\\n96,1.5313817e-07,0.9999998\\n97,2.7584996e-05,0.9999724\\n98,0.99959064,0.00040939046\\n99,0.99999845,1.5558701e-06\\n100,0.6547602,0.34523982\\n101,0.9927019,0.007298102\\n102,1.2665078e-05,0.99998736\\n103,2.9002511e-05,0.999971\\n104,0.99994844,5.1548825e-05\\n105,5.287513e-05,0.99994713\\n106,6.413812e-06,0.99999356\\n107,7.455181e-06,0.99999255\\n108,0.00024396005,0.99975604\\n109,0.998231,0.0017690278\\n110,8.955047e-05,0.9999105\\n111,0.9992903,0.00070971466\\n112,2.117398e-05,0.99997884\\n113,0.9973974,0.0026025788\\n114,0.9778136,0.02218638\\n115,0.998962,0.0010379915\\n116,0.99989694,0.00010304334\\n117,0.00012441004,0.9998756\\n118,6.982437e-06,0.999993\\n119,9.167582e-06,0.9999908\\n120,0.8902582,0.10974183\\n121,7.3398337e-07,0.9999993\\n122,0.9446854,0.05531459\\n123,0.9952461,0.004753891\\n124,3.877997e-06,0.9999961\\n125,0.00013713268,0.99986285\\n126,0.00019524252,0.99980474\\n127,0.0010954922,0.9989045\\n128,7.3163804e-08,0.99999994\\n129,4.1267407e-07,0.9999996\\n130,0.99397415,0.0060258517\\n131,3.3764775e-07,0.99999964\\n132,0.99861646,0.0013835371\\n133,0.021028413,0.9789716\\n134,0.0010241702,0.9989758\\n135,0.04569005,0.95430994\\n136,1.34147285e-05,0.9999866\\n137,0.997738,0.0022619683\\n138,0.00030649075,0.9996935\\n139,2.5841517e-05,0.99997413\\n140,3.2463388e-06,0.9999968\\n141,0.9999513,4.869517e-05\\n142,0.9999858,1.4170186e-05\\n143,4.3388867e-05,0.9999566\\n144,0.99837655,0.0016234786\\n145,0.0012077971,0.99879223\\n146,4.8331214e-05,0.99995166\\n147,4.92917e-06,0.99999505\\n148,0.7296468,0.27035317\\n149,4.6918085e-06,0.9999953\\n150,0.00013982074,0.99986017\\n151,0.9992496,0.0007504065\\n152,0.9990923,0.00090774556\\n153,0.999355,0.0006449703\\n154,0.99918216,0.00081784633\\n155,4.1150783e-05,0.9999589\\n156,0.99930924,0.0006907784\\n157,6.987363e-05,0.99993014\\n158,0.0014008485,0.9985992\\n159,1.3598971e-08,1.0\\n160,2.9557554e-10,1.0\\n161,0.9973355,0.0026645178\\n162,0.999367,0.0006330075\\n163,0.00022906663,0.99977094\\n164,0.99995375,4.622687e-05\\n165,0.9992851,0.00071491895\\n166,0.9983926,0.0016074162\\n167,0.0003643116,0.9996357\\n168,0.99517137,0.0048286403\\n169,5.9296212e-08,0.99999994\\n170,0.9991456,0.00085437775\\n171,0.99826664,0.0017333861\\n172,0.998707,0.0012929928\\n173,0.1939347,0.8060653\\n174,0.99191445,0.008085562\\n175,0.99876696,0.0012330385\\n176,5.4192435e-05,0.9999458\\n177,0.00078237755,0.9992176\\n178,0.9503609,0.049639106\\n179,0.9998727,0.00012734116\\n180,0.97556305,0.024436932\\n181,0.999939,6.0980583e-05\\n182,0.9999741,2.5934814e-05\\n183,0.00038256592,0.99961746\\n184,0.9990588,0.0009412007\\n185,6.3113416e-06,0.9999937\\n186,0.00049118826,0.9995088\\n187,0.99873626,0.0012637133\\n188,0.99999166,8.355779e-06\\n189,0.9918538,0.008146217\\n190,2.042869e-06,0.999998\\n191,0.00011097778,0.999889\\n192,0.0029668938,0.9970331\\n193,0.0006457271,0.99935424\\n194,0.013202896,0.9867971\\n195,0.00031265485,0.9996874\\n196,0.00010736185,0.99989265\\n197,0.9917874,0.008212606\\n198,0.7101335,0.28986654\\n199,0.9996365,0.00036351557\\n200,0.9985636,0.0014363846\\n201,0.99964106,0.00035896394\\n202,1.0226913e-05,0.99998975\\n203,0.931086,0.06891397\\n204,0.9885711,0.011428899\\n205,0.9999525,4.7489695e-05\\n206,0.0011026968,0.9988973\\n207,0.9999131,8.6923836e-05\\n208,2.1425544e-06,0.99999785\\n209,0.9999612,3.8821705e-05\\n210,0.9461703,0.053829726\\n211,0.99992156,7.844672e-05\\n212,0.006973262,0.99302673\\n213,0.87384737,0.12615262\\n214,0.97883254,0.021167476\\n215,1.395643e-06,0.9999986\\n216,0.9999567,4.3268585e-05\\n217,0.99987936,0.0001206103\\n218,9.49666e-06,0.9999905\\n219,0.0018821921,0.9981178\\n220,0.9994938,0.0005062391\\n221,0.9598039,0.040196124\\n222,7.751708e-06,0.99999225\\n223,0.00016483644,0.9998352\\n224,0.99972564,0.00027437907\\n225,7.1239374e-05,0.9999288\\n226,7.182016e-08,0.99999994\\n227,0.778817,0.22118303\\n228,0.9872225,0.01277752\\n229,0.15569489,0.8443051\\n230,0.9998444,0.00015560933\\n231,9.887755e-07,0.999999\\n232,0.9999685,3.148149e-05\\n233,0.00082115654,0.9991788\\n234,0.99768305,0.002316973\\n235,0.9320727,0.067927316\\n236,2.6057556e-05,0.99997395\\n237,1.266561e-05,0.99998736\\n238,0.98227394,0.017726041\\n239,0.97532725,0.02467272\\n240,3.8458675e-05,0.99996156\\n241,1.8980621e-14,1.0\\n242,0.9941473,0.0058527235\\n243,0.9994582,0.0005417913\\n244,0.99817675,0.0018232743\\n245,8.179342e-05,0.9999182\\n246,4.0004747e-05,0.99996\\n247,3.9302762e-05,0.9999607\\n248,0.99882936,0.0011706649\\n249,0.98522973,0.014770281\\n250,6.1745313e-06,0.9999938\\n251,2.3696062e-05,0.9999763\\n252,0.0010186752,0.9989813\\n253,0.9992092,0.00079075503\\n254,0.9435125,0.05648752\\n255,0.8606964,0.13930362\\n256,1.3003926e-06,0.9999987\\n257,0.9997524,0.00024762377\\n258,0.0013138283,0.9986862\\n259,4.181752e-06,0.9999958\\n260,0.00024712234,0.9997529\\n261,0.9994671,0.00053293747\\n262,0.99791354,0.0020864566\\n263,9.7020806e-05,0.99990296\\n264,0.9996902,0.00030984243\\n265,0.99948573,0.00051429536\\n266,8.2154264e-07,0.99999917\\n267,2.0110718e-05,0.9999799\\n268,2.4591367e-05,0.9999754\\n269,0.00015023597,0.99984974\\n270,0.00012588935,0.9998741\\n271,0.975359,0.024640966\\n272,7.295714e-07,0.9999993\\n273,0.99879676,0.0012032465\\n274,0.99938244,0.0006175864\\n275,0.0028248162,0.99717516\\n276,4.295875e-05,0.999957\\n277,0.99505675,0.0049432246\\n278,0.00010955506,0.99989045\\n279,1.42774e-05,0.9999857\\n280,1.7487177e-05,0.99998254\\n281,0.0019388482,0.9980612\\n282,1.8582261e-07,0.9999998\\n283,8.702462e-07,0.9999991\\n284,0.9842847,0.0157153\\n285,2.3264588e-06,0.9999977\\n286,0.99999446,5.519363e-06\\n287,0.9791081,0.020891875\\n288,0.84491783,0.15508214\\n289,1.3219571e-05,0.99998677\\n290,0.88601506,0.11398492\\n291,1.904573e-05,0.9999809\\n292,0.000105539715,0.99989444\\n293,0.9132045,0.08679551\\n294,6.352625e-05,0.99993646\\n295,0.9889172,0.011082801\\n296,0.00012970787,0.9998703\\n297,1.7139873e-05,0.99998283\\n298,0.9985105,0.0014895259\\n299,4.5512475e-05,0.99995446\\n300,0.9998145,0.00018549191\\n301,0.99457407,0.005425945\\n302,8.609362e-05,0.99991393\\n303,0.9996789,0.00032109165\\n304,4.5492193e-06,0.99999547\\n305,0.000135497,0.9998645\\n306,2.7853039e-05,0.99997216\\n307,0.998362,0.0016380202\\n308,0.53546,0.46453997\\n309,0.9638386,0.036161445\\n310,2.613528e-07,0.99999976\\n311,0.00011487738,0.99988514\\n312,1.0924258e-05,0.9999891\\n313,0.31484002,0.68516\\n314,0.99626666,0.0037333535\\n315,0.999856,0.00014401042\\n316,5.574212e-06,0.9999944\\n317,1.0633096e-05,0.9999894\\n318,0.00021037555,0.9997896\\n319,0.9994718,0.0005282326\\n320,2.282926e-05,0.9999772\\n321,0.99513453,0.0048654405\\n322,0.00013945777,0.9998605\\n323,0.9897117,0.010288311\\n324,0.00084019534,0.9991598\\n325,0.99944323,0.0005567818\\n326,0.00014253864,0.9998575\\n327,0.0004473378,0.99955267\\n328,0.9999501,4.987813e-05\\n329,1.3152069e-05,0.9999868\\n330,0.00017301047,0.99982697\\n331,0.0033948114,0.9966052\\n332,0.9998552,0.00014479099\\n333,1.7808621e-05,0.9999822\\n334,4.044808e-05,0.9999595\\n335,0.0006095689,0.9993904\\n336,0.38604137,0.61395866\\n337,0.7446751,0.25532487\\n338,0.92661244,0.07338756\\n339,3.4861553e-06,0.99999654\\n340,3.7378486e-05,0.9999626\\n341,0.9606092,0.039390795\\n342,0.136421,0.86357903\\n343,8.9906183e-07,0.9999991\\n344,0.9995557,0.00044426727\\n345,0.99543154,0.00456847\\n346,0.00018837885,0.99981165\\n347,8.726765e-06,0.9999913\\n348,0.99989134,0.000108681656\\n349,2.5720898e-05,0.99997425\\n350,0.99957114,0.00042887146\\n351,0.95176065,0.04823937\\n352,0.99968946,0.00031051546\\n353,4.6481637e-06,0.99999535\\n354,0.00012872535,0.99987125\\n355,0.9988062,0.0011938297\\n356,0.99841803,0.00158197\\n357,0.99785036,0.0021496653\\n358,0.9868879,0.013112148\\n359,0.2156971,0.7843029\\n360,2.3537477e-06,0.9999977\\n361,0.9996218,0.00037820896\\n362,0.012560448,0.9874396\\n363,0.99928886,0.00071114226\\n364,1.6172872e-07,0.9999998\\n365,0.99964654,0.0003534283\\n366,0.9897711,0.010228857\\n367,4.166176e-06,0.9999958\\n368,4.8262456e-07,0.9999995\\n369,0.0005977616,0.9994022\\n370,0.9921747,0.0078253085\\n371,0.9980164,0.001983571\\n372,0.9999755,2.4508583e-05\\n373,2.6279215e-06,0.9999974\\n374,0.99741995,0.0025800252\\n375,0.9415029,0.058497082\\n376,9.19619e-06,0.9999908\\n377,1.5007449e-05,0.999985\\n378,6.670602e-05,0.9999333\\n379,0.98068273,0.019317253\\n380,0.9999521,4.793893e-05\\n381,0.0020591442,0.99794084\\n382,5.7879155e-05,0.9999421\\n383,0.99977595,0.0002240824\\n384,0.99943674,0.00056326686\\n385,0.00012400014,0.999876\\n386,8.9567206e-05,0.9999104\\n387,0.9244411,0.07555889\\n388,5.9695367e-06,0.99999404\\n389,0.99946576,0.00053423055\\n390,0.99599636,0.004003667\\n391,6.208222e-06,0.9999938\\n392,0.9988456,0.001154434\\n393,0.9995181,0.0004819085\\n394,2.8516146e-05,0.9999715\\n395,0.041436676,0.9585633\\n396,0.0052373833,0.9947626\\n397,0.3184283,0.68157166\\n398,0.9999403,5.975165e-05\\n399,0.6763278,0.32367218\\n400,0.9669033,0.03309666\\n401,1.4755316e-06,0.9999985\\n402,0.999641,0.00035901924\\n403,0.99915814,0.0008418783\\n404,0.018385362,0.98161465\\n405,9.975149e-06,0.99999005\\n406,0.024416069,0.9755839\\n407,1.0639628e-07,0.9999999\\n408,0.9493348,0.0506652\\n409,0.99988526,0.000114760456\\n410,0.99999046,9.509329e-06\\n411,0.8408049,0.1591951\\n412,0.9968109,0.003189072\\n413,1.9572457e-05,0.99998045\\n414,0.0001839462,0.99981606\\n415,0.00088775204,0.99911225\\n416,0.9929529,0.0070470986\\n417,0.023370754,0.97662926\\n418,0.9959357,0.0040643048\\n419,0.16402875,0.83597124\\n420,0.00017001161,0.99983\\n421,0.99995255,4.7469774e-05\\n422,0.24982001,0.75018\\n423,0.0007877763,0.9992122\\n424,0.9994563,0.0005437155\\n425,3.7464848e-05,0.9999625\\n426,0.9996149,0.00038507945\\n427,0.1338945,0.8661055\\n428,0.0005358002,0.9994642\\n429,0.8557904,0.14420964\\n430,0.9997804,0.00021960594\\n431,0.0011914729,0.9988085\\n432,0.99992377,7.6256416e-05\\n433,0.19443786,0.80556214\\n434,0.9999744,2.559408e-05\\n435,1.9885656e-05,0.9999801\\n436,0.9660367,0.033963297\\n437,0.9987143,0.0012856942\\n438,0.000585971,0.999414\\n439,3.79292e-05,0.9999621\\n440,0.99881965,0.0011803394\\n441,0.9993094,0.0006905757\\n442,9.829811e-05,0.9999017\\n443,2.6767104e-06,0.9999973\\n444,0.99983156,0.00016843466\\n445,0.0059902794,0.99400973\\n446,0.12574476,0.87425524\\n447,1.3757298e-06,0.9999986\\n448,0.9987172,0.001282827\\n449,2.1289026e-05,0.9999787\\n450,0.96920276,0.030797224\\n451,0.00012502739,0.99987495\\n452,0.8812048,0.118795194\\n453,0.9839965,0.016003469\\n454,0.99666905,0.0033309287\\n455,0.9997272,0.0002728223\\n456,0.99919313,0.00080688443\\n457,0.15613125,0.84386873\\n458,4.5702192e-05,0.9999543\\n459,0.00012872904,0.99987125\\n460,0.014244036,0.985756\\n461,1.4995868e-07,0.9999998\\n462,3.6291654e-05,0.9999637\\n463,6.8463733e-06,0.99999315\\n464,0.7322419,0.26775804\\n465,0.9997956,0.00020441177\\n466,4.6700144e-08,0.99999994\\n467,4.9946283e-07,0.9999995\\n468,9.0056914e-05,0.99990994\\n469,0.999415,0.00058501115\\n470,0.9975206,0.0024793549\\n471,0.999989,1.1043103e-05\\n472,7.8147765e-05,0.99992186\\n473,0.9993201,0.00067989895\\n474,0.99424595,0.005754067\\n475,0.9602469,0.039753098\\n476,2.6527616e-06,0.9999973\\n477,4.8264614e-05,0.9999517\\n478,0.9999521,4.7928785e-05\\n479,0.00010389165,0.9998961\\n480,0.99968296,0.0003170466\\n481,0.9980204,0.0019795764\\n482,0.0015583335,0.9984417\\n483,1.0820543e-07,0.9999999\\n484,1.750648e-05,0.9999825\\n485,6.0734925e-07,0.9999994\\n486,4.0170315e-05,0.9999598\\n487,0.8679855,0.13201454\\n488,0.99817,0.0018299975\\n489,0.9997367,0.00026329985\\n490,4.5176996e-08,0.99999994\\n491,4.7557493e-05,0.99995244\\n492,0.9992915,0.00070854457\\n493,2.0101943e-06,0.999998\\n494,1.4712945e-05,0.9999853\\n495,0.9942716,0.0057283994\\n496,1.758494e-06,0.9999982\\n497,4.5455154e-06,0.99999547\\n498,1.51399445e-05,0.99998486\\n499,0.9996536,0.0003464152\\n500,0.0006894161,0.9993106\\n501,1.3332925e-06,0.9999987\\n502,0.00012013179,0.9998799\\n503,0.99859947,0.0014005336\\n504,0.011716651,0.98828334\\n505,0.9999985,1.4666174e-06\\n506,0.9874841,0.012515886\\n507,0.999589,0.0004109829\\n508,0.9842495,0.015750552\\n509,2.0339364e-06,0.999998\\n510,0.9999513,4.869517e-05\\n511,0.9977964,0.0022035798\\n512,0.000106029554,0.99989396\\n513,7.14361e-06,0.99999285\\n514,4.7532194e-05,0.9999525\\n515,0.9965043,0.0034957011\\n516,1.87662e-05,0.9999812\\n517,1.4285817e-05,0.9999857\\n518,0.9920417,0.007958283\\n519,0.8405565,0.15944347\\n520,0.00064745476,0.9993526\\n521,0.9993462,0.0006538199\\n522,7.8341046e-08,0.99999994\\n523,0.00028941073,0.99971056\\n524,8.6023865e-05,0.999914\\n525,0.86356443,0.13643557\\n526,0.9706168,0.029383205\\n527,2.3190152e-05,0.9999768\\n528,0.99655795,0.0034420285\\n529,7.262435e-08,0.99999994\\n530,0.9796733,0.020326676\\n531,0.99985415,0.00014586578\\n532,0.00045403215,0.999546\\n533,0.068100914,0.9318991\\n534,0.13963974,0.86036026\\n535,0.22710732,0.7728927\\n536,0.999992,7.963181e-06\\n537,0.9994587,0.0005413585\\n538,0.99499696,0.005003018\\n539,3.7629987e-05,0.9999624\\n540,0.02627018,0.97372985\\n541,0.9954125,0.004587466\\n542,0.99880385,0.0011961614\\n543,4.09147e-09,1.0\\n544,0.9996868,0.0003132516\\n545,0.99988943,0.00011055993\\n546,0.00010756515,0.9998924\\n547,0.9901143,0.009885706\\n548,0.033906054,0.96609396\\n549,0.00028563637,0.9997144\\n550,0.9986314,0.0013685849\\n551,9.544764e-06,0.99999046\\n552,5.1450866e-07,0.99999946\\n553,3.280478e-05,0.9999672\\n554,0.9833594,0.016640615\\n555,0.9604123,0.0395877\\n556,0.05050971,0.9494903\\n557,0.9715802,0.028419781\\n558,0.99668115,0.0033188297\\n559,0.0006745989,0.9993254\\n560,0.9997244,0.00027564078\\n561,0.35089004,0.64910996\\n562,0.9995929,0.00040711454\\n563,0.8536364,0.14636362\\n564,0.005232675,0.9947673\\n565,0.94338495,0.05661508\\n566,3.8855782e-05,0.99996114\\n567,0.9998211,0.00017884983\\n568,0.9955582,0.0044417917\\n569,0.9990713,0.0009286848\\n570,2.2121281e-05,0.9999779\\n571,1.310733e-05,0.9999869\\n572,0.99703884,0.002961146\\n573,0.9971602,0.002839778\\n574,0.00047949853,0.9995205\\n575,0.9986302,0.0013697506\\n576,0.99894494,0.0010550371\\n577,0.23933092,0.7606691\\n578,0.9966026,0.0033973886\\n579,0.99972636,0.00027362097\\n580,0.00050919387,0.9994908\\n581,1.654409e-06,0.99999833\\n582,0.99968725,0.00031276906\\n583,0.9998749,0.00012509034\\n584,0.99355894,0.006441074\\n585,0.998384,0.0016159852\\n586,0.9852595,0.014740506\\n587,0.99995136,4.8664344e-05\\n588,4.3672024e-08,0.99999994\\n589,0.990249,0.00975103\\n590,0.99437106,0.0056289546\\n591,0.067219436,0.93278056\\n592,5.3825074e-06,0.99999464\\n593,1.8875977e-05,0.9999811\\n594,0.06953489,0.9304651\\n595,0.9769027,0.023097306\\n596,0.998566,0.0014340134\\n597,0.99822444,0.0017755817\\n598,5.4009075e-07,0.99999946\\n599,0.9994552,0.00054476754\\n600,0.99952835,0.00047164125\\n601,8.740259e-05,0.9999126\\n602,9.8827826e-05,0.9999012\\n603,0.99999976,2.5113806e-07\\n604,0.9998199,0.00018011814\\n605,0.08442016,0.91557986\\n606,0.9993441,0.00065591506\\n607,0.99893117,0.0010688524\\n608,0.9941905,0.005809468\\n609,2.9982416e-06,0.999997\\n610,0.0075809928,0.992419\\n611,0.00022363331,0.99977636\\n612,6.1797273e-06,0.9999938\\n613,0.99032927,0.009670719\\n614,0.99449027,0.0055097444\\n615,0.9986834,0.0013165947\\n616,5.4004e-06,0.9999946\\n617,0.9955249,0.004475141\\n618,0.98134106,0.018658916\\n619,8.565634e-08,0.99999994\\n620,0.9080399,0.09196009\\n621,0.9694959,0.030504128\\n622,3.222901e-05,0.99996775\\n623,1.2615053e-05,0.99998736\\n624,1.1793806e-05,0.9999882\\n625,1.1680788e-05,0.9999883\\n626,5.255631e-06,0.99999475\\n627,0.9981396,0.0018603908\\n628,0.99993736,6.2662795e-05\\n629,1.6236636e-06,0.9999984\\n630,0.0001049407,0.99989504\\n631,0.99991566,8.4331354e-05\\n632,2.0835584e-08,1.0\\n633,0.9988838,0.0011162428\\n634,0.9981458,0.0018542091\\n635,5.9142185e-05,0.9999409\\n636,0.9996868,0.0003132516\\n637,7.0811795e-05,0.9999292\\n638,0.99998724,1.2744e-05\\n639,0.9999911,8.872479e-06\\n640,0.49453318,0.50546676\\n641,5.126885e-05,0.99994874\\n642,0.999296,0.00070396636\\n643,1.3731193e-08,1.0\\n644,0.99103016,0.008969851\\n645,0.9725678,0.027432192\\n646,0.000106539956,0.9998935\\n647,0.9913195,0.00868052\\n648,0.9740454,0.025954597\\n649,0.0001133637,0.99988663\\n650,0.00011339646,0.99988663\\n651,0.9983819,0.0016180867\\n652,0.0006110898,0.99938893\\n653,0.9644781,0.03552191\\n654,3.258199e-06,0.9999967\\n655,2.7224243e-05,0.99997276\\n656,2.6025346e-06,0.9999974\\n657,0.0010911105,0.9989089\\n658,0.9974116,0.0025883669\\n659,5.0474378e-06,0.99999493\\n660,0.24263045,0.7573695\\n661,0.9999978,2.211899e-06\\n662,0.0067560133,0.993244\\n663,0.99380744,0.0061925943\\n664,0.75540537,0.24459468\\n665,3.071266e-06,0.9999969\\n666,1.0598376e-06,0.9999989\\n667,4.130622e-06,0.9999959\\n668,1.7906378e-06,0.9999982\\n669,0.95294195,0.047058076\\n670,2.8025372e-05,0.999972\\n671,0.94059795,0.059402023\\n672,0.5026952,0.49730474\\n673,0.99975175,0.00024828195\\n674,0.8525118,0.14748819\\n675,4.663873e-07,0.9999995\\n676,8.272948e-05,0.99991727\\n677,0.96980125,0.030198762\\n678,0.9998481,0.00015188452\\n679,0.99816895,0.0018310464\\n680,7.239973e-05,0.9999276\\n681,0.99435425,0.0056457454\\n682,0.0001139659,0.99988604\\n683,3.0403232e-06,0.99999696\\n684,0.00025874298,0.99974126\\n685,6.912467e-05,0.99993086\\n686,0.00032310857,0.9996769\\n687,3.301329e-05,0.999967\\n688,0.99997807,2.1924032e-05\\n689,2.434957e-06,0.99999756\\n690,0.99956656,0.00043344343\\n691,0.9890136,0.010986393\\n692,3.0250564e-07,0.9999997\\n693,0.0005833775,0.99941665\\n694,0.9977447,0.0022553052\\n695,0.0022569408,0.99774307\\n696,2.371494e-05,0.9999763\\n697,0.97505015,0.024949845\\n698,0.98950493,0.010495087\\n699,0.99875414,0.0012458308\\n700,1.9615696e-05,0.9999804\\n701,0.9996943,0.0003057008\\n702,0.99990195,9.802001e-05\\n703,0.9978342,0.0021657879\\n704,4.658213e-05,0.9999534\\n705,2.890485e-05,0.9999711\\n706,0.0002711758,0.9997288\\n707,0.97088814,0.02911189\\n708,0.9813217,0.018678315\\n709,1.41479195e-05,0.9999859\\n710,0.99180317,0.008196817\\n711,0.99980557,0.00019441232\\n712,5.60545e-08,0.99999994\\n713,7.516494e-05,0.99992484\\n714,0.9946016,0.005398383\\n715,0.017133608,0.9828664\\n716,0.9895998,0.010400194\\n717,0.7002111,0.29978892\\n718,0.99927723,0.00072275853\\n719,0.00049162534,0.9995084\\n720,1.8423747e-05,0.9999816\\n721,0.9999523,4.771058e-05\\n722,1.1940293e-08,1.0\\n723,0.9996227,0.00037728815\\n724,3.6666526e-05,0.99996334\\n725,4.514755e-05,0.9999549\\n726,0.9985359,0.0014641414\\n727,0.39272976,0.60727024\\n728,0.000618213,0.9993818\\n729,1.107053e-05,0.9999889\\n730,0.9150792,0.08492082\\n731,0.9999523,4.771058e-05\\n732,7.772866e-05,0.9999223\\n733,0.9993826,0.0006173948\\n734,0.9997213,0.00027871996\\n735,0.999988,1.1981758e-05\\n736,0.9982853,0.0017147043\\n737,0.0002611958,0.9997388\\n738,8.332384e-05,0.9999167\\n739,0.9964656,0.0035343997\\n740,2.683243e-07,0.9999997\\n741,0.9928422,0.0071578296\\n742,0.00040127826,0.99959874\\n743,0.46952903,0.53047097\\n744,0.99194914,0.008050865\\n745,0.99729425,0.0027057338\\n746,0.99553776,0.004462231\\n747,1.3693891e-06,0.9999986\\n748,3.9657496e-07,0.9999996\\n749,1.9452435e-05,0.99998057\\n750,0.9898035,0.01019652\\n751,0.9998457,0.00015432555\\n752,0.9995266,0.0004733595\\n753,2.1386306e-06,0.99999785\\n754,1.947422e-06,0.99999803\\n755,0.9956666,0.0043333885\\n756,0.9764855,0.023514539\\n757,0.9916452,0.008354775\\n758,6.2230225e-05,0.9999378\\n759,0.0052029644,0.99479705\\n760,0.0005464072,0.9994536\\n761,6.0880124e-05,0.99993914\\n762,8.048163e-06,0.99999195\\n763,0.99722296,0.0027770558\\n764,0.9979165,0.0020834524\\n765,0.9645369,0.03546308\\n766,1.18231765e-05,0.9999882\\n767,2.9692615e-05,0.9999703\\n768,0.00013392016,0.99986607\\n769,0.46015286,0.53984714\\n770,0.99993557,6.445302e-05\\n771,0.00020037041,0.9997996\\n772,0.017682604,0.9823174\\n773,4.930637e-08,0.99999994\\n774,0.96510816,0.034891866\\n775,2.2516737e-05,0.99997747\\n776,0.9996948,0.0003051519\\n777,0.999541,0.00045899276\\n778,0.7582647,0.24173525\\n779,0.9998488,0.00015121198\\n780,0.99860936,0.0013906499\\n781,0.00024009537,0.9997599\\n782,4.959943e-06,0.99999505\\n783,0.018595077,0.9814049\\n784,0.0001829668,0.999817\\n785,0.00015716972,0.9998428\\n786,7.7367085e-06,0.99999225\\n787,0.13424146,0.86575854\\n788,0.99991465,8.5329004e-05\\n789,3.1027495e-05,0.99996895\\n790,0.00040896548,0.99959105\\n791,0.99907726,0.0009227273\\n792,0.00021207737,0.9997879\\n793,0.99973404,0.00026593244\\n794,6.0395173e-06,0.999994\\n795,0.9981802,0.0018197821\\n796,9.5741825e-06,0.9999904\\n797,0.98598117,0.014018857\\n798,0.9995796,0.00042041147\\n799,0.99256617,0.007433838\\n800,0.9994468,0.000553175\\n801,0.9996502,0.00034980156\\n802,0.002232931,0.9977671\\n803,0.9927055,0.007294483\\n804,0.99850464,0.0014953712\\n805,0.9971511,0.002848941\\n806,4.7704074e-05,0.9999523\\n807,1.4331201e-07,0.9999999\\n808,0.9989347,0.0010653372\\n809,7.4946656e-06,0.9999925\\n810,3.5685436e-05,0.9999643\\n811,0.0007048666,0.9992951\\n812,4.435902e-06,0.9999956\\n813,5.5358112e-05,0.9999446\\n814,0.99851084,0.0014891472\\n815,0.00017419584,0.9998258\\n816,0.0008239759,0.999176\\n817,2.4441747e-06,0.99999756\\n818,0.9999775,2.2472503e-05\\n819,0.0003140503,0.99968594\\n820,7.072642e-05,0.99992925\\n821,0.99728537,0.002714616\\n822,0.98312813,0.016871886\\n823,0.9999601,3.9856463e-05\\n824,0.00037799668,0.999622\\n825,0.9998107,0.00018928359\\n826,1.8424802e-05,0.9999816\\n827,0.8263883,0.17361169\\n828,2.3245751e-05,0.99997675\\n829,0.9953504,0.004649603\\n830,0.9964048,0.0035951738\\n831,4.6727084e-05,0.99995327\\n832,0.0009228104,0.9990772\\n833,0.99979347,0.00020654414\\n834,0.9998337,0.00016627912\\n835,0.9998851,0.0001148925\\n836,0.9996763,0.00032372895\\n837,0.0018528249,0.9981472\\n838,0.95478225,0.045217752\\n839,3.2707112e-06,0.9999967\\n840,0.9999502,4.984437e-05\\n841,0.00012891133,0.9998711\\n842,3.7037016e-06,0.9999963\\n843,0.93041515,0.06958486\\n844,3.6415963e-07,0.99999964\\n845,9.779016e-05,0.9999022\\n846,0.8439939,0.15600608\\n847,0.99967414,0.0003258394\\n848,8.760989e-06,0.99999124\\n849,0.99926716,0.00073282624\\n850,1.374941e-05,0.99998623\\n851,4.884502e-05,0.9999512\\n852,0.99996823,3.1745647e-05\\n853,3.928972e-05,0.9999607\\n854,8.2111015e-05,0.99991786\\n855,0.9978358,0.0021641962\\n856,0.00048171263,0.9995183\\n857,0.99982035,0.00017962026\\n858,0.08344313,0.9165569\\n859,0.04191189,0.9580881\\n860,1.2023468e-05,0.99998796\\n861,0.99467105,0.0053289263\\n862,0.99842167,0.0015783169\\n863,0.00017045147,0.99982953\\n864,1.4807684e-07,0.9999999\\n865,0.9995714,0.0004286205\\n866,0.9999516,4.839223e-05\\n867,1.0689851e-05,0.99998933\\n868,1.2916176e-05,0.99998707\\n869,1.0523422e-06,0.9999989\\n870,0.998143,0.0018569874\\n871,6.112567e-05,0.99993885\\n872,2.3734849e-05,0.9999763\\n873,0.37195432,0.6280457\\n874,0.9903178,0.0096821785\\n875,1.6972186e-06,0.99999833\\n876,1.0553442e-06,0.9999989\\n877,0.99967986,0.00032015692\\n878,0.9999605,3.9511706e-05\\n879,0.8829361,0.11706385\\n880,6.0997918e-05,0.999939\\n881,1.7803222e-05,0.9999822\\n882,0.056719817,0.94328016\\n883,0.7882571,0.21174291\\n884,0.99701524,0.0029847908\\n885,0.9999994,5.751446e-07\\n886,0.9975828,0.0024171784\\n887,4.4977958e-07,0.9999995\\n888,0.0071562743,0.99284375\\n889,8.59034e-06,0.9999914\\n890,0.0068318513,0.9931682\\n891,0.9214203,0.07857973\\n892,0.99511683,0.004883181\\n893,0.83938795,0.16061203\\n894,2.0565407e-05,0.99997944\\n895,0.9999516,4.839223e-05\\n896,0.989517,0.01048303\\n897,0.9747051,0.025294924\\n898,1.1890331e-05,0.99998814\\n899,1.2159257e-05,0.99998784\\n900,0.0001487301,0.9998513\\n901,0.9996845,0.00031548983\\n902,0.9944346,0.0055654207\\n903,1.1245357e-06,0.99999887\\n904,8.7072436e-07,0.9999991\\n905,0.0026241727,0.99737585\\n906,0.9997061,0.00029392354\\n907,0.00010325965,0.99989676\\n908,7.5227435e-06,0.9999925\\n909,4.7666916e-05,0.9999523\\n910,3.8777914e-09,1.0\\n911,0.75114256,0.24885744\\n912,0.005970621,0.9940294\\n913,0.7603148,0.23968518\\n914,5.727014e-06,0.9999943\\n915,0.9877479,0.012252067\\n916,0.00011609246,0.9998839\\n917,0.1703951,0.8296049\\n918,0.124590024,0.87540996\\n919,0.97963226,0.020367745\\n920,0.09015098,0.909849\\n921,0.80359495,0.19640504\\n922,8.1556886e-05,0.99991846\\n923,4.3200384e-07,0.9999996\\n924,0.99992645,7.355577e-05\\n925,0.0048995945,0.9951004\\n926,0.9996745,0.0003254954\\n927,0.99984837,0.00015163967\\n928,0.9995638,0.00043620673\\n929,0.00013420344,0.9998658\\n930,0.0019051679,0.99809486\\n931,3.1903935e-06,0.9999968\\n932,0.00011764313,0.99988234\\n933,0.000108406224,0.9998916\\n934,8.1468505e-05,0.9999185\\n935,0.981126,0.01887397\\n936,0.0001866145,0.9998134\\n937,0.9987101,0.0012898778\\n938,0.99812806,0.0018719399\\n939,0.9974986,0.0025013993\\n940,0.9831979,0.016802046\\n941,0.99901426,0.000985733\\n942,0.99968016,0.0003198494\\n943,0.0007545398,0.99924546\\n944,2.846368e-05,0.9999715\\n945,0.9914841,0.0085158795\\n946,0.94625187,0.05374811\\n947,0.99992645,7.356727e-05\\n948,5.0248264e-06,0.999995\\n949,1.2217072e-05,0.9999878\\n950,2.5191841e-06,0.9999975\\n951,0.0003427627,0.9996572\\n952,0.06766548,0.93233454\\n953,0.069105506,0.9308945\\n954,0.72749704,0.272503\\n955,0.99587107,0.004128954\\n956,0.9959864,0.004013626\\n957,6.36542e-05,0.99993634\\n958,5.2598076e-05,0.9999474\\n959,2.1964503e-05,0.999978\\n960,0.00013816776,0.99986184\\n961,0.9999459,5.4120494e-05\\n962,2.4547194e-06,0.99999756\\n963,0.9995746,0.0004253849\\n964,0.99627084,0.0037291914\\n965,3.187819e-07,0.9999997\\n966,0.8959841,0.104015894\\n967,4.468282e-05,0.9999553\\n968,6.6792754e-06,0.9999933\\n969,5.738828e-07,0.9999994\\n970,0.0001788988,0.9998211\\n971,1.4236353e-05,0.99998575\\n972,0.00035172317,0.9996483\\n973,1.2399594e-05,0.9999876\\n974,0.3284301,0.6715699\\n975,7.124657e-05,0.9999288\\n976,0.007894553,0.9921054\\n977,2.8416734e-05,0.99997157\\n978,0.98693573,0.013064278\\n979,0.27719072,0.72280926\\n980,0.99998975,1.0228268e-05\\n981,0.99997985,2.014936e-05\\n982,9.6588614e-05,0.99990344\\n983,5.8617243e-06,0.99999416\\n984,0.9986821,0.0013179227\\n985,0.0001731453,0.99982685\\n986,0.9996813,0.00031870612\\n987,0.99868715,0.0013128232\\n988,2.2365668e-05,0.99997765\\n989,0.99925774,0.0007422553\\n990,0.9996813,0.00031870612\\n991,8.873755e-05,0.99991125\\n992,0.0058262865,0.9941737\\n993,0.997485,0.0025150115\\n994,0.0001863407,0.9998137\\n995,0.00028541914,0.99971455\\n996,4.918834e-06,0.99999505\\n997,1.9550107e-05,0.99998045\\n998,6.5381397e-07,0.99999934\\n999,0.17914245,0.8208575\\n1000,7.7729484e-05,0.9999223\\n1001,3.3964974e-05,0.999966\\n1002,0.0023806298,0.9976194\\n1003,7.3976706e-05,0.99992603\\n1004,1.546211e-05,0.99998456\\n1005,1.9675159e-05,0.99998033\\n1006,8.052582e-05,0.9999195\\n1007,0.9985858,0.0014141694\\n1008,0.99748963,0.0025103756\\n1009,0.9999495,5.0461284e-05\\n1010,2.8956547e-06,0.9999971\\n1011,0.99291915,0.0070808358\\n1012,0.99967176,0.00032825896\\n1013,0.9994883,0.00051171373\\n1014,6.480757e-06,0.9999935\\n1015,2.9002234e-05,0.999971\\n1016,0.00024866618,0.9997513\\n1017,0.9990937,0.0009063101\\n1018,7.8535035e-05,0.99992144\\n1019,4.6362493e-05,0.9999536\\n1020,0.9961654,0.003834583\\n1021,0.9998841,0.000115890165\\n1022,0.00011904924,0.99988097\\n1023,0.9995706,0.0004293881\\n1024,0.9896338,0.01036618\\n1025,0.00031031243,0.9996897\\n1026,0.99972177,0.0002782391\\n1027,0.00052468135,0.9994753\\n1028,0.00074841373,0.9992516\\n1029,0.99967176,0.00032825896\\n1030,7.642596e-05,0.9999236\\n1031,1.03783435e-07,0.9999999\\n1032,3.1680956e-05,0.9999683\\n1033,0.0023039565,0.99769604\\n1034,0.99989957,0.000100406956\\n1035,0.99967176,0.00032825896\\n1036,0.9969107,0.0030892985\\n1037,0.9991123,0.00088768394\\n1038,0.0001395095,0.99986047\\n1039,0.99967176,0.00032825896\\n1040,0.0011324675,0.9988675\\n1041,0.0008456998,0.9991543\\n1042,0.00010214097,0.99989784\\n1043,0.9999918,8.224017e-06\\n1044,0.9997787,0.00022129207\\n1045,0.99837214,0.0016278824\\n1046,4.8674784e-09,1.0\\n1047,2.6633408e-05,0.99997336\\n1048,0.180415,0.819585\\n1049,3.1397751e-06,0.99999684\\n1050,0.9999696,3.038546e-05\\n1051,2.9620554e-05,0.9999704\\n1052,0.9996015,0.0003985169\\n1053,0.9674386,0.032561418\\n1054,7.3574915e-06,0.99999267\\n1055,0.00034353996,0.99965644\\n1056,1.7600947e-05,0.9999824\\n1057,0.00014752416,0.9998525\\n1058,0.9962744,0.0037256042\\n1059,0.9964623,0.0035377399\\n1060,4.0061605e-06,0.999996\\n1061,0.9999289,7.111442e-05\\n1062,0.99968535,0.00031464908\\n1063,0.99293905,0.007060929\\n1064,0.7885718,0.2114282\\n1065,0.92310786,0.07689215\\n1066,0.9999898,1.0175789e-05\\n1067,0.9905329,0.009467117\\n1068,4.8771522e-05,0.99995124\\n1069,0.00024205877,0.99975795\\n1070,1.3323189e-06,0.9999987\\n1071,0.9947518,0.005248181\\n1072,0.9999419,5.8134166e-05\\n1073,2.1605207e-05,0.9999784\\n1074,0.9978672,0.0021327953\\n1075,0.0031534652,0.99684656\\n1076,0.99992675,7.32459e-05\\n1077,3.713263e-05,0.99996287\\n1078,0.99734443,0.00265555\\n1079,0.99843454,0.0015654363\\n1080,0.0012227306,0.9987773\\n1081,0.00031303873,0.99968696\\n1082,2.4351462e-05,0.9999756\\n1083,0.0002640656,0.99973595\\n1084,0.99505585,0.0049441583\\n1085,0.9999611,3.892202e-05\\n1086,9.206194e-06,0.9999908\\n1087,0.98442733,0.015572641\\n1088,0.9927905,0.007209498\\n1089,0.9999508,4.9158574e-05\\n1090,0.99999714,2.8423788e-06\\n1091,0.011380567,0.98861945\\n1092,0.99076754,0.009232489\\n1093,0.9999508,4.9158574e-05\\n1094,0.92731965,0.07268034\\n1095,0.8503984,0.14960158\\n1096,5.5906352e-05,0.9999441\\n1097,0.9999425,5.7508943e-05\\n1098,6.409847e-07,0.99999934\\n1099,0.9966159,0.003384095\\n1100,7.792088e-05,0.9999221\\n1101,0.9989305,0.0010694716\\n1102,0.9998812,0.000118812895\\n1103,9.983326e-05,0.99990016\\n1104,7.600957e-05,0.999924\\n1105,0.99995047,4.9527764e-05\\n1106,9.4175766e-07,0.99999905\\n1107,0.99848956,0.0015104524\\n1108,1.0915833e-05,0.9999891\\n1109,0.0019600927,0.9980399\\n1110,0.99995047,4.9527764e-05\\n1111,0.038313,0.96168697\\n1112,0.99995047,4.9527764e-05\\n1113,0.00027246567,0.99972755\\n1114,0.08577185,0.91422814\\n1115,0.99826396,0.0017360167\\n1116,0.99967825,0.00032174744\\n1117,0.99967825,0.00032174744\\n1118,0.0066704634,0.9933295\\n1119,0.995438,0.0045619975\\n1120,0.07118655,0.92881346\\n1121,0.91594106,0.084058926\\n1122,4.243997e-06,0.99999577\\n1123,0.965456,0.034543984\\n1124,1.0806884e-06,0.9999989\\n1125,0.9784104,0.021589547\\n1126,8.0958856e-08,0.99999994\\n1127,4.4089434e-06,0.9999956\\n1128,6.597518e-07,0.99999934\\n1129,0.0015687855,0.9984312\\n1130,0.99907655,0.0009234339\\n1131,0.99972945,0.00027052482\\n1132,0.9998076,0.00019240502\\n1133,0.9950909,0.0049091103\\n1134,0.99701643,0.0029835505\\n1135,0.9998676,0.00013239247\\n1136,0.97991335,0.020086631\\n1137,1.002103e-05,0.99999\\n1138,0.00023582218,0.9997642\\n1139,0.19617882,0.80382115\\n1140,0.9993747,0.0006253261\\n1141,0.99957657,0.0004234221\\n1142,0.9995704,0.00042958095\\n1143,0.98924303,0.01075697\\n1144,3.4741572e-06,0.99999654\\n1145,0.0017899515,0.9982101\\n1146,0.9984432,0.0015568022\\n1147,0.9996391,0.00036093124\\n1148,0.9726842,0.027315801\\n1149,0.0003282383,0.99967176\\n1150,0.17599656,0.82400346\\n1151,6.4299245e-05,0.9999357\\n1152,0.99868226,0.0013177125\\n1153,2.363168e-05,0.9999764\\n1154,0.6309716,0.3690284\\n1155,2.3061646e-09,1.0\\n1156,5.340885e-06,0.99999464\\n1157,1.2906297e-06,0.9999987\\n1158,1.1897351e-05,0.9999881\\n1159,0.9998438,0.00015619623\\n1160,1.6279873e-08,1.0\\n1161,0.00033325973,0.99966675\\n1162,0.002857482,0.9971425\\n1163,0.9833868,0.016613172\\n1164,0.00025564447,0.99974436\\n1165,3.607806e-08,0.99999994\\n1166,6.400794e-08,0.99999994\\n1167,0.57331383,0.4266861\\n1168,0.0024806196,0.9975194\\n1169,2.522675e-06,0.9999975\\n1170,5.7514702e-05,0.9999425\\n1171,3.6473528e-05,0.9999635\\n1172,0.000110403904,0.9998896\\n1173,0.9983761,0.0016239184\\n1174,0.00615667,0.9938433\\n1175,9.542595e-08,0.9999999\\n1176,0.70589375,0.29410627\\n1177,0.97677916,0.023220835\\n1178,0.041344162,0.95865583\\n1179,7.10734e-05,0.99992895\\n1180,0.99957263,0.0004273484\\n1181,0.993514,0.0064859893\\n1182,1.4693655e-06,0.9999985\\n1183,0.00013099556,0.999869\\n1184,6.176217e-05,0.99993825\\n1185,0.9994286,0.00057142077\\n1186,0.9993916,0.0006084099\\n1187,0.9936755,0.0063245576\\n1188,6.666259e-05,0.99993336\\n1189,0.9995692,0.00043080936\\n1190,0.9199565,0.08004352\\n1191,3.2896758e-05,0.9999671\\n1192,2.0873626e-05,0.99997914\\n1193,2.6161564e-07,0.99999976\\n1194,3.10083e-05,0.999969\\n1195,0.99994063,5.9391597e-05\\n1196,0.0016715402,0.99832845\\n1197,2.9848223e-05,0.99997014\\n1198,0.9982414,0.0017585878\\n1199,0.99492645,0.005073568\\n1200,2.062643e-06,0.9999979\\n1201,0.9997625,0.0002374996\\n1202,0.99995136,4.8625145e-05\\n1203,9.764513e-06,0.9999902\\n1204,0.02981639,0.9701836\\n1205,0.99978685,0.00021314996\\n1206,0.7251117,0.27488825\\n1207,0.013532301,0.9864677\\n1208,0.9951295,0.0048704576\\n1209,0.99523896,0.004761021\\n1210,0.111381955,0.88861805\\n1211,0.9996976,0.00030239538\\n1212,0.00022041693,0.9997796\\n1213,0.9972698,0.0027302164\\n1214,0.02197305,0.9780269\\n1215,0.9964739,0.0035260662\\n1216,5.8100137e-05,0.9999419\\n1217,0.99995136,4.8625145e-05\\n1218,0.0017116251,0.9982884\\n1219,0.9957857,0.0042142994\\n1220,5.672992e-06,0.99999434\\n1221,9.459314e-05,0.9999054\\n1222,0.9412287,0.058771335\\n1223,0.9998728,0.00012721372\\n1224,5.4505115e-05,0.9999455\\n1225,4.925533e-05,0.99995077\\n1226,0.0076996973,0.99230033\\n1227,0.9991893,0.0008107025\\n1228,9.784123e-07,0.99999905\\n1229,0.9998596,0.00014044635\\n1230,8.288762e-06,0.9999917\\n1231,0.90417546,0.095824555\\n1232,0.9999117,8.825308e-05\\n1233,0.9999448,5.517034e-05\\n1234,0.99657947,0.003420538\\n1235,2.004979e-06,0.999998\\n1236,3.9659267e-06,0.999996\\n1237,2.6303906e-05,0.9999737\\n1238,2.9723298e-05,0.99997026\\n1239,7.0411694e-08,0.99999994\\n1240,4.61398e-06,0.9999954\\n1241,0.99995136,4.8625145e-05\\n1242,0.9716361,0.02836387\\n1243,0.0007124019,0.9992876\\n1244,0.00017266852,0.9998273\\n1245,3.764287e-05,0.99996233\\n1246,0.9957502,0.0042498326\\n1247,0.0031967196,0.9968033\\n1248,0.9999516,4.839223e-05\\n1249,0.99383247,0.0061675482\\n1250,0.9923914,0.007608602\\n1251,3.5079975e-05,0.9999649\\n1252,0.9999266,7.3367184e-05\\n1253,0.9987125,0.0012875465\\n1254,0.9990289,0.0009710852\\n1255,7.34413e-06,0.99999267\\n1256,0.00045435727,0.99954563\\n1257,4.132117e-05,0.9999587\\n1258,9.565611e-08,0.9999999\\n1259,0.0576041,0.9423959\\n1260,0.9999516,4.839223e-05\\n1261,1.5976702e-05,0.999984\\n1262,0.91633177,0.08366821\\n1263,5.54418e-05,0.99994457\\n1264,0.00066289667,0.9993371\\n1265,0.99764013,0.0023598527\\n1266,0.9957325,0.0042675314\\n1267,0.9997554,0.0002445912\\n1268,0.9040188,0.095981166\\n1269,0.99974424,0.00025578955\\n1270,1.8074116e-08,1.0\\n1271,0.000220825,0.99977916\\n1272,0.99665564,0.0033443512\\n1273,0.99998105,1.8936016e-05\\n1274,0.0007096711,0.99929035\\n1275,0.00081645796,0.99918354\\n1276,0.97076434,0.029235665\\n1277,0.0010439154,0.9989561\\n1278,0.998929,0.001071001\\n1279,1.0666469e-07,0.9999999\\n1280,0.9990049,0.0009951058\\n1281,1.0842875e-05,0.99998915\\n1282,0.99567527,0.004324764\\n1283,0.9999516,4.839223e-05\\n1284,0.9979685,0.0020315005\\n1285,0.9633275,0.036672466\\n1286,3.2976182e-06,0.9999967\\n1287,2.3706682e-06,0.9999976\\n1288,3.067685e-05,0.9999693\\n1289,0.99879676,0.0012032487\\n1290,1.6380734e-05,0.9999836\\n1291,0.99950206,0.00049795693\\n1292,0.9999084,9.161893e-05\\n1293,0.99945647,0.0005435575\\n1294,0.00018237635,0.9998176\\n1295,7.6529446e-05,0.99992347\\n1296,3.4661905e-05,0.9999653\\n1297,2.6246325e-05,0.9999738\\n1298,1.814974e-06,0.9999982\\n1299,0.00024737103,0.99975264\\n1300,2.2982238e-06,0.9999977\\n1301,4.4524522e-06,0.9999955\\n1302,4.3095548e-05,0.9999569\\n1303,0.000481877,0.9995181\\n1304,8.8965724e-05,0.999911\\n1305,0.9999802,1.9808982e-05\\n1306,0.019217534,0.98078245\\n1307,5.026399e-05,0.99994975\\n1308,0.9619064,0.0380936\\n1309,0.99698067,0.0030193315\\n1310,0.9997367,0.0002632903\\n1311,0.19942048,0.80057955\\n1312,0.99708116,0.0029188236\\n1313,0.9987394,0.0012605806\\n1314,0.9998702,0.000129843\\n1315,0.00021615089,0.9997839\\n1316,0.00026226882,0.99973774\\n1317,0.99717367,0.002826352\\n1318,0.0020814885,0.9979185\\n1319,0.9916939,0.008306103\\n1320,0.52750504,0.47249493\\n1321,0.99971604,0.00028397297\\n1322,0.995764,0.00423597\\n1323,0.0002884986,0.9997115\\n1324,0.999734,0.00026601183\\n1325,0.9999559,4.410777e-05\\n1326,0.99903345,0.0009665448\\n1327,0.9994148,0.0005852259\\n1328,0.98193747,0.01806252\\n1329,5.0133194e-06,0.999995\\n1330,0.9894712,0.010528782\\n1331,0.99741715,0.002582864\\n1332,0.9957246,0.0042753657\\n1333,0.00012789253,0.9998721\\n1334,1.0585785e-05,0.9999894\\n1335,0.0012793113,0.9987207\\n1336,9.333051e-05,0.99990666\\n1337,0.00015473562,0.99984527\\n1338,0.9989838,0.0010162252\\n1339,0.99312437,0.0068756095\\n1340,0.00014900036,0.999851\\n1341,0.004082077,0.9959179\\n1342,0.9974594,0.0025405828\\n1343,0.98221284,0.017787188\\n1344,0.99968195,0.0003180778\\n1345,0.00013384204,0.9998662\\n1346,3.9602844e-05,0.9999604\\n1347,7.3156414e-08,0.99999994\\n1348,0.0003628892,0.9996371\\n1349,0.99997586,2.4128529e-05\\n1350,0.8014094,0.19859059\\n1351,0.001092726,0.99890727\\n1352,0.0001558585,0.99984413\\n1353,3.912401e-05,0.9999609\\n1354,0.99880886,0.0011911552\\n1355,3.750852e-08,0.99999994\\n1356,5.499946e-05,0.999945\\n1357,0.9997708,0.00022915029\\n1358,0.99883604,0.0011639433\\n1359,0.9992595,0.00074050983\\n1360,0.00028476655,0.9997152\\n1361,0.9852695,0.014730538\\n1362,3.5632693e-05,0.99996436\\n1363,0.9944439,0.0055561103\\n1364,0.8948458,0.10515422\\n1365,0.9999162,8.378389e-05\\n1366,0.9988203,0.0011797145\\n1367,0.9994134,0.0005866292\\n1368,1.2310052e-10,1.0\\n1369,0.0008404524,0.9991596\\n1370,7.241148e-07,0.9999993\\n1371,0.97700495,0.022995038\\n1372,0.00018242799,0.99981755\\n1373,0.9968137,0.003186278\\n1374,0.98982894,0.0101710595\\n1375,0.00019181921,0.9998082\\n1376,0.9996294,0.00037064904\\n1377,0.00035267303,0.9996473\\n1378,2.6187674e-06,0.9999974\\n1379,7.341764e-05,0.99992657\\n1380,0.999543,0.00045701198\\n1381,0.00049919356,0.9995008\\n1382,0.99470025,0.0052997456\\n1383,5.895097e-06,0.9999941\\n1384,2.8249266e-05,0.99997175\\n1385,2.6754835e-05,0.99997324\\n1386,0.00020840405,0.9997916\\n1387,0.99923337,0.0007666288\\n1388,0.9999509,4.9132424e-05\\n1389,0.43377867,0.5662213\\n1390,5.8475885e-05,0.9999415\\n1391,0.99321634,0.006783684\\n1392,0.9961353,0.0038647035\\n1393,0.988025,0.011974969\\n1394,0.9990542,0.00094577944\\n1395,7.533913e-08,0.99999994\\n1396,1.2032898e-05,0.99998796\\n1397,0.9989135,0.0010864716\\n1398,0.0007401843,0.9992598\\n1399,0.99979466,0.00020534908\\n1400,1.360637e-05,0.9999864\\n1401,0.99780715,0.0021928542\\n1402,4.1290713e-07,0.9999996\\n1403,3.553198e-06,0.9999964\\n1404,0.99924606,0.00075395504\\n1405,0.9969871,0.0030129163\\n1406,9.2792825e-06,0.9999907\\n1407,0.9936171,0.0063828626\\n1408,0.00020737154,0.99979264\\n1409,2.8892586e-05,0.9999711\\n1410,0.9582098,0.041790172\\n1411,0.99938357,0.00061640993\\n1412,0.1158146,0.88418543\\n1413,4.2116033e-05,0.99995786\\n1414,5.9095164e-05,0.99994093\\n1415,0.0011595627,0.99884045\\n1416,7.561452e-08,0.99999994\\n1417,0.0009962844,0.9990037\\n1418,9.4519295e-05,0.99990547\\n1419,0.9524774,0.047522582\\n1420,0.99952906,0.00047096604\\n1421,8.6955265e-07,0.9999991\\n1422,0.00042084974,0.99957913\\n1423,0.00032096772,0.999679\\n1424,0.0016270533,0.998373\\n1425,0.9999102,8.983383e-05\\n1426,0.96435374,0.035646245\\n1427,0.00037275424,0.99962723\\n1428,0.99994236,5.761895e-05\\n1429,0.00014685413,0.99985313\\n1430,0.7202106,0.27978936\\n1431,7.4512944e-05,0.9999255\\n1432,3.5619001e-07,0.99999964\\n1433,0.008902056,0.9910979\\n1434,8.0454697e-07,0.9999992\\n1435,2.415045e-06,0.99999756\\n1436,0.66475034,0.33524963\\n1437,1.1486224e-07,0.9999999\\n1438,0.99971324,0.00028678027\\n1439,0.9982555,0.0017445019\\n1440,0.9543657,0.045634326\\n1441,2.0050402e-06,0.999998\\n1442,3.784339e-05,0.99996215\\n1443,0.0002130051,0.999787\\n1444,8.4603766e-05,0.9999154\\n1445,0.99975157,0.0002484297\\n1446,0.9999116,8.840984e-05\\n1447,0.6956134,0.30438665\\n1448,0.99972624,0.00027374097\\n1449,0.95790696,0.042093053\\n1450,2.0534324e-05,0.99997944\\n1451,5.7181717e-07,0.9999994\\n1452,0.99871594,0.0012840476\\n1453,0.9999011,9.8907774e-05\\n1454,0.95940197,0.040598042\\n1455,0.99937534,0.0006246471\\n1456,0.99966556,0.00033446253\\n1457,0.009679546,0.99032044\\n1458,0.9969649,0.0030351183\\n1459,1.5126186e-07,0.9999998\\n1460,0.79462016,0.20537986\\n1461,0.9996854,0.0003146203\\n1462,0.00040142995,0.99959856\\n1463,9.3734365e-05,0.99990624\\n1464,0.9630114,0.03698863\\n1465,3.0236163e-06,0.99999696\\n1466,0.99967086,0.00032911095\\n1467,0.9999677,3.2298514e-05\\n1468,4.341308e-05,0.9999566\\n1469,2.0160298e-05,0.99997985\\n1470,0.99681574,0.0031842722\\n1471,5.786293e-05,0.9999421\\n1472,0.62791103,0.372089\\n1473,0.017728368,0.9822716\\n1474,0.99814445,0.0018555765\\n1475,4.0483455e-06,0.99999595\\n1476,0.9974344,0.0025656058\\n1477,0.99850094,0.0014990581\\n1478,0.9999518,4.8217e-05\\n1479,0.9936559,0.0063440986\\n1480,0.99995625,4.3765664e-05\\n1481,0.0011352601,0.9988647\\n1482,5.1544794e-05,0.99994844\\n1483,6.3862266e-05,0.99993616\\n1484,0.9931624,0.006837603\\n1485,1.9817156e-07,0.9999998\\n1486,0.9947223,0.0052776933\\n1487,0.99840426,0.001595752\\n1488,0.00017430933,0.9998257\\n1489,0.00012023045,0.9998798\\n1490,0.00016306087,0.9998369\\n1491,0.99945676,0.00054323993\\n1492,3.6056986e-06,0.9999964\\n1493,0.99998754,1.24662765e-05\\n1494,0.9993105,0.0006895146\\n1495,4.5869463e-05,0.9999541\\n1496,1.3508586e-05,0.99998647\\n1497,0.9731639,0.026836084\\n1498,0.7135295,0.28647047\\n1499,1.9570853e-05,0.99998045\\n1500,0.00013154684,0.99986845\\n1501,0.00010931203,0.9998907\\n1502,0.99415237,0.0058476287\\n1503,0.98706657,0.012933408\\n1504,0.042573366,0.9574266\\n1505,0.9918331,0.008166887\\n1506,0.99601185,0.003988162\\n1507,0.18692379,0.8130762\\n1508,5.5806213e-05,0.9999442\\n1509,0.00016891057,0.9998311\\n1510,0.9997992,0.00020081356\\n1511,9.177931e-06,0.9999908\\n1512,0.0007261684,0.99927384\\n1513,9.4934853e-07,0.99999905\\n1514,0.0014929111,0.9985071\\n1515,2.6401314e-05,0.9999736\\n1516,0.9404997,0.059500262\\n1517,0.9604905,0.03950949\\n1518,0.999363,0.0006369988\\n1519,7.723128e-07,0.9999992\\n1520,0.0001979019,0.9998021\\n1521,0.96647704,0.03352295\\n1522,6.62951e-06,0.9999934\\n1523,0.96256894,0.03743105\\n1524,0.93722016,0.06277984\\n1525,0.9604173,0.039582714\\n1526,0.0021846844,0.9978153\\n1527,0.9936749,0.006325145\\n1528,0.99246645,0.0075335205\\n1529,0.99999636,3.6630317e-06\\n1530,0.00010296575,0.99989706\\n1531,2.0457781e-05,0.99997956\\n1532,0.9986345,0.0013654596\\n1533,0.99919915,0.0008008212\\n1534,0.0040335795,0.99596643\\n1535,0.99759674,0.002403244\\n1536,6.9967246e-05,0.99993\\n1537,0.9992634,0.0007365868\\n1538,5.093919e-06,0.99999493\\n1539,7.6644517e-07,0.9999992\\n1540,6.7533565e-06,0.99999326\\n1541,1.8125886e-06,0.9999982\\n1542,0.99865294,0.0013470851\\n1543,8.802573e-05,0.99991196\\n1544,2.6139614e-05,0.99997383\\n1545,0.9993635,0.00063654606\\n1546,0.9996826,0.00031740466\\n1547,0.0003095811,0.9996904\\n1548,0.99802834,0.0019716881\\n1549,0.99872255,0.0012774555\\n1550,0.99930376,0.0006962303\\n1551,6.0036313e-05,0.99994\\n1552,0.99998784,1.2137789e-05\\n1553,6.003346e-06,0.999994\\n1554,0.33186352,0.6681365\\n1555,4.074735e-05,0.99995923\\n1556,0.9943083,0.0056916894\\n1557,6.676419e-05,0.99993324\\n1558,0.00088745815,0.99911255\\n1559,1.07189035e-05,0.9999893\\n1560,1.4561076e-05,0.99998546\\n1561,0.0013496535,0.9986504\\n1562,6.3528365e-05,0.99993646\\n1563,0.06168999,0.93831\\n1564,0.9976261,0.0023738693\\n1565,2.3625723e-06,0.9999976\\n1566,0.94098854,0.05901144\\n1567,0.9866292,0.013370815\\n1568,0.00014233655,0.99985766\\n1569,0.99479645,0.0052035665\\n1570,0.028014947,0.97198504\\n1571,0.99815696,0.0018430093\\n1572,0.93656874,0.06343127\\n1573,0.00016820629,0.9998318\\n1574,1.8416209e-06,0.99999815\\n1575,0.9996826,0.00031740466\\n1576,0.54163337,0.45836666\\n1577,0.9952581,0.0047419337\\n1578,6.751739e-05,0.99993247\\n1579,0.99858856,0.0014114092\\n1580,0.9632814,0.0367186\\n1581,3.0600473e-05,0.9999694\\n1582,3.8944665e-05,0.9999611\\n1583,5.421736e-07,0.99999946\\n1584,0.99833155,0.0016684828\\n1585,0.9757409,0.024259117\\n1586,2.4829915e-06,0.9999975\\n1587,0.000670263,0.99932975\\n1588,6.2504936e-05,0.9999375\\n1589,0.9984073,0.0015926751\\n1590,0.99846244,0.001537576\\n1591,2.6708542e-05,0.9999733\\n1592,0.00014270564,0.9998573\\n1593,5.1920866e-05,0.9999481\\n1594,0.97843456,0.021565463\\n1595,0.98180544,0.018194566\\n1596,0.0032653878,0.9967346\\n1597,6.879344e-05,0.9999312\\n1598,0.9996892,0.0003107933\\n1599,1.7010305e-05,0.999983\\n1600,0.1519001,0.8480999\\n1601,0.997673,0.0023270329\\n1602,0.99867994,0.0013200445\\n1603,0.998839,0.0011609514\\n1604,0.9942272,0.005772855\\n1605,0.00011000771,0.99988997\\n1606,1.9605746e-05,0.9999804\\n1607,0.9988685,0.0011314814\\n1608,0.9777523,0.022247702\\n1609,0.00029918787,0.9997008\\n1610,6.339467e-07,0.99999934\\n1611,0.9991369,0.0008630649\\n1612,0.9981227,0.0018773325\\n1613,0.00016221817,0.99983776\\n1614,0.8830394,0.1169606\\n1615,0.25185242,0.7481476\\n1616,0.93296343,0.067036584\\n1617,0.00011115126,0.99988884\\n1618,0.9973059,0.0026940654\\n1619,6.242276e-06,0.99999374\\n1620,0.9971868,0.0028132026\\n1621,0.9992068,0.0007932464\\n1622,0.006762365,0.9932376\\n1623,0.99938875,0.00061126106\\n1624,0.9923305,0.0076694917\\n1625,1.4820343e-06,0.9999985\\n1626,8.3371044e-05,0.9999166\\n1627,0.99041516,0.009584868\\n1628,2.0644498e-05,0.9999794\\n1629,0.00013162714,0.9998684\\n1630,0.00048102022,0.999519\\n1631,1.6572638e-05,0.99998343\\n1632,8.751001e-05,0.9999125\\n1633,0.00022092399,0.9997791\\n1634,1.6020276e-05,0.99998397\\n1635,1.7231619e-07,0.9999998\\n1636,0.9988875,0.0011124976\\n1637,5.0702947e-05,0.9999493\\n1638,0.002608936,0.99739105\\n1639,0.999589,0.00041099152\\n1640,0.3002,0.6998\\n1641,3.7773727e-08,0.99999994\\n1642,0.9964297,0.003570307\\n1643,0.010231059,0.9897689\\n1644,5.7278685e-05,0.9999427\\n1645,0.00029302426,0.999707\\n1646,0.28925094,0.7107491\\n1647,0.9996763,0.0003237234\\n1648,0.97968686,0.020313157\\n1649,0.9890273,0.010972693\\n1650,0.99885356,0.0011464418\\n1651,0.7099577,0.29004228\\n1652,0.00013608707,0.9998639\\n1653,0.00014946082,0.9998505\\n1654,0.9986943,0.0013056813\\n1655,1.6050534e-06,0.9999984\\n1656,0.98721534,0.012784675\\n1657,1.4151883e-09,1.0\\n1658,0.9730087,0.026991324\\n1659,0.9989514,0.0010485952\\n1660,0.99235255,0.007647455\\n1661,0.99997634,2.3673385e-05\\n1662,0.9974701,0.0025299196\\n1663,0.056719817,0.94328016\\n1664,0.00023964801,0.9997603\\n1665,0.00082413375,0.99917585\\n1666,0.99659175,0.0034082357\\n1667,0.9997794,0.00022056786\\n1668,0.998502,0.0014980078\\n1669,0.9662505,0.033749536\\n1670,0.9651592,0.03484082\\n1671,1.8401377e-05,0.9999816\\n1672,0.5782373,0.42176268\\n1673,0.9210424,0.07895764\\n1674,0.00058506633,0.9994149\\n1675,0.9990679,0.0009321021\\n1676,0.99997,2.9992489e-05\\n1677,0.9218545,0.07814552\\n1678,0.9761469,0.023853108\\n1679,7.742417e-05,0.9999226\\n1680,6.0725583e-06,0.9999939\\n1681,1.5888105e-05,0.9999841\\n1682,1.47281635e-05,0.9999853\\n1683,0.0005488074,0.9994512\\n1684,0.00010031585,0.9998997\\n1685,0.9959302,0.0040698266\\n1686,1.4401268e-06,0.99999857\\n1687,1.290851e-07,0.9999999\\n1688,0.00019135559,0.99980867\\n1689,0.99661255,0.0033874612\\n1690,3.5289184e-05,0.9999647\\n1691,0.97567934,0.02432069\\n1692,0.9999417,5.8316346e-05\\n1693,1.283677e-06,0.9999987\\n1694,0.24944034,0.7505597\\n1695,0.9992664,0.0007335969\\n1696,0.99922335,0.00077664293\\n1697,1.6896428e-07,0.9999998\\n1698,0.9999823,1.7676119e-05\\n1699,0.053185698,0.9468143\\n1700,7.1867325e-05,0.9999281\\n1701,3.6140534e-07,0.99999964\\n1702,0.000120631696,0.99987936\\n1703,0.9861918,0.013808177\\n1704,0.000115141134,0.99988484\\n1705,2.4386973e-05,0.9999756\\n1706,0.00024262993,0.99975735\\n1707,0.9999587,4.1318806e-05\\n1708,0.9903855,0.009614527\\n1709,2.6517992e-05,0.9999735\\n1710,1.5669323e-06,0.99999845\\n1711,4.0851937e-05,0.9999592\\n1712,8.4314996e-07,0.99999917\\n1713,0.00035379507,0.9996462\\n1714,8.063054e-05,0.99991935\\n1715,0.9899435,0.010056478\\n1716,0.992818,0.0071819904\\n1717,0.00037293532,0.99962705\\n1718,8.2514314e-05,0.9999175\\n1719,8.385716e-06,0.9999916\\n1720,0.022810925,0.97718906\\n1721,0.006069937,0.99393004\\n1722,0.9288712,0.07112876\\n1723,0.9476211,0.05237892\\n1724,8.8575915e-05,0.9999114\\n1725,0.8193629,0.18063709\\n1726,7.7603694e-08,0.99999994\\n1727,0.00013721196,0.9998628\\n1728,7.855556e-05,0.99992144\\n1729,0.89010555,0.10989444\\n1730,0.99996644,3.3544482e-05\\n1731,6.5988644e-07,0.99999934\\n1732,8.1649605e-06,0.99999183\\n1733,0.0022407242,0.9977593\\n1734,0.9991439,0.0008560735\\n1735,3.780033e-07,0.99999964\\n1736,0.00010667709,0.9998933\\n1737,0.99883544,0.0011645633\\n1738,4.0744553e-06,0.99999595\\n1739,0.99622667,0.003773303\\n1740,5.3965985e-05,0.99994606\\n1741,0.9998136,0.00018637496\\n1742,1.0449436e-05,0.99998957\\n1743,0.00019834735,0.99980164\\n1744,0.99559975,0.0044002277\\n1745,0.99518824,0.0048117572\\n1746,5.7489473e-05,0.9999425\\n1747,0.0010752323,0.9989248\\n1748,0.01790509,0.9820949\\n1749,4.4683587e-05,0.9999553\\n1750,0.9976454,0.0023546214\\n1751,0.00024034892,0.9997597\\n1752,0.99955755,0.00044243308\\n1753,0.99880415,0.0011958383\\n1754,5.9533677e-06,0.99999404\\n1755,0.99943674,0.00056323817\\n1756,0.99990326,9.67383e-05\\n1757,1.147597e-06,0.99999887\\n1758,0.99626815,0.0037318408\\n1759,0.83413553,0.16586447\\n1760,0.97068083,0.02931915\\n1761,7.819324e-05,0.9999218\\n1762,0.9996082,0.00039180418\\n1763,4.8615962e-05,0.99995136\\n1764,0.969398,0.030601995\\n1765,0.0003524984,0.9996475\\n1766,4.474291e-08,0.99999994\\n1767,0.99999046,9.535338e-06\\n1768,0.09384303,0.90615696\\n1769,0.00057214097,0.99942786\\n1770,0.99294907,0.0070509072\\n1771,0.99496305,0.0050369664\\n1772,0.9874182,0.012581845\\n1773,0.999672,0.0003280037\\n1774,1.1208012e-05,0.9999888\\n1775,0.9997714,0.00022855766\\n1776,3.5043283e-06,0.9999965\\n1777,0.9996758,0.00032417275\\n1778,0.99966717,0.00033282884\\n1779,8.437484e-07,0.99999917\\n1780,0.9999543,4.5687204e-05\\n1781,0.00010561018,0.9998944\\n1782,0.99926525,0.0007347643\\n1783,0.96274006,0.037259933\\n1784,0.9968682,0.003131796\\n1785,0.9961825,0.0038175213\\n1786,0.008111255,0.99188876\\n1787,0.7659335,0.23406649\\n1788,0.036325336,0.96367466\\n1789,0.9985801,0.0014198823\\n1790,1.837164e-05,0.99998164\\n1791,8.995421e-07,0.9999991\\n1792,7.721222e-06,0.99999225\\n1793,0.99616414,0.003835884\\n1794,1.3341026e-05,0.99998665\\n1795,0.9990741,0.0009258858\\n1796,0.959326,0.04067397\\n1797,7.532955e-05,0.99992466\\n1798,0.999941,5.9015198e-05\\n1799,0.74142706,0.25857297\\n1800,0.9996758,0.00032417275\\n1801,0.9999501,4.9913244e-05\\n1802,0.99930507,0.00069492776\\n1803,0.9999653,3.4674933e-05\\n1804,2.6129796e-06,0.9999974\\n1805,0.013255463,0.9867445\\n1806,3.956815e-06,0.99999607\\n1807,0.9994242,0.0005757706\\n1808,0.9993648,0.0006352225\\n1809,2.3424535e-10,1.0\\n1810,0.99830914,0.001690853\\n1811,0.98550856,0.014491432\\n1812,0.00011224834,0.99988776\\n1813,0.9998997,0.00010028925\\n1814,0.00025558207,0.9997444\\n1815,1.6277752e-06,0.9999984\\n1816,8.600555e-06,0.9999914\\n1817,0.9010894,0.098910645\\n1818,1.6710408e-05,0.9999833\\n1819,7.757131e-05,0.99992245\\n1820,4.932085e-06,0.99999505\\n1821,0.9974666,0.0025333709\\n1822,7.177309e-05,0.99992824\\n1823,0.9908652,0.0091348\\n1824,0.8651514,0.13484861\\n1825,2.3284667e-05,0.9999767\\n1826,0.9989348,0.0010652103\\n1827,0.99993074,6.928715e-05\\n1828,0.99953717,0.0004628067\\n1829,0.9982435,0.0017565114\\n1830,0.07799325,0.9220067\\n1831,0.017488144,0.9825119\\n1832,0.0037108967,0.9962891\\n1833,0.99894273,0.0010572703\\n1834,7.50649e-06,0.9999925\\n1835,0.6805314,0.3194686\\n1836,0.99999636,3.6646147e-06\\n1837,8.1555016e-05,0.99991846\\n1838,2.566456e-07,0.99999976\\n1839,0.0023822905,0.9976177\\n1840,0.9999419,5.8093432e-05\\n1841,0.9117198,0.088280216\\n1842,2.358866e-07,0.99999976\\n1843,1.4226592e-07,0.9999999\\n1844,0.999917,8.301991e-05\\n1845,0.9404347,0.059565313\\n1846,0.98249316,0.017506834\\n1847,8.810654e-09,1.0\\n1848,0.00018539008,0.9998146\\n1849,1.4418733e-09,1.0\\n1850,0.00012283763,0.99987715\\n1851,1.8553252e-06,0.99999815\\n1852,0.013419154,0.98658085\\n1853,0.9997945,0.00020551006\\n1854,0.003917,0.996083\\n1855,0.9997597,0.00024034387\\n1856,0.069035016,0.930965\\n1857,7.742828e-06,0.99999225\\n1858,0.9911939,0.008806122\\n1859,0.999809,0.00019095931\\n1860,3.3715287e-07,0.99999964\\n1861,0.0001428238,0.9998572\\n1862,0.00017240133,0.9998276\\n1863,0.9990807,0.0009192922\\n1864,0.999528,0.00047201724\\n1865,0.99352634,0.0064736856\\n1866,6.487964e-05,0.99993515\\n1867,0.99639213,0.0036078808\\n1868,1.2361116e-05,0.99998766\\n1869,0.2951207,0.7048793\\n1870,0.07146032,0.9285397\\n1871,0.00054139254,0.9994586\\n1872,2.981909e-05,0.9999702\\n1873,0.98495877,0.015041238\\n1874,0.9914982,0.008501811\\n1875,0.9858301,0.014169848\\n1876,0.00020571357,0.9997943\\n1877,0.9998956,0.00010444573\\n1878,0.00088886375,0.9991111\\n1879,2.1274914e-08,1.0\\n1880,0.96769285,0.03230717\\n1881,5.998076e-07,0.9999994\\n1882,0.9949143,0.0050857137\\n1883,0.07726656,0.9227334\\n1884,0.9998328,0.00016721881\\n1885,0.9903804,0.009619605\\n1886,0.00091873435,0.99908125\\n1887,0.999324,0.0006759852\\n1888,0.99954194,0.00045804254\\n1889,0.99828947,0.0017105222\\n1890,2.3078981e-05,0.99997693\\n1891,4.660657e-05,0.9999534\\n1892,5.0957847e-06,0.99999493\\n1893,0.9645383,0.035461735\\n1894,8.3065286e-05,0.9999169\\n1895,0.003049996,0.99695003\\n1896,0.0015207598,0.99847925\\n1897,2.9513689e-05,0.9999705\\n1898,5.46621e-05,0.99994534\\n1899,0.99959147,0.00040855812\\n1900,0.00025434766,0.99974567\\n1901,0.1477234,0.85227656\\n1902,0.8683104,0.13168962\\n1903,0.960947,0.039052997\\n1904,0.9890023,0.01099772\\n1905,0.0015095085,0.9984905\\n1906,0.99981225,0.00018775463\\n1907,0.97493386,0.02506612\\n1908,0.99848163,0.0015183866\\n1909,0.00013281404,0.9998672\\n1910,4.9922288e-05,0.99995005\\n1911,0.0001446101,0.9998554\\n1912,0.01974401,0.98025596\\n1913,1.3218772e-07,0.9999999\\n1914,0.00042755663,0.99957246\\n1915,0.00025363424,0.9997464\\n1916,4.5055076e-06,0.99999547\\n1917,0.00010224836,0.9998978\\n1918,0.64077574,0.3592243\\n1919,6.000609e-05,0.99994\\n1920,0.9972197,0.0027803008\\n1921,0.00016720127,0.9998328\\n1922,0.96134293,0.03865707\\n1923,2.2143064e-05,0.9999779\\n1924,0.00014930843,0.9998507\\n1925,0.00033549545,0.9996645\\n1926,0.980328,0.019671991\\n1927,0.7235732,0.27642676\\n1928,1.756811e-05,0.9999824\\n1929,3.2322336e-05,0.9999677\\n1930,0.99022955,0.009770442\\n1931,0.9952508,0.0047491738\\n1932,1.3362279e-06,0.9999987\\n1933,0.9985242,0.0014757891\\n1934,0.9814259,0.018574102\\n1935,0.00011191018,0.99988806\\n1936,0.9999626,3.7382764e-05\\n1937,4.4871813e-05,0.9999551\\n1938,0.00011154188,0.9998885\\n1939,9.661268e-07,0.99999905\\n1940,0.27581337,0.7241866\\n1941,0.86576116,0.13423882\\n1942,0.9873748,0.012625204\\n1943,5.8172875e-05,0.9999418\\n1944,0.99922216,0.00077782583\\n1945,0.9998572,0.00014283239\\n1946,0.6482619,0.3517381\\n1947,0.00040677123,0.99959326\\n1948,0.19576205,0.80423796\\n1949,0.99925196,0.0007480643\\n1950,0.89536625,0.104633756\\n1951,0.98871386,0.011286115\\n1952,0.00046629904,0.9995337\\n1953,0.001840129,0.9981599\\n1954,0.99778885,0.0022111307\\n1955,0.015169518,0.9848305\\n1956,0.9984581,0.0015419417\\n1957,7.709347e-06,0.9999923\\n1958,0.9997005,0.0002995241\\n1959,9.3750095e-06,0.99999064\\n1960,0.0048998315,0.99510014\\n1961,5.6629056e-06,0.99999434\\n1962,2.5626186e-06,0.99999744\\n1963,7.3959425e-05,0.99992603\\n1964,0.99888283,0.0011171779\\n1965,0.99725777,0.0027422444\\n1966,0.99594605,0.0040539624\\n1967,0.99844337,0.0015566562\\n1968,0.0011735506,0.99882644\\n1969,7.302015e-05,0.999927\\n1970,0.9992774,0.0007225612\\n1971,0.99968225,0.0003177465\\n1972,0.9900287,0.009971337\\n1973,0.9998025,0.00019751677\\n1974,3.221862e-05,0.99996775\\n1975,0.9945447,0.0054553067\\n1976,0.5459582,0.4540418\\n1977,3.0036595e-05,0.99996996\\n1978,0.9942259,0.0057740617\\n1979,0.40717378,0.59282625\\n1980,9.599599e-05,0.999904\\n1981,1.6034745e-06,0.9999984\\n1982,1.70662e-05,0.99998295\\n1983,0.9984054,0.0015946189\\n1984,0.00023826577,0.99976176\\n1985,3.2527718e-05,0.99996746\\n1986,0.99791807,0.0020819444\\n1987,0.9994648,0.00053521956\\n1988,0.99992406,7.5943135e-05\\n1989,0.015967114,0.98403287\\n1990,0.00042900414,0.999571\\n1991,0.061725333,0.9382747\\n1992,3.3009703e-05,0.999967\\n1993,0.99527645,0.0047235535\\n1994,0.94546527,0.05453474\\n1995,0.9913778,0.008622226\\n1996,4.3339633e-06,0.99999565\\n1997,5.363696e-05,0.99994636\\n1998,0.9972712,0.002728838\\n1999,1.1136701e-05,0.99998885\\n2000,0.9995463,0.00045371306\\n2001,0.9997726,0.0002273772\\n2002,0.9548102,0.045189783\\n2003,0.00016840207,0.9998316\\n2004,0.9991381,0.00086190697\\n2005,0.0004445812,0.9995554\\n2006,0.98550236,0.014497638\\n2007,0.98473305,0.015266962\\n2008,0.00022003139,0.99977994\\n2009,3.167446e-05,0.99996835\\n2010,0.99869776,0.0013022474\\n2011,3.9914583e-05,0.99996006\\n2012,5.7345887e-06,0.9999943\\n2013,0.9951694,0.004830616\\n2014,4.2673542e-05,0.9999573\\n2015,6.270761e-06,0.99999374\\n2016,0.999562,0.00043794766\\n2017,1.4219459e-05,0.99998575\\n2018,7.1639064e-05,0.99992836\\n2019,8.6518456e-05,0.99991345\\n2020,0.00015138915,0.9998486\\n2021,0.0002084599,0.99979156\\n2022,0.0011927743,0.99880725\\n2023,6.436464e-05,0.9999356\\n2024,0.00025065235,0.99974936\\n2025,0.9947173,0.005282717\\n2026,0.90965164,0.09034834\\n2027,0.99970067,0.000299316\\n2028,8.5791624e-05,0.9999142\\n2029,3.5223253e-05,0.9999648\\n2030,0.9982811,0.001718905\\n2031,9.015255e-05,0.9999098\\n2032,0.9999739,2.6080801e-05\\n2033,0.00022770523,0.9997723\\n2034,0.99133486,0.008665149\\n2035,0.9978824,0.0021175484\\n2036,0.999782,0.00021796173\\n2037,0.9998248,0.00017515436\\n2038,0.9252515,0.074748546\\n2039,8.012261e-05,0.9999199\\n2040,6.2957085e-08,0.99999994\\n2041,0.23794076,0.7620593\\n2042,0.96294725,0.03705275\\n2043,0.9692557,0.030744314\\n2044,0.0013763896,0.9986236\\n2045,0.014311648,0.9856883\\n2046,4.635237e-05,0.9999536\\n2047,5.9312038e-06,0.99999404\\n2048,4.3705437e-05,0.9999563\\n2049,2.0989667e-06,0.9999979\\n2050,0.004373518,0.9956265\\n2051,0.0008531412,0.9991469\\n2052,0.86944354,0.13055646\\n2053,0.9638945,0.036105543\\n2054,4.1720807e-05,0.9999583\\n2055,0.030106043,0.96989393\\n2056,0.84593576,0.15406425\\n2057,2.8913885e-06,0.9999971\\n2058,0.00057840394,0.9994216\\n2059,0.97820216,0.021797845\\n2060,0.16479853,0.8352015\\n2061,0.0010091283,0.9989909\\n2062,0.0011212656,0.9988787\\n2063,0.0027375435,0.9972625\\n2064,2.3615851e-07,0.99999976\\n2065,0.006999005,0.993001\\n2066,0.06245299,0.937547\\n2067,0.12388179,0.8761182\\n2068,0.00043737068,0.9995626\\n2069,0.9996833,0.00031668015\\n2070,0.9969155,0.0030844912\\n2071,0.8074819,0.19251814\\n2072,6.858213e-05,0.9999314\\n2073,0.998656,0.0013440505\\n2074,0.99729526,0.0027047135\\n2075,0.9991651,0.00083488814\\n2076,0.7563623,0.24363765\\n2077,7.958076e-05,0.9999204\\n2078,0.0047203586,0.99527967\\n2079,7.5105786e-06,0.9999925\\n2080,0.001751086,0.99824893\\n2081,7.5422076e-07,0.9999992\\n2082,9.892664e-05,0.99990106\\n2083,0.9996833,0.00031668015\\n2084,0.99231464,0.007685378\\n2085,0.45340693,0.54659307\\n2086,6.5302097e-06,0.99999344\\n2087,0.9999788,2.1209064e-05\\n2088,4.3876353e-06,0.9999956\\n2089,0.9983014,0.0016986253\\n2090,2.0408754e-05,0.9999796\\n2091,0.06261406,0.9373859\\n2092,4.7187237e-05,0.9999528\\n2093,0.9986088,0.0013911984\\n2094,0.99841547,0.0015845017\\n2095,8.16468e-06,0.99999183\\n2096,2.9856754e-08,0.99999994\\n2097,7.7603694e-08,0.99999994\\n2098,0.9989781,0.0010219393\\n2099,1.12866455e-05,0.99998873\\n2100,0.99992585,7.415342e-05\\n2101,3.124373e-07,0.9999997\\n2102,0.9992342,0.00076582853\\n2103,5.964166e-05,0.99994034\\n2104,6.0051893e-06,0.999994\\n2105,0.9999647,3.5259545e-05\\n2106,0.9923899,0.0076100817\\n2107,7.6141264e-06,0.9999924\\n2108,0.99937004,0.0006299465\\n2109,0.9999992,7.63937e-07\\n2110,0.91457313,0.08542684\\n2111,0.8387987,0.16120128\\n'}"
            ]
          },
          "metadata": {
            "tags": []
          },
          "execution_count": 118
        }
      ]
    },
    {
      "metadata": {
        "id": "7YZu_7Z9iOGm",
        "colab_type": "code",
        "colab": {}
      },
      "cell_type": "code",
      "source": [
        "df = pd.read_csv('predictions.csv',sep=',',index_col=False)"
      ],
      "execution_count": 0,
      "outputs": []
    },
    {
      "metadata": {
        "id": "V8zHlKj2igHM",
        "colab_type": "code",
        "colab": {}
      },
      "cell_type": "code",
      "source": [
        "fwd_predictions = df.as_matrix(columns=df.columns[1:])"
      ],
      "execution_count": 0,
      "outputs": []
    },
    {
      "metadata": {
        "id": "41E5v6jhxmAD",
        "colab_type": "code",
        "colab": {
          "base_uri": "https://localhost:8080/",
          "height": 136
        },
        "outputId": "9c0c6f97-8495-480d-e52c-00780923f62f"
      },
      "cell_type": "code",
      "source": [
        "fwd_predictions"
      ],
      "execution_count": 124,
      "outputs": [
        {
          "output_type": "execute_result",
          "data": {
            "text/plain": [
              "array([[0.00022, 0.99978],\n",
              "       [0.95762, 0.04238],\n",
              "       [0.0002 , 0.9998 ],\n",
              "       ...,\n",
              "       [1.     , 0.     ],\n",
              "       [0.91457, 0.08543],\n",
              "       [0.8388 , 0.1612 ]])"
            ]
          },
          "metadata": {
            "tags": []
          },
          "execution_count": 124
        }
      ]
    },
    {
      "metadata": {
        "id": "mYaWV11HNrCZ",
        "colab_type": "code",
        "outputId": "07446266-1378-4a86-d3a5-8ea450afb3ee",
        "colab": {
          "base_uri": "https://localhost:8080/",
          "height": 136
        }
      },
      "cell_type": "code",
      "source": [
        "x=0.5*(probs+fwd_predictions)\n",
        "x"
      ],
      "execution_count": 127,
      "outputs": [
        {
          "output_type": "execute_result",
          "data": {
            "text/plain": [
              "array([[0.00012, 0.99988],\n",
              "       [0.96458, 0.03542],\n",
              "       [0.00012, 0.99988],\n",
              "       ...,\n",
              "       [0.99998, 0.00002],\n",
              "       [0.92503, 0.07497],\n",
              "       [0.90255, 0.09745]])"
            ]
          },
          "metadata": {
            "tags": []
          },
          "execution_count": 127
        }
      ]
    },
    {
      "metadata": {
        "id": "IFPpF6liNRqf",
        "colab_type": "code",
        "colab": {}
      },
      "cell_type": "code",
      "source": [
        "predictions = np.argmax(x,axis=1)"
      ],
      "execution_count": 0,
      "outputs": []
    },
    {
      "metadata": {
        "id": "FxhLqP1fjElm",
        "colab_type": "code",
        "outputId": "847901a6-9d2e-4369-e6c7-66192bb3d413",
        "colab": {
          "base_uri": "https://localhost:8080/",
          "height": 34
        }
      },
      "cell_type": "code",
      "source": [
        "from sklearn.metrics import accuracy_score,roc_auc_score,f1_score\n",
        "accuracy_score(predictions,md.val_y)"
      ],
      "execution_count": 129,
      "outputs": [
        {
          "output_type": "execute_result",
          "data": {
            "text/plain": [
              "0.9199810606060606"
            ]
          },
          "metadata": {
            "tags": []
          },
          "execution_count": 129
        }
      ]
    },
    {
      "metadata": {
        "id": "2pkr0OR7rRgL",
        "colab_type": "code",
        "outputId": "40713217-a82e-4d15-b3fb-da9045f27b5c",
        "colab": {
          "base_uri": "https://localhost:8080/",
          "height": 34
        }
      },
      "cell_type": "code",
      "source": [
        "roc_auc_score(predictions,md.val_y)"
      ],
      "execution_count": 130,
      "outputs": [
        {
          "output_type": "execute_result",
          "data": {
            "text/plain": [
              "0.9195420506912443"
            ]
          },
          "metadata": {
            "tags": []
          },
          "execution_count": 130
        }
      ]
    },
    {
      "metadata": {
        "id": "Jb7bkYBKrUoM",
        "colab_type": "code",
        "outputId": "7b154525-b7d6-4bc2-f7d3-9f58c02c0005",
        "colab": {
          "base_uri": "https://localhost:8080/",
          "height": 34
        }
      },
      "cell_type": "code",
      "source": [
        "f1_score(predictions,md.val_y)"
      ],
      "execution_count": 131,
      "outputs": [
        {
          "output_type": "execute_result",
          "data": {
            "text/plain": [
              "0.9247216035634743"
            ]
          },
          "metadata": {
            "tags": []
          },
          "execution_count": 131
        }
      ]
    },
    {
      "metadata": {
        "id": "XA4B8LcSpD0T",
        "colab_type": "code",
        "colab": {}
      },
      "cell_type": "code",
      "source": [
        "df = pd.DataFrame({'no': probs[:,0],\n",
        "                   'yes': probs[:,1]})"
      ],
      "execution_count": 0,
      "outputs": []
    },
    {
      "metadata": {
        "id": "QSHiWSZupNuA",
        "colab_type": "code",
        "colab": {}
      },
      "cell_type": "code",
      "source": [
        "df.to_csv(PATH/'predictions2.csv')\n",
        "files.download(PATH/'predictions2.csv')"
      ],
      "execution_count": 0,
      "outputs": []
    },
    {
      "metadata": {
        "id": "RzMUVOnVFMWN",
        "colab_type": "code",
        "colab": {}
      },
      "cell_type": "code",
      "source": [
        "check_preds = learn.predict(is_test=True)\n",
        "m = nn.Softmax()\n",
        "input = Variable(torch.from_numpy(check_preds))\n",
        "probs=m(input)"
      ],
      "execution_count": 0,
      "outputs": []
    },
    {
      "metadata": {
        "id": "66fYg1Z61sQs",
        "colab_type": "code",
        "colab": {}
      },
      "cell_type": "code",
      "source": [
        "probs = probs.data.cpu().numpy()"
      ],
      "execution_count": 0,
      "outputs": []
    },
    {
      "metadata": {
        "id": "dJWXLRfeXWX0",
        "colab_type": "code",
        "colab": {
          "base_uri": "https://localhost:8080/",
          "height": 34
        },
        "outputId": "46c81e2a-314a-4a92-831d-33737b5cff88"
      },
      "cell_type": "code",
      "source": [
        "probs.shape"
      ],
      "execution_count": 136,
      "outputs": [
        {
          "output_type": "execute_result",
          "data": {
            "text/plain": [
              "(72324, 2)"
            ]
          },
          "metadata": {
            "tags": []
          },
          "execution_count": 136
        }
      ]
    },
    {
      "metadata": {
        "id": "Qm-UlE8HRtcO",
        "colab_type": "code",
        "colab": {}
      },
      "cell_type": "code",
      "source": [
        "pred_no = np.where(probs[:,0]>0.95)[0]\n",
        "pred_yes = np.where(probs[:,1]>0.95)[0]"
      ],
      "execution_count": 0,
      "outputs": []
    },
    {
      "metadata": {
        "id": "9FaDWzjNNgN9",
        "colab_type": "code",
        "colab": {
          "base_uri": "https://localhost:8080/",
          "height": 34
        },
        "outputId": "139f56c1-d023-4d21-d257-7aeaf77afb99"
      },
      "cell_type": "code",
      "source": [
        "ls"
      ],
      "execution_count": 138,
      "outputs": [
        {
          "output_type": "stream",
          "text": [
            "\u001b[0m\u001b[01;34mdata\u001b[0m/  losses.npy  loss_plot.png  predictions.csv  \u001b[01;34msample_data\u001b[0m/\n"
          ],
          "name": "stdout"
        }
      ]
    },
    {
      "metadata": {
        "id": "CltNAN-iWqOo",
        "colab_type": "code",
        "colab": {}
      },
      "cell_type": "code",
      "source": [
        "add_train = pd.read_csv(CLAS_PATH/'unlabeled_train.csv',sep=',',header=None,names=['moment'])"
      ],
      "execution_count": 0,
      "outputs": []
    },
    {
      "metadata": {
        "id": "B43F8YbuXFGz",
        "colab_type": "code",
        "colab": {
          "base_uri": "https://localhost:8080/",
          "height": 34
        },
        "outputId": "6d87f70b-a7f3-4994-b64e-b6e6080de3e1"
      },
      "cell_type": "code",
      "source": [
        "add_train.shape"
      ],
      "execution_count": 140,
      "outputs": [
        {
          "output_type": "execute_result",
          "data": {
            "text/plain": [
              "(72324, 1)"
            ]
          },
          "metadata": {
            "tags": []
          },
          "execution_count": 140
        }
      ]
    },
    {
      "metadata": {
        "id": "D46hK2ieOlr-",
        "colab_type": "code",
        "colab": {
          "base_uri": "https://localhost:8080/",
          "height": 119
        },
        "outputId": "625db98d-cf36-4a63-8940-2d366472046e"
      },
      "cell_type": "code",
      "source": [
        "addon_yes = add_train.iloc[pred_yes]\n",
        "addon_yes['social'] = 1\n",
        "addon_yes.columns = ['text','labels']"
      ],
      "execution_count": 141,
      "outputs": [
        {
          "output_type": "stream",
          "text": [
            "/usr/local/lib/python3.6/dist-packages/ipykernel_launcher.py:2: SettingWithCopyWarning: \n",
            "A value is trying to be set on a copy of a slice from a DataFrame.\n",
            "Try using .loc[row_indexer,col_indexer] = value instead\n",
            "\n",
            "See the caveats in the documentation: http://pandas.pydata.org/pandas-docs/stable/indexing.html#indexing-view-versus-copy\n",
            "  \n"
          ],
          "name": "stderr"
        }
      ]
    },
    {
      "metadata": {
        "id": "e_Myl7p4cWqx",
        "colab_type": "code",
        "colab": {
          "base_uri": "https://localhost:8080/",
          "height": 119
        },
        "outputId": "3f062431-79df-4cd1-9f18-369cddb5c070"
      },
      "cell_type": "code",
      "source": [
        "addon_no = add_train.iloc[pred_no]\n",
        "addon_no['social'] = 0\n",
        "addon_no.columns = ['text','labels']"
      ],
      "execution_count": 142,
      "outputs": [
        {
          "output_type": "stream",
          "text": [
            "/usr/local/lib/python3.6/dist-packages/ipykernel_launcher.py:2: SettingWithCopyWarning: \n",
            "A value is trying to be set on a copy of a slice from a DataFrame.\n",
            "Try using .loc[row_indexer,col_indexer] = value instead\n",
            "\n",
            "See the caveats in the documentation: http://pandas.pydata.org/pandas-docs/stable/indexing.html#indexing-view-versus-copy\n",
            "  \n"
          ],
          "name": "stderr"
        }
      ]
    },
    {
      "metadata": {
        "id": "nfJ4yVxuculu",
        "colab_type": "code",
        "colab": {}
      },
      "cell_type": "code",
      "source": [
        "indices = np.concatenate((pred_yes,pred_no))"
      ],
      "execution_count": 0,
      "outputs": []
    },
    {
      "metadata": {
        "id": "5WmipCVHOnIi",
        "colab_type": "code",
        "colab": {}
      },
      "cell_type": "code",
      "source": [
        "add_train = add_train.iloc[~indices]\n",
        "\n",
        "train = pd.concat([train,addon_yes,addon_no])\n",
        "\n",
        "train.to_csv(PATH/'train_data2.csv',index=False)\n",
        "add_train.to_csv(PATH/\"unlabeled_train2.csv\",index=False)"
      ],
      "execution_count": 0,
      "outputs": []
    },
    {
      "metadata": {
        "id": "l-nzma2L-XHh",
        "colab_type": "code",
        "colab": {}
      },
      "cell_type": "code",
      "source": [
        "from google.colab import files\n",
        "files.download(PATH/'train_data2.csv')\n",
        "files.download(PATH/\"unlabeled_train2.csv\")\n",
        "files.download(CLAS_PATH/'test.csv')\n",
        "files.download('data/claff/models/best_model.h5')"
      ],
      "execution_count": 0,
      "outputs": []
    },
    {
      "metadata": {
        "id": "_ha0vi84Jy_0",
        "colab_type": "text"
      },
      "cell_type": "markdown",
      "source": [
        "The previous state of the art result was 94.1% accuracy (5.9% error). With bidir we get 95.4% accuracy (4.6% error)."
      ]
    }
  ]
}