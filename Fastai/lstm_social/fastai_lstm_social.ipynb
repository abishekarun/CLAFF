{
  "nbformat": 4,
  "nbformat_minor": 0,
  "metadata": {
    "colab": {
      "name": "fastai_Social.ipynb",
      "version": "0.3.2",
      "provenance": [],
      "collapsed_sections": []
    },
    "kernelspec": {
      "name": "python3",
      "display_name": "Python 3"
    },
    "accelerator": "GPU"
  },
  "cells": [
    {
      "metadata": {
        "id": "EFby1DpPJy3h",
        "colab_type": "text"
      },
      "cell_type": "markdown",
      "source": [
        "## IMDb"
      ]
    },
    {
      "metadata": {
        "id": "Z4AlZjOCKbBJ",
        "colab_type": "code",
        "colab": {}
      },
      "cell_type": "code",
      "source": [
        "%%capture\n",
        "!pip install \"fastai==0.7.0\"\n",
        "!pip3 install http://download.pytorch.org/whl/cu80/torch-0.3.0.post4-cp36-cp36m-linux_x86_64.whl \n",
        "!pip3 install torchvision\n",
        "!pip3 install spacy\n",
        "!python -m spacy download en\n",
        "!pip install torchtext==0.2.3"
      ],
      "execution_count": 0,
      "outputs": []
    },
    {
      "metadata": {
        "id": "59Sf7tRCJy3j",
        "colab_type": "text"
      },
      "cell_type": "markdown",
      "source": [
        "At Fast.ai we have introduced a new module called fastai.text which replaces the torchtext library that was used in our 2018 dl1 course. The fastai.text module also supersedes the fastai.nlp library but retains many of the key functions."
      ]
    },
    {
      "metadata": {
        "id": "tMJj22t5Jy3l",
        "colab_type": "code",
        "outputId": "4a7d0b3d-646b-4bad-a926-fca4f454ac62",
        "colab": {
          "base_uri": "https://localhost:8080/",
          "height": 71
        }
      },
      "cell_type": "code",
      "source": [
        "from fastai.text import *\n",
        "import html"
      ],
      "execution_count": 0,
      "outputs": [
        {
          "output_type": "stream",
          "text": [
            "/usr/local/lib/python3.6/dist-packages/sklearn/ensemble/weight_boosting.py:29: DeprecationWarning: numpy.core.umath_tests is an internal NumPy module and should not be imported. It will be removed in a future NumPy release.\n",
            "  from numpy.core.umath_tests import inner1d\n"
          ],
          "name": "stderr"
        }
      ]
    },
    {
      "metadata": {
        "id": "Qs48YTiOJy3q",
        "colab_type": "text"
      },
      "cell_type": "markdown",
      "source": [
        "The Fastai.text module introduces several custom tokens.\n",
        "\n",
        "We need to download the IMDB large movie reviews from this site: http://ai.stanford.edu/~amaas/data/sentiment/\n",
        "Direct link : [Link](http://ai.stanford.edu/~amaas/data/sentiment/aclImdb_v1.tar.gz) and untar it into the PATH location. We use pathlib which makes directory traveral a breeze."
      ]
    },
    {
      "metadata": {
        "id": "qGl8bsG4Jy3s",
        "colab_type": "code",
        "colab": {}
      },
      "cell_type": "code",
      "source": [
        "DATA_PATH=Path('data/')\n",
        "DATA_PATH.mkdir(exist_ok=True)"
      ],
      "execution_count": 0,
      "outputs": []
    },
    {
      "metadata": {
        "id": "waF0MZwLJy3x",
        "colab_type": "code",
        "colab": {}
      },
      "cell_type": "code",
      "source": [
        "BOS = 'xbos'  # beginning-of-sentence tag\n",
        "FLD = 'xfld'  # data field tag\n",
        "\n",
        "PATH=Path('data/claff/')"
      ],
      "execution_count": 0,
      "outputs": []
    },
    {
      "metadata": {
        "id": "sq48iZvzJy32",
        "colab_type": "text"
      },
      "cell_type": "markdown",
      "source": [
        "## Standardize format"
      ]
    },
    {
      "metadata": {
        "id": "0csRvYiHJy34",
        "colab_type": "code",
        "colab": {}
      },
      "cell_type": "code",
      "source": [
        "CLAS_PATH=Path('data/claff_clas/')\n",
        "CLAS_PATH.mkdir(exist_ok=True)\n",
        "\n",
        "LM_PATH=Path('data/claff_lm/')\n",
        "LM_PATH.mkdir(exist_ok=True)"
      ],
      "execution_count": 0,
      "outputs": []
    },
    {
      "metadata": {
        "id": "AKDC8anbJy38",
        "colab_type": "text"
      },
      "cell_type": "markdown",
      "source": [
        "The imdb dataset has 3 classes. positive, negative and unsupervised(sentiment is unknown). \n",
        "There are 75k training reviews(12.5k pos, 12.5k neg, 50k unsup)\n",
        "There are 25k validation reviews(12.5k pos, 12.5k neg & no unsup)\n",
        "\n",
        "Refer to the README file in the imdb corpus for further information about the dataset."
      ]
    },
    {
      "metadata": {
        "id": "Lhdvxcgwxjw4",
        "colab_type": "code",
        "colab": {}
      },
      "cell_type": "code",
      "source": [
        "import pandas as pd\n",
        "labeled_train = \"https://raw.githubusercontent.com/kj2013/claff-happydb/master/data/TRAIN/labeled_10k.csv\"\n",
        "unlabeled_train = \"https://raw.githubusercontent.com/kj2013/claff-happydb/master/data/TRAIN/unlabeled_70k.csv\"\n",
        "unlabeled_test = \"https://raw.githubusercontent.com/kj2013/claff-happydb/master/data/TEST/unlabeled_17k.csv\"\n",
        "\n",
        "labeled_data = pd.read_table(labeled_train,sep=',',index_col=False, error_bad_lines=False)\n",
        "unlabeled_train = pd.read_table(unlabeled_train,sep=',',index_col=False, error_bad_lines=False) \n",
        "test = pd.read_table(unlabeled_test,sep=',',index_col=False, error_bad_lines=False, encoding = \"ISO-8859-1\") "
      ],
      "execution_count": 0,
      "outputs": []
    },
    {
      "metadata": {
        "id": "f-QjiVlAxFv3",
        "colab_type": "code",
        "colab": {}
      },
      "cell_type": "code",
      "source": [
        "from sklearn.model_selection import train_test_split\n",
        "train, valid = train_test_split(labeled_data, test_size=0.2, random_state=0, stratify=labeled_data['social'])\n",
        "train = train[['moment','social']]\n",
        "valid = valid[['moment','social']]\n",
        "unlabeled_train = unlabeled_train[['moment']]\n",
        "test=test[['moment']]"
      ],
      "execution_count": 0,
      "outputs": []
    },
    {
      "metadata": {
        "id": "Z58vT24gxHs_",
        "colab_type": "code",
        "colab": {}
      },
      "cell_type": "code",
      "source": [
        "from sklearn import preprocessing\n",
        "le = preprocessing.LabelEncoder()\n",
        "train['social'] = le.fit_transform(train['social'])\n",
        "valid['social'] = le.transform(valid['social'])"
      ],
      "execution_count": 0,
      "outputs": []
    },
    {
      "metadata": {
        "id": "9Ac8pw1jyRhr",
        "colab_type": "code",
        "colab": {}
      },
      "cell_type": "code",
      "source": [
        "col_names = ['text','labels']\n",
        "train.columns = col_names\n",
        "valid.columns = col_names"
      ],
      "execution_count": 0,
      "outputs": []
    },
    {
      "metadata": {
        "id": "wSRvvfB-q-f2",
        "colab_type": "code",
        "outputId": "04c20584-dc39-40ac-9c03-8335cb11d8cb",
        "colab": {
          "base_uri": "https://localhost:8080/",
          "height": 359
        }
      },
      "cell_type": "code",
      "source": [
        "unlabeled_train.head(10)"
      ],
      "execution_count": 0,
      "outputs": [
        {
          "output_type": "execute_result",
          "data": {
            "text/html": [
              "<div>\n",
              "<style scoped>\n",
              "    .dataframe tbody tr th:only-of-type {\n",
              "        vertical-align: middle;\n",
              "    }\n",
              "\n",
              "    .dataframe tbody tr th {\n",
              "        vertical-align: top;\n",
              "    }\n",
              "\n",
              "    .dataframe thead th {\n",
              "        text-align: right;\n",
              "    }\n",
              "</style>\n",
              "<table border=\"1\" class=\"dataframe\">\n",
              "  <thead>\n",
              "    <tr style=\"text-align: right;\">\n",
              "      <th></th>\n",
              "      <th>moment</th>\n",
              "    </tr>\n",
              "  </thead>\n",
              "  <tbody>\n",
              "    <tr>\n",
              "      <th>0</th>\n",
              "      <td>I went on a successful date with someone I fel...</td>\n",
              "    </tr>\n",
              "    <tr>\n",
              "      <th>1</th>\n",
              "      <td>I went to the gym this morning and did yoga.</td>\n",
              "    </tr>\n",
              "    <tr>\n",
              "      <th>2</th>\n",
              "      <td>I meditated last night.</td>\n",
              "    </tr>\n",
              "    <tr>\n",
              "      <th>3</th>\n",
              "      <td>I made a new recipe for peasant bread, and it ...</td>\n",
              "    </tr>\n",
              "    <tr>\n",
              "      <th>4</th>\n",
              "      <td>I got gift from my elder brother which was rea...</td>\n",
              "    </tr>\n",
              "    <tr>\n",
              "      <th>5</th>\n",
              "      <td>YESTERDAY MY MOMS BIRTHDAY SO I ENJOYED</td>\n",
              "    </tr>\n",
              "    <tr>\n",
              "      <th>6</th>\n",
              "      <td>Watching cupcake wars with my three teen children</td>\n",
              "    </tr>\n",
              "    <tr>\n",
              "      <th>7</th>\n",
              "      <td>I came in 3rd place in my Call of Duty video g...</td>\n",
              "    </tr>\n",
              "    <tr>\n",
              "      <th>8</th>\n",
              "      <td>I was shorting Gold and made $200 from the trade.</td>\n",
              "    </tr>\n",
              "    <tr>\n",
              "      <th>9</th>\n",
              "      <td>My son performed very well for a test preparat...</td>\n",
              "    </tr>\n",
              "  </tbody>\n",
              "</table>\n",
              "</div>"
            ],
            "text/plain": [
              "                                              moment\n",
              "0  I went on a successful date with someone I fel...\n",
              "1       I went to the gym this morning and did yoga.\n",
              "2                            I meditated last night.\n",
              "3  I made a new recipe for peasant bread, and it ...\n",
              "4  I got gift from my elder brother which was rea...\n",
              "5            YESTERDAY MY MOMS BIRTHDAY SO I ENJOYED\n",
              "6  Watching cupcake wars with my three teen children\n",
              "7  I came in 3rd place in my Call of Duty video g...\n",
              "8  I was shorting Gold and made $200 from the trade.\n",
              "9  My son performed very well for a test preparat..."
            ]
          },
          "metadata": {
            "tags": []
          },
          "execution_count": 10
        }
      ]
    },
    {
      "metadata": {
        "id": "466L2L6qJy4i",
        "colab_type": "text"
      },
      "cell_type": "markdown",
      "source": [
        "The pandas dataframe is used to store text data in a newly evolving standard format of label followed by text columns. This was influenced by a paper by Yann LeCun (LINK REQUIRED). Fastai adopts this new format for NLP datasets. In the case of IMDB, there is only one text column."
      ]
    },
    {
      "metadata": {
        "id": "tKXm5JiUJy4j",
        "colab_type": "code",
        "colab": {}
      },
      "cell_type": "code",
      "source": [
        "df_trn = pd.DataFrame({'labels':train['labels'],'text':train['text']}, columns=col_names)\n",
        "df_val = pd.DataFrame({'labels':valid['labels'],'text':valid['text']}, columns=col_names)\n",
        "df_trn=df_trn[['labels','text']]\n",
        "df_val=df_val[['labels','text']]\n",
        "\n",
        "df_trn.to_csv(CLAS_PATH/'train.csv', header=False, index=False)\n",
        "df_val.to_csv(CLAS_PATH/'test.csv', header=False, index=False)\n",
        "\n",
        "CLASSES = ['yes', 'no', 'unsup']\n",
        "(CLAS_PATH/'classes.txt').open('w', encoding='utf-8').writelines(f'{o}\\n' for o in CLASSES)"
      ],
      "execution_count": 0,
      "outputs": []
    },
    {
      "metadata": {
        "id": "JzD_Bb6UMk35",
        "colab_type": "code",
        "colab": {}
      },
      "cell_type": "code",
      "source": [
        "unlabeled_train.to_csv(CLAS_PATH/'unlabeled_train.csv',header=False, index=False)"
      ],
      "execution_count": 0,
      "outputs": []
    },
    {
      "metadata": {
        "id": "1MTQL3dUJy4p",
        "colab_type": "text"
      },
      "cell_type": "markdown",
      "source": [
        "We start by creating the data for the Language Model(LM). The LM's goal is to learn the structure of the english language. It learns language by trying to predict the next word given a set of previous words(ngrams). Since the LM does not classify reviews, the labels can be ignored.\n",
        "\n",
        "The LM can benefit from all the textual data and there is no need to exclude the unsup/unclassified movie reviews.\n",
        "\n",
        "We first concat all the train(pos/neg/unsup = **75k**) and test(pos/neg=**25k**) reviews into a big chunk of **100k** reviews. And then we use sklearn splitter to divide up the 100k texts into 90% training and 10% validation sets."
      ]
    },
    {
      "metadata": {
        "id": "2E4LYJWNJy4q",
        "colab_type": "code",
        "colab": {}
      },
      "cell_type": "code",
      "source": [
        "trn_texts,val_texts = sklearn.model_selection.train_test_split(\n",
        "    np.concatenate([train.text,valid.text,unlabeled_train.moment]), test_size=0.1)"
      ],
      "execution_count": 0,
      "outputs": []
    },
    {
      "metadata": {
        "id": "n4yCiSGHJy4u",
        "colab_type": "code",
        "outputId": "ba352857-cee2-4c93-9fe5-a3b936f30193",
        "colab": {
          "base_uri": "https://localhost:8080/",
          "height": 34
        }
      },
      "cell_type": "code",
      "source": [
        "len(trn_texts), len(val_texts)"
      ],
      "execution_count": 0,
      "outputs": [
        {
          "output_type": "execute_result",
          "data": {
            "text/plain": [
              "(74595, 8289)"
            ]
          },
          "metadata": {
            "tags": []
          },
          "execution_count": 14
        }
      ]
    },
    {
      "metadata": {
        "id": "ae1n2mPJJy42",
        "colab_type": "code",
        "colab": {}
      },
      "cell_type": "code",
      "source": [
        "df_trn = pd.DataFrame({'text':trn_texts,'labels':[0]*len(trn_texts)}, columns=col_names)\n",
        "df_val = pd.DataFrame({'text':val_texts,'labels':[0]*len(val_texts)}, columns=col_names)\n",
        "df_trn=df_trn[['labels','text']]\n",
        "df_val=df_val[['labels','text']]\n",
        "\n",
        "df_trn.to_csv(LM_PATH/'train.csv', sep=',',header=False, index=False)\n",
        "df_val.to_csv(LM_PATH/'test.csv',sep=',', header=False, index=False)"
      ],
      "execution_count": 0,
      "outputs": []
    },
    {
      "metadata": {
        "id": "VzbjACItJy48",
        "colab_type": "text"
      },
      "cell_type": "markdown",
      "source": [
        "## Language model tokens"
      ]
    },
    {
      "metadata": {
        "id": "Tp6QZDo2Jy5C",
        "colab_type": "text"
      },
      "cell_type": "markdown",
      "source": [
        "In this section, we start cleaning up the messy text. There are 2 main activities we need to perform:\n",
        "\n",
        "1. Clean up extra spaces, tab chars, new ln chars and other characters and replace them with standard ones\n",
        "2. Use the awesome [spacy](http://spacy.io) library to tokenize the data. Since spacy does not provide a parallel/multicore version of the tokenizer, the fastai library adds this functionality. This parallel version uses all the cores of your CPUs and runs much faster than the serial version of the spacy tokenizer.\n",
        "\n",
        "Tokenization is the process of splitting the text into separate tokens so that each token can be assigned a unique index. This means we can convert the text into integer indexes our models can use.\n",
        "\n",
        "We use an appropriate chunksize as the tokenization process is memory intensive"
      ]
    },
    {
      "metadata": {
        "id": "hI85dPyiJy5G",
        "colab_type": "code",
        "colab": {}
      },
      "cell_type": "code",
      "source": [
        "chunksize=24000"
      ],
      "execution_count": 0,
      "outputs": []
    },
    {
      "metadata": {
        "id": "8K3THWAlJy5M",
        "colab_type": "code",
        "colab": {}
      },
      "cell_type": "code",
      "source": [
        "re1 = re.compile(r'  +')\n",
        "\n",
        "def fixup(x):\n",
        "    x = x.replace('#39;', \"'\").replace('amp;', '&').replace('#146;', \"'\").replace(\n",
        "        'nbsp;', ' ').replace('#36;', '$').replace('\\\\n', \"\\n\").replace('quot;', \"'\").replace(\n",
        "        '<br />', \"\\n\").replace('\\\\\"', '\"').replace('<unk>','u_n').replace(' @.@ ','.').replace(\n",
        "        ' @-@ ','-').replace('\\\\', ' \\\\ ')\n",
        "    return re1.sub(' ', html.unescape(x))"
      ],
      "execution_count": 0,
      "outputs": []
    },
    {
      "metadata": {
        "id": "DvneidKNJy5Q",
        "colab_type": "code",
        "colab": {}
      },
      "cell_type": "code",
      "source": [
        "def get_texts(df, n_lbls=1):\n",
        "    labels = df.iloc[:,range(n_lbls)].values.astype(np.int64)\n",
        "    texts = f'\\n{BOS} {FLD} 1 ' + df[n_lbls].astype(str)\n",
        "    for i in range(n_lbls+1, len(df.columns)): texts += f' {FLD} {i-n_lbls} ' + df[i].astype(str)\n",
        "    texts = list(texts.apply(fixup).values)\n",
        "    tok = Tokenizer().proc_all_mp(partition_by_cores(texts))\n",
        "    return tok, list(labels)"
      ],
      "execution_count": 0,
      "outputs": []
    },
    {
      "metadata": {
        "id": "gocAiwV2Jy5U",
        "colab_type": "code",
        "colab": {}
      },
      "cell_type": "code",
      "source": [
        "def get_all(df, n_lbls):\n",
        "    tok, labels = [], []\n",
        "    for i, r in enumerate(df):\n",
        "        print(i)\n",
        "        tok_, labels_ = get_texts(r, n_lbls)\n",
        "        tok += tok_;\n",
        "        labels += labels_\n",
        "    return tok, labels"
      ],
      "execution_count": 0,
      "outputs": []
    },
    {
      "metadata": {
        "id": "sCyfinVIJy5X",
        "colab_type": "code",
        "colab": {}
      },
      "cell_type": "code",
      "source": [
        "df_trn = pd.read_csv(LM_PATH/'train.csv',sep=',',header=None, chunksize=chunksize)\n",
        "df_val = pd.read_csv(LM_PATH/'test.csv',sep=',', header=None, chunksize=chunksize)"
      ],
      "execution_count": 0,
      "outputs": []
    },
    {
      "metadata": {
        "id": "TkLigiVDJy5b",
        "colab_type": "code",
        "outputId": "905a6b69-7d64-4e8a-a042-a6ba4fbba85b",
        "colab": {
          "base_uri": "https://localhost:8080/",
          "height": 102
        }
      },
      "cell_type": "code",
      "source": [
        "tok_trn, trn_labels = get_all(df_trn, 1)\n",
        "tok_val, val_labels = get_all(df_val, 1)"
      ],
      "execution_count": 0,
      "outputs": [
        {
          "output_type": "stream",
          "text": [
            "0\n",
            "1\n",
            "2\n",
            "3\n",
            "0\n"
          ],
          "name": "stdout"
        }
      ]
    },
    {
      "metadata": {
        "id": "F1HQf35aJy5g",
        "colab_type": "code",
        "colab": {}
      },
      "cell_type": "code",
      "source": [
        "(LM_PATH/'tmp').mkdir(exist_ok=True)"
      ],
      "execution_count": 0,
      "outputs": []
    },
    {
      "metadata": {
        "id": "jnMV4emIJy5k",
        "colab_type": "code",
        "colab": {}
      },
      "cell_type": "code",
      "source": [
        "np.save(LM_PATH/'tmp'/'tok_trn.npy', tok_trn)\n",
        "np.save(LM_PATH/'tmp'/'tok_val.npy', tok_val)"
      ],
      "execution_count": 0,
      "outputs": []
    },
    {
      "metadata": {
        "id": "NhzZ_tnBJy5n",
        "colab_type": "code",
        "colab": {}
      },
      "cell_type": "code",
      "source": [
        "tok_trn = np.load(LM_PATH/'tmp'/'tok_trn.npy')\n",
        "tok_val = np.load(LM_PATH/'tmp'/'tok_val.npy')"
      ],
      "execution_count": 0,
      "outputs": []
    },
    {
      "metadata": {
        "id": "HDk87Bu2Jy5u",
        "colab_type": "code",
        "outputId": "79f47aed-23ba-4cd5-df51-d28e25221246",
        "colab": {
          "base_uri": "https://localhost:8080/",
          "height": 442
        }
      },
      "cell_type": "code",
      "source": [
        "freq = Counter(p for o in tok_trn for p in o)\n",
        "freq.most_common(25)"
      ],
      "execution_count": 0,
      "outputs": [
        {
          "output_type": "execute_result",
          "data": {
            "text/plain": [
              "[('1', 74831),\n",
              " ('\\n', 74595),\n",
              " ('xbos', 74595),\n",
              " ('xfld', 74595),\n",
              " ('i', 66175),\n",
              " ('.', 59818),\n",
              " ('my', 47347),\n",
              " ('a', 45653),\n",
              " ('to', 31806),\n",
              " ('and', 29562),\n",
              " ('the', 26594),\n",
              " ('was', 17288),\n",
              " ('t_up', 16943),\n",
              " ('for', 16564),\n",
              " ('in', 14490),\n",
              " ('me', 14409),\n",
              " ('with', 13922),\n",
              " (',', 13760),\n",
              " ('of', 13024),\n",
              " ('that', 11981),\n",
              " ('happy', 9941),\n",
              " ('got', 9486),\n",
              " ('on', 9464),\n",
              " ('it', 8041),\n",
              " ('had', 8007)]"
            ]
          },
          "metadata": {
            "tags": []
          },
          "execution_count": 25
        }
      ]
    },
    {
      "metadata": {
        "id": "zJlna0XUJy52",
        "colab_type": "text"
      },
      "cell_type": "markdown",
      "source": [
        "The *vocab* is the **unique set of all tokens** in our dataset. The vocab provides us a way for us to simply replace each word in our datasets with a unique integer called an index.\n",
        "\n",
        "In a large corpus of data one might find some rare words which are only used a few times in the whole dataset. We discard such rare words and avoid trying to learn meaningful patterns out of them.\n",
        "\n",
        "Here we have set a minimum frequency of occurence to 2 times. It has been observed by NLP practicioners that a maximum vocab of 60k usually yields good results for classification tasks. So we set maz_vocab to 60000."
      ]
    },
    {
      "metadata": {
        "id": "udI_7jJNJy53",
        "colab_type": "code",
        "colab": {}
      },
      "cell_type": "code",
      "source": [
        "max_vocab = 60000\n",
        "min_freq = 2"
      ],
      "execution_count": 0,
      "outputs": []
    },
    {
      "metadata": {
        "id": "g52RDc1vJy58",
        "colab_type": "code",
        "colab": {}
      },
      "cell_type": "code",
      "source": [
        "itos = [o for o,c in freq.most_common(max_vocab) if c>min_freq]\n",
        "itos.insert(0, '_pad_')\n",
        "itos.insert(0, '_unk_')"
      ],
      "execution_count": 0,
      "outputs": []
    },
    {
      "metadata": {
        "id": "ZSg_bcrIJy6A",
        "colab_type": "text"
      },
      "cell_type": "markdown",
      "source": [
        "We create a reverse mapping called stoi which is useful to lookup the index of a given token. stoi also has the same number of elements as itos. We use a high performance container called [collections.defaultdict](https://docs.python.org/2/library/collections.html#collections.defaultdict) to store our stoi mapping."
      ]
    },
    {
      "metadata": {
        "id": "oAmml2YhJy6C",
        "colab_type": "code",
        "outputId": "390b9ac0-c969-4035-a01d-91c6a8d43bea",
        "colab": {
          "base_uri": "https://localhost:8080/",
          "height": 34
        }
      },
      "cell_type": "code",
      "source": [
        "stoi = collections.defaultdict(lambda:0, {v:k for k,v in enumerate(itos)})\n",
        "len(itos)"
      ],
      "execution_count": 0,
      "outputs": [
        {
          "output_type": "execute_result",
          "data": {
            "text/plain": [
              "8639"
            ]
          },
          "metadata": {
            "tags": []
          },
          "execution_count": 28
        }
      ]
    },
    {
      "metadata": {
        "id": "0Pt58rHnJy6J",
        "colab_type": "code",
        "colab": {}
      },
      "cell_type": "code",
      "source": [
        "trn_lm = np.array([[stoi[o] for o in p] for p in tok_trn])\n",
        "val_lm = np.array([[stoi[o] for o in p] for p in tok_val])"
      ],
      "execution_count": 0,
      "outputs": []
    },
    {
      "metadata": {
        "id": "9PiG2q6zJy6P",
        "colab_type": "code",
        "colab": {}
      },
      "cell_type": "code",
      "source": [
        "np.save(LM_PATH/'tmp'/'trn_ids.npy', trn_lm)\n",
        "np.save(LM_PATH/'tmp'/'val_ids.npy', val_lm)\n",
        "pickle.dump(itos, open(LM_PATH/'tmp'/'itos.pkl', 'wb'))"
      ],
      "execution_count": 0,
      "outputs": []
    },
    {
      "metadata": {
        "id": "i4tTzU0bJy6S",
        "colab_type": "code",
        "colab": {}
      },
      "cell_type": "code",
      "source": [
        "trn_lm = np.load(LM_PATH/'tmp'/'trn_ids.npy')\n",
        "val_lm = np.load(LM_PATH/'tmp'/'val_ids.npy')\n",
        "itos = pickle.load(open(LM_PATH/'tmp'/'itos.pkl', 'rb'))"
      ],
      "execution_count": 0,
      "outputs": []
    },
    {
      "metadata": {
        "id": "hot4ZQ9wJy6W",
        "colab_type": "code",
        "outputId": "5a00f0ea-824d-42e5-d774-23f49ea4ec33",
        "colab": {
          "base_uri": "https://localhost:8080/",
          "height": 34
        }
      },
      "cell_type": "code",
      "source": [
        "vs=len(itos)\n",
        "vs,len(trn_lm)"
      ],
      "execution_count": 0,
      "outputs": [
        {
          "output_type": "execute_result",
          "data": {
            "text/plain": [
              "(8639, 74595)"
            ]
          },
          "metadata": {
            "tags": []
          },
          "execution_count": 32
        }
      ]
    },
    {
      "metadata": {
        "id": "6nD_TQ8YJy6b",
        "colab_type": "text"
      },
      "cell_type": "markdown",
      "source": [
        "## wikitext103 conversion"
      ]
    },
    {
      "metadata": {
        "id": "ieu1JG50Jy6c",
        "colab_type": "text"
      },
      "cell_type": "markdown",
      "source": [
        "We are now going to build an english language model for the IMDB corpus. We could start from scratch and try to learn the structure of the english language. But we use a technique called transfer learning to make this process easier. In transfer learning (a fairly recent idea for NLP) a pre-trained LM that has been trained on a large generic corpus(_like wikipedia articles_) can be used to transfer it's knowledge to a target LM and the weights can be fine-tuned.\n",
        "\n",
        "Our source LM is the wikitext103 LM created by Stephen Merity @ Salesforce research. [Link to dataset](https://www.salesforce.com/products/einstein/ai-research/the-wikitext-dependency-language-modeling-dataset/)\n",
        "The language model for wikitext103 (AWD LSTM) has been pre-trained and the weights can be downloaded here: [Link](http://files.fast.ai/models/wt103/). Our target LM is the IMDB LM. "
      ]
    },
    {
      "metadata": {
        "id": "nzHsResjJy6c",
        "colab_type": "code",
        "outputId": "d195b72b-f2a3-4e26-e1cd-9fb4afa87061",
        "colab": {
          "base_uri": "https://localhost:8080/",
          "height": 2567
        }
      },
      "cell_type": "code",
      "source": [
        "! wget -nH -r -np -P {PATH} http://files.fast.ai/models/wt103/"
      ],
      "execution_count": 0,
      "outputs": [
        {
          "output_type": "stream",
          "text": [
            "--2018-12-09 06:48:28--  http://files.fast.ai/models/wt103/\n",
            "Resolving files.fast.ai (files.fast.ai)... 67.205.15.147\n",
            "Connecting to files.fast.ai (files.fast.ai)|67.205.15.147|:80... connected.\n",
            "HTTP request sent, awaiting response... 200 OK\n",
            "Length: 857 [text/html]\n",
            "Saving to: ‘data/claff/models/wt103/index.html’\n",
            "\n",
            "\rmodels/wt103/index.   0%[                    ]       0  --.-KB/s               \rmodels/wt103/index. 100%[===================>]     857  --.-KB/s    in 0s      \n",
            "\n",
            "2018-12-09 06:48:28 (97.1 MB/s) - ‘data/claff/models/wt103/index.html’ saved [857/857]\n",
            "\n",
            "Loading robots.txt; please ignore errors.\n",
            "--2018-12-09 06:48:28--  http://files.fast.ai/robots.txt\n",
            "Reusing existing connection to files.fast.ai:80.\n",
            "HTTP request sent, awaiting response... 404 Not Found\n",
            "2018-12-09 06:48:28 ERROR 404: Not Found.\n",
            "\n",
            "--2018-12-09 06:48:28--  http://files.fast.ai/models/wt103/?C=N;O=D\n",
            "Reusing existing connection to files.fast.ai:80.\n",
            "HTTP request sent, awaiting response... 200 OK\n",
            "Length: 857 [text/html]\n",
            "Saving to: ‘data/claff/models/wt103/index.html?C=N;O=D’\n",
            "\n",
            "\r          models/wt   0%[                    ]       0  --.-KB/s               \rmodels/wt103/index. 100%[===================>]     857  --.-KB/s    in 0s      \n",
            "\n",
            "2018-12-09 06:48:28 (89.7 MB/s) - ‘data/claff/models/wt103/index.html?C=N;O=D’ saved [857/857]\n",
            "\n",
            "--2018-12-09 06:48:28--  http://files.fast.ai/models/wt103/?C=M;O=A\n",
            "Reusing existing connection to files.fast.ai:80.\n",
            "HTTP request sent, awaiting response... 200 OK\n",
            "Length: 857 [text/html]\n",
            "Saving to: ‘data/claff/models/wt103/index.html?C=M;O=A’\n",
            "\n",
            "\r          models/wt   0%[                    ]       0  --.-KB/s               \rmodels/wt103/index. 100%[===================>]     857  --.-KB/s    in 0s      \n",
            "\n",
            "2018-12-09 06:48:28 (101 MB/s) - ‘data/claff/models/wt103/index.html?C=M;O=A’ saved [857/857]\n",
            "\n",
            "--2018-12-09 06:48:28--  http://files.fast.ai/models/wt103/?C=S;O=A\n",
            "Reusing existing connection to files.fast.ai:80.\n",
            "HTTP request sent, awaiting response... 200 OK\n",
            "Length: 857 [text/html]\n",
            "Saving to: ‘data/claff/models/wt103/index.html?C=S;O=A’\n",
            "\n",
            "\r          models/wt   0%[                    ]       0  --.-KB/s               \rmodels/wt103/index. 100%[===================>]     857  --.-KB/s    in 0s      \n",
            "\n",
            "2018-12-09 06:48:28 (108 MB/s) - ‘data/claff/models/wt103/index.html?C=S;O=A’ saved [857/857]\n",
            "\n",
            "--2018-12-09 06:48:28--  http://files.fast.ai/models/wt103/?C=D;O=A\n",
            "Reusing existing connection to files.fast.ai:80.\n",
            "HTTP request sent, awaiting response... 200 OK\n",
            "Length: 857 [text/html]\n",
            "Saving to: ‘data/claff/models/wt103/index.html?C=D;O=A’\n",
            "\n",
            "\r          models/wt   0%[                    ]       0  --.-KB/s               \rmodels/wt103/index. 100%[===================>]     857  --.-KB/s    in 0s      \n",
            "\n",
            "2018-12-09 06:48:28 (104 MB/s) - ‘data/claff/models/wt103/index.html?C=D;O=A’ saved [857/857]\n",
            "\n",
            "--2018-12-09 06:48:28--  http://files.fast.ai/models/wt103/bwd_wt103.h5\n",
            "Reusing existing connection to files.fast.ai:80.\n",
            "HTTP request sent, awaiting response... 200 OK\n",
            "Length: 462387687 (441M) [text/plain]\n",
            "Saving to: ‘data/claff/models/wt103/bwd_wt103.h5’\n",
            "\n",
            "models/wt103/bwd_wt 100%[===================>] 440.97M   103MB/s    in 4.5s    \n",
            "\n",
            "2018-12-09 06:48:32 (97.9 MB/s) - ‘data/claff/models/wt103/bwd_wt103.h5’ saved [462387687/462387687]\n",
            "\n",
            "--2018-12-09 06:48:32--  http://files.fast.ai/models/wt103/bwd_wt103_enc.h5\n",
            "Reusing existing connection to files.fast.ai:80.\n",
            "HTTP request sent, awaiting response... 200 OK\n",
            "Length: 462387634 (441M) [text/plain]\n",
            "Saving to: ‘data/claff/models/wt103/bwd_wt103_enc.h5’\n",
            "\n",
            "models/wt103/bwd_wt 100%[===================>] 440.97M   103MB/s    in 4.3s    \n",
            "\n",
            "2018-12-09 06:48:37 (102 MB/s) - ‘data/claff/models/wt103/bwd_wt103_enc.h5’ saved [462387634/462387634]\n",
            "\n",
            "--2018-12-09 06:48:37--  http://files.fast.ai/models/wt103/fwd_wt103.h5\n",
            "Reusing existing connection to files.fast.ai:80.\n",
            "HTTP request sent, awaiting response... 200 OK\n",
            "Length: 462387687 (441M) [text/plain]\n",
            "Saving to: ‘data/claff/models/wt103/fwd_wt103.h5’\n",
            "\n",
            "models/wt103/fwd_wt 100%[===================>] 440.97M   101MB/s    in 4.4s    \n",
            "\n",
            "2018-12-09 06:48:41 (101 MB/s) - ‘data/claff/models/wt103/fwd_wt103.h5’ saved [462387687/462387687]\n",
            "\n",
            "--2018-12-09 06:48:41--  http://files.fast.ai/models/wt103/fwd_wt103_enc.h5\n",
            "Reusing existing connection to files.fast.ai:80.\n",
            "HTTP request sent, awaiting response... 200 OK\n",
            "Length: 462387634 (441M) [text/plain]\n",
            "Saving to: ‘data/claff/models/wt103/fwd_wt103_enc.h5’\n",
            "\n",
            "models/wt103/fwd_wt 100%[===================>] 440.97M   101MB/s    in 4.3s    \n",
            "\n",
            "2018-12-09 06:48:46 (101 MB/s) - ‘data/claff/models/wt103/fwd_wt103_enc.h5’ saved [462387634/462387634]\n",
            "\n",
            "--2018-12-09 06:48:46--  http://files.fast.ai/models/wt103/itos_wt103.pkl\n",
            "Reusing existing connection to files.fast.ai:80.\n",
            "HTTP request sent, awaiting response... 200 OK\n",
            "Length: 4161252 (4.0M) [text/plain]\n",
            "Saving to: ‘data/claff/models/wt103/itos_wt103.pkl’\n",
            "\n",
            "models/wt103/itos_w 100%[===================>]   3.97M  --.-KB/s    in 0.04s   \n",
            "\n",
            "2018-12-09 06:48:46 (108 MB/s) - ‘data/claff/models/wt103/itos_wt103.pkl’ saved [4161252/4161252]\n",
            "\n",
            "--2018-12-09 06:48:46--  http://files.fast.ai/models/wt103/?C=N;O=A\n",
            "Reusing existing connection to files.fast.ai:80.\n",
            "HTTP request sent, awaiting response... 200 OK\n",
            "Length: 857 [text/html]\n",
            "Saving to: ‘data/claff/models/wt103/index.html?C=N;O=A’\n",
            "\n",
            "models/wt103/index. 100%[===================>]     857  --.-KB/s    in 0s      \n",
            "\n",
            "2018-12-09 06:48:46 (63.0 MB/s) - ‘data/claff/models/wt103/index.html?C=N;O=A’ saved [857/857]\n",
            "\n",
            "--2018-12-09 06:48:46--  http://files.fast.ai/models/wt103/?C=M;O=D\n",
            "Reusing existing connection to files.fast.ai:80.\n",
            "HTTP request sent, awaiting response... 200 OK\n",
            "Length: 857 [text/html]\n",
            "Saving to: ‘data/claff/models/wt103/index.html?C=M;O=D’\n",
            "\n",
            "models/wt103/index. 100%[===================>]     857  --.-KB/s    in 0s      \n",
            "\n",
            "2018-12-09 06:48:46 (66.7 MB/s) - ‘data/claff/models/wt103/index.html?C=M;O=D’ saved [857/857]\n",
            "\n",
            "--2018-12-09 06:48:46--  http://files.fast.ai/models/wt103/?C=S;O=D\n",
            "Reusing existing connection to files.fast.ai:80.\n",
            "HTTP request sent, awaiting response... 200 OK\n",
            "Length: 857 [text/html]\n",
            "Saving to: ‘data/claff/models/wt103/index.html?C=S;O=D’\n",
            "\n",
            "models/wt103/index. 100%[===================>]     857  --.-KB/s    in 0s      \n",
            "\n",
            "2018-12-09 06:48:46 (45.2 MB/s) - ‘data/claff/models/wt103/index.html?C=S;O=D’ saved [857/857]\n",
            "\n",
            "--2018-12-09 06:48:46--  http://files.fast.ai/models/wt103/?C=D;O=D\n",
            "Reusing existing connection to files.fast.ai:80.\n",
            "HTTP request sent, awaiting response... 200 OK\n",
            "Length: 857 [text/html]\n",
            "Saving to: ‘data/claff/models/wt103/index.html?C=D;O=D’\n",
            "\n",
            "models/wt103/index. 100%[===================>]     857  --.-KB/s    in 0s      \n",
            "\n",
            "2018-12-09 06:48:46 (63.6 MB/s) - ‘data/claff/models/wt103/index.html?C=D;O=D’ saved [857/857]\n",
            "\n",
            "FINISHED --2018-12-09 06:48:46--\n",
            "Total wall clock time: 18s\n",
            "Downloaded: 14 files, 1.7G in 18s (101 MB/s)\n"
          ],
          "name": "stdout"
        }
      ]
    },
    {
      "metadata": {
        "id": "hG6jZx0DJy6f",
        "colab_type": "text"
      },
      "cell_type": "markdown",
      "source": [
        "The pre-trained LM weights have an embedding size of 400, 1150 hidden units and just 3 layers. We need to match these values  with the target IMDB LM so that the weights can be loaded up."
      ]
    },
    {
      "metadata": {
        "id": "knuW_hosJy6g",
        "colab_type": "code",
        "colab": {}
      },
      "cell_type": "code",
      "source": [
        "em_sz,nh,nl = 400,1150,3"
      ],
      "execution_count": 0,
      "outputs": []
    },
    {
      "metadata": {
        "id": "coPPJC_yJy6n",
        "colab_type": "code",
        "colab": {}
      },
      "cell_type": "code",
      "source": [
        "PRE_PATH = PATH/'models'/'wt103'\n",
        "PRE_LM_PATH = PRE_PATH/'fwd_wt103.h5'"
      ],
      "execution_count": 0,
      "outputs": []
    },
    {
      "metadata": {
        "id": "lNkAfjkBJy6x",
        "colab_type": "code",
        "colab": {}
      },
      "cell_type": "code",
      "source": [
        "wgts = torch.load(PRE_LM_PATH, map_location=lambda storage, loc: storage)"
      ],
      "execution_count": 0,
      "outputs": []
    },
    {
      "metadata": {
        "id": "1b4fAIokJy61",
        "colab_type": "text"
      },
      "cell_type": "markdown",
      "source": [
        "We calculate the mean of the layer0 encoder weights. This can be used to assign weights to unknown tokens when we transfer to target IMDB LM."
      ]
    },
    {
      "metadata": {
        "id": "IVUlNx18Jy63",
        "colab_type": "code",
        "colab": {}
      },
      "cell_type": "code",
      "source": [
        "enc_wgts = to_np(wgts['0.encoder.weight'])\n",
        "row_m = enc_wgts.mean(0)"
      ],
      "execution_count": 0,
      "outputs": []
    },
    {
      "metadata": {
        "id": "NbeC5CUmJy69",
        "colab_type": "code",
        "colab": {}
      },
      "cell_type": "code",
      "source": [
        "itos2 = pickle.load((PRE_PATH/'itos_wt103.pkl').open('rb'))\n",
        "stoi2 = collections.defaultdict(lambda:-1, {v:k for k,v in enumerate(itos2)})"
      ],
      "execution_count": 0,
      "outputs": []
    },
    {
      "metadata": {
        "id": "Oh5RWUKDJy7B",
        "colab_type": "text"
      },
      "cell_type": "markdown",
      "source": [
        "Before we try to transfer the knowledge from wikitext to the IMDB LM, we match up the vocab words and their indexes. \n",
        "We use the defaultdict container once again, to assign mean weights to unknown IMDB tokens that do not exist in wikitext103."
      ]
    },
    {
      "metadata": {
        "id": "kzrX-L-eJy7C",
        "colab_type": "code",
        "colab": {}
      },
      "cell_type": "code",
      "source": [
        "new_w = np.zeros((vs, em_sz), dtype=np.float32)\n",
        "for i,w in enumerate(itos):\n",
        "    r = stoi2[w]\n",
        "    new_w[i] = enc_wgts[r] if r>=0 else row_m"
      ],
      "execution_count": 0,
      "outputs": []
    },
    {
      "metadata": {
        "id": "prPkyjnjJy7H",
        "colab_type": "text"
      },
      "cell_type": "markdown",
      "source": [
        "We now overwrite the weights into the wgts odict.\n",
        "The decoder module, which we will explore in detail is also loaded with the same weights due to an idea called weight tying."
      ]
    },
    {
      "metadata": {
        "id": "0GsVOrbxJy7I",
        "colab_type": "code",
        "colab": {}
      },
      "cell_type": "code",
      "source": [
        "wgts['0.encoder.weight'] = T(new_w)\n",
        "wgts['0.encoder_with_dropout.embed.weight'] = T(np.copy(new_w))\n",
        "wgts['1.decoder.weight'] = T(np.copy(new_w))"
      ],
      "execution_count": 0,
      "outputs": []
    },
    {
      "metadata": {
        "id": "lN_7H1Y-Jy7L",
        "colab_type": "text"
      },
      "cell_type": "markdown",
      "source": [
        "Now that we have the weights prepared, we are ready to create and start training our new IMDB language pytorch model!"
      ]
    },
    {
      "metadata": {
        "id": "eRIAV3tGJy7N",
        "colab_type": "text"
      },
      "cell_type": "markdown",
      "source": [
        "## Language model"
      ]
    },
    {
      "metadata": {
        "id": "T_H_yHyrJy7O",
        "colab_type": "text"
      },
      "cell_type": "markdown",
      "source": [
        "It is fairly straightforward to create a new language model using the fastai library. Like every other lesson, our model will have a backbone and a custom head. The backbone in our case is the IMDB LM pre-trained with wikitext and the custom head is a linear classifier. In this section we will focus on the backbone LM and the next section will talk about the classifier custom head.\n",
        "\n",
        "bptt (*also known traditionally in NLP LM as ngrams*) in fastai LMs is approximated to a std. deviation around 70, by perturbing the sequence length on a per-batch basis. This is akin to shuffling our data in computer vision, only that in NLP we cannot shuffle inputs and we have to maintain statefulness. \n",
        "\n",
        "Since we are predicting words using ngrams, we want our next batch to line up with the end-points of the previous mini-batch's items. batch-size is constant and but the fastai library expands and contracts bptt each mini-batch using a clever stochastic implementation of a batch. (original credits attributed to [Smerity](https://twitter.com/jeremyphoward/status/980227258395770882))"
      ]
    },
    {
      "metadata": {
        "id": "kJ42ceddJy7Q",
        "colab_type": "code",
        "colab": {}
      },
      "cell_type": "code",
      "source": [
        "wd=1e-7\n",
        "bptt=70\n",
        "bs=52\n",
        "opt_fn = partial(optim.Adam, betas=(0.8, 0.99))"
      ],
      "execution_count": 0,
      "outputs": []
    },
    {
      "metadata": {
        "id": "1PX7xmjWJy7T",
        "colab_type": "text"
      },
      "cell_type": "markdown",
      "source": [
        "The goal of the LM is to learn to predict a word/token given a preceeding set of words(tokens). We take all the movie reviews in both the 90k training set and 10k validation set and concatenate them to form long strings of tokens. In fastai, we use the `LanguageModelLoader` to create a data loader which makes it easy to create and use bptt sized mini batches. The  `LanguageModelLoader` takes a concatenated string of tokens and returns a loader.\n",
        "\n",
        "We have a special modeldata object class for LMs called `LanguageModelData` to which we can pass the training and validation loaders and get in return the model itself."
      ]
    },
    {
      "metadata": {
        "id": "FHEfNJ_uJy7X",
        "colab_type": "code",
        "colab": {}
      },
      "cell_type": "code",
      "source": [
        "trn_dl = LanguageModelLoader(np.concatenate(trn_lm), bs, bptt)\n",
        "val_dl = LanguageModelLoader(np.concatenate(val_lm), bs, bptt)\n",
        "md = LanguageModelData(PATH, 1, vs, trn_dl, val_dl, bs=bs, bptt=bptt)"
      ],
      "execution_count": 0,
      "outputs": []
    },
    {
      "metadata": {
        "id": "Ucg-R2waJy7d",
        "colab_type": "text"
      },
      "cell_type": "markdown",
      "source": [
        "We setup the dropouts for the model - these values have been chosen after experimentation. If you need to update them for custom LMs, you can change the weighting factor (0.7 here) based on the amount of data you have. For more data, you can reduce dropout factor and for small datasets, you can reduce overfitting by choosing a higher dropout factor. *No other dropout value requires tuning*"
      ]
    },
    {
      "metadata": {
        "id": "H-uvI9SWJy7g",
        "colab_type": "code",
        "colab": {}
      },
      "cell_type": "code",
      "source": [
        "drops = np.array([0.25, 0.1, 0.2, 0.02, 0.15])*0.9"
      ],
      "execution_count": 0,
      "outputs": []
    },
    {
      "metadata": {
        "id": "LihTTcytJy7j",
        "colab_type": "text"
      },
      "cell_type": "markdown",
      "source": [
        "We first tune the last embedding layer so that the missing tokens initialized with mean weights get tuned properly. So we freeze everything except the last layer.\n",
        "\n",
        "We also keep track of the *accuracy* metric."
      ]
    },
    {
      "metadata": {
        "id": "grqK7ibQJy7j",
        "colab_type": "code",
        "colab": {}
      },
      "cell_type": "code",
      "source": [
        "learner= md.get_model(opt_fn, em_sz, nh, nl, \n",
        "    dropouti=drops[0], dropout=drops[1], wdrop=drops[2], dropoute=drops[3], dropouth=drops[4])\n",
        "\n",
        "learner.metrics = [accuracy]\n",
        "learner.freeze_to(-1)"
      ],
      "execution_count": 0,
      "outputs": []
    },
    {
      "metadata": {
        "id": "DnCCXQnnJy7n",
        "colab_type": "code",
        "colab": {}
      },
      "cell_type": "code",
      "source": [
        "learner.model.load_state_dict(wgts)"
      ],
      "execution_count": 0,
      "outputs": []
    },
    {
      "metadata": {
        "id": "diPoKEN5Jy7u",
        "colab_type": "text"
      },
      "cell_type": "markdown",
      "source": [
        "We set learning rates and fit our IMDB LM. We first run one epoch to tune the last layer which contains the embedding weights. This should help the missing tokens in the wikitext103 learn better weights."
      ]
    },
    {
      "metadata": {
        "id": "4hY4f8HMJy7w",
        "colab_type": "code",
        "colab": {}
      },
      "cell_type": "code",
      "source": [
        "lr=1e-3\n",
        "lrs = lr"
      ],
      "execution_count": 0,
      "outputs": []
    },
    {
      "metadata": {
        "id": "3gFtElScJy76",
        "colab_type": "code",
        "outputId": "9f7f1d60-5782-498e-feea-dae5927d2940",
        "colab": {
          "base_uri": "https://localhost:8080/",
          "height": 102
        }
      },
      "cell_type": "code",
      "source": [
        "learner.fit(lrs/2, 1, wds=wd, use_clr=(32,2), cycle_len=1)"
      ],
      "execution_count": 0,
      "outputs": [
        {
          "output_type": "display_data",
          "data": {
            "application/vnd.jupyter.widget-view+json": {
              "model_id": "fcdb3764d24b41a7a528da0e5383bce0",
              "version_minor": 0,
              "version_major": 2
            },
            "text/plain": [
              "HBox(children=(IntProgress(value=0, description='Epoch', max=1, style=ProgressStyle(description_width='initial…"
            ]
          },
          "metadata": {
            "tags": []
          }
        },
        {
          "output_type": "stream",
          "text": [
            "epoch      trn_loss   val_loss   accuracy   \n",
            "    0      4.191356   3.903102   0.331826  \n",
            "\n"
          ],
          "name": "stdout"
        },
        {
          "output_type": "execute_result",
          "data": {
            "text/plain": [
              "[array([3.9031]), 0.3318260873504307]"
            ]
          },
          "metadata": {
            "tags": []
          },
          "execution_count": 47
        }
      ]
    },
    {
      "metadata": {
        "id": "ghIeNCKiJy79",
        "colab_type": "text"
      },
      "cell_type": "markdown",
      "source": [
        "Note that we print out accuracy and keep track of how often we end up predicting the target word correctly. While this is a good metric to check, it is not part of our loss function as it can get quite bumpy. We only minimize cross-entropy loss in the LM.\n",
        "\n",
        "The exponent of the cross-entropy loss is called the perplexity of the LM. (low perplexity is better)."
      ]
    },
    {
      "metadata": {
        "id": "Qql-poWNJy7-",
        "colab_type": "code",
        "colab": {}
      },
      "cell_type": "code",
      "source": [
        "learner.save('lm_last_ft')"
      ],
      "execution_count": 0,
      "outputs": []
    },
    {
      "metadata": {
        "id": "kSHB-LqtJy8B",
        "colab_type": "code",
        "colab": {}
      },
      "cell_type": "code",
      "source": [
        "learner.load('lm_last_ft')"
      ],
      "execution_count": 0,
      "outputs": []
    },
    {
      "metadata": {
        "id": "s7eiRn4bJy8D",
        "colab_type": "code",
        "colab": {}
      },
      "cell_type": "code",
      "source": [
        "learner.unfreeze()"
      ],
      "execution_count": 0,
      "outputs": []
    },
    {
      "metadata": {
        "id": "z-eoSewgJy8F",
        "colab_type": "code",
        "outputId": "18a91321-15c5-42c2-8ddf-427ffd9f96d7",
        "colab": {
          "base_uri": "https://localhost:8080/",
          "height": 85
        }
      },
      "cell_type": "code",
      "source": [
        "learner.lr_find(start_lr=lrs/20, end_lr=lrs*20, linear=True)"
      ],
      "execution_count": 0,
      "outputs": [
        {
          "output_type": "display_data",
          "data": {
            "application/vnd.jupyter.widget-view+json": {
              "model_id": "1b78be8e0de44ac4919b9efd0bcf83a4",
              "version_minor": 0,
              "version_major": 2
            },
            "text/plain": [
              "HBox(children=(IntProgress(value=0, description='Epoch', max=1, style=ProgressStyle(description_width='initial…"
            ]
          },
          "metadata": {
            "tags": []
          }
        },
        {
          "output_type": "stream",
          "text": [
            "epoch      trn_loss   val_loss   accuracy   \n",
            "    0      3.053128   2.90308    0.44887   \n",
            "\n"
          ],
          "name": "stdout"
        }
      ]
    },
    {
      "metadata": {
        "id": "Pxaw7adHJy8J",
        "colab_type": "code",
        "outputId": "38c0b7f0-0acf-46cf-8341-0b86b665d320",
        "colab": {
          "base_uri": "https://localhost:8080/",
          "height": 365
        }
      },
      "cell_type": "code",
      "source": [
        "learner.sched.plot()"
      ],
      "execution_count": 0,
      "outputs": [
        {
          "output_type": "display_data",
          "data": {
            "image/png": "[encoded data removed]",
            "text/plain": [
              "<Figure size 576x396 with 1 Axes>"
            ]
          },
          "metadata": {
            "tags": []
          }
        }
      ]
    },
    {
      "metadata": {
        "id": "3uoG3RobJy8Q",
        "colab_type": "code",
        "outputId": "f8325174-468a-42d6-fa01-5af8cbece759",
        "colab": {
          "base_uri": "https://localhost:8080/",
          "height": 425
        }
      },
      "cell_type": "code",
      "source": [
        "learner.fit(lrs, 1, wds=wd, use_clr=(20,10), cycle_len=20)"
      ],
      "execution_count": 53,
      "outputs": [
        {
          "output_type": "display_data",
          "data": {
            "application/vnd.jupyter.widget-view+json": {
              "model_id": "65143f54713e4d6a9cc53a5574bcb390",
              "version_minor": 0,
              "version_major": 2
            },
            "text/plain": [
              "HBox(children=(IntProgress(value=0, description='Epoch', max=20, style=ProgressStyle(description_width='initia…"
            ]
          },
          "metadata": {
            "tags": []
          }
        },
        {
          "output_type": "stream",
          "text": [
            "epoch      trn_loss   val_loss   accuracy   \n",
            "    0      3.032472   2.802231   0.463573  \n",
            "    1      2.793696   2.632806   0.480988  \n",
            "    2      2.639142   2.546354   0.491467  \n",
            "    3      2.529529   2.504809   0.496881  \n",
            "    4      2.439984   2.489595   0.499179  \n",
            "    5      2.387289   2.472379   0.500644  \n",
            "    6      2.307155   2.476486   0.501471  \n",
            "    7      2.284475   2.469301   0.503189  \n",
            "    8      2.219733   2.472475   0.504558  \n",
            "    9      2.166604   2.479343   0.504742  \n",
            "    10     2.158885   2.478412   0.504892  \n",
            "    11     2.097067   2.494201   0.504092  \n",
            "    12     2.090478   2.49877    0.504563  \n",
            "    13     2.03172    2.507541   0.504425  \n",
            "    14     2.021747   2.513914   0.504872  \n",
            "    15     2.003465   2.51612    0.505425  \n",
            "    16     2.006951   2.508142   0.506484  \n",
            "    17     1.986801   2.521857   0.505448  \n",
            "    18     1.954179   2.527866   0.505254  \n",
            "    19     1.985874   2.527635   0.50583   \n",
            "\n"
          ],
          "name": "stdout"
        },
        {
          "output_type": "execute_result",
          "data": {
            "text/plain": [
              "[array([2.52763]), 0.5058301728795952]"
            ]
          },
          "metadata": {
            "tags": []
          },
          "execution_count": 53
        }
      ]
    },
    {
      "metadata": {
        "id": "5ln8AYxaJy8U",
        "colab_type": "text"
      },
      "cell_type": "markdown",
      "source": [
        "We save the trained model weights and separately save the encoder part of the LM model as well. This will serve as our backbone in the classification task model."
      ]
    },
    {
      "metadata": {
        "id": "0IRwrMPWJy8W",
        "colab_type": "code",
        "colab": {}
      },
      "cell_type": "code",
      "source": [
        "learner.save('lm1')"
      ],
      "execution_count": 0,
      "outputs": []
    },
    {
      "metadata": {
        "id": "-wSQGtmdJy8Y",
        "colab_type": "code",
        "colab": {}
      },
      "cell_type": "code",
      "source": [
        "learner.save_encoder('lm1_enc')"
      ],
      "execution_count": 0,
      "outputs": []
    },
    {
      "metadata": {
        "id": "0kpGz9nTJy8b",
        "colab_type": "code",
        "colab": {
          "base_uri": "https://localhost:8080/",
          "height": 347
        },
        "outputId": "d925aada-925e-48f0-c64f-243900bba637"
      },
      "cell_type": "code",
      "source": [
        "learner.sched.plot_loss()"
      ],
      "execution_count": 56,
      "outputs": [
        {
          "output_type": "display_data",
          "data": {
            "image/png": "[encoded data removed]",
            "text/plain": [
              "<Figure size 576x396 with 1 Axes>"
            ]
          },
          "metadata": {
            "tags": []
          }
        }
      ]
    },
    {
      "metadata": {
        "id": "jRC0FFn4Jy8e",
        "colab_type": "text"
      },
      "cell_type": "markdown",
      "source": [
        "## Classifier tokens"
      ]
    },
    {
      "metadata": {
        "id": "uKHwbzbeJy8g",
        "colab_type": "text"
      },
      "cell_type": "markdown",
      "source": [
        "The classifier model is basically a linear layer custom head on top of the LM backbone. Setting up the classifier data is similar to the LM data setup except that we cannot use the unsup movie reviews this time."
      ]
    },
    {
      "metadata": {
        "id": "kBQXygIdJy8h",
        "colab_type": "code",
        "colab": {}
      },
      "cell_type": "code",
      "source": [
        "df_trn = pd.read_csv(CLAS_PATH/'train.csv', header=None, chunksize=chunksize)\n",
        "df_val = pd.read_csv(CLAS_PATH/'test.csv', header=None, chunksize=chunksize)"
      ],
      "execution_count": 0,
      "outputs": []
    },
    {
      "metadata": {
        "id": "QCcqKqk3Jy8k",
        "colab_type": "code",
        "colab": {
          "base_uri": "https://localhost:8080/",
          "height": 51
        },
        "outputId": "a43b477e-62d9-4e7e-9f86-fd53da663265"
      },
      "cell_type": "code",
      "source": [
        "tok_trn, trn_labels = get_all(df_trn, 1)\n",
        "tok_val, val_labels = get_all(df_val, 1)"
      ],
      "execution_count": 58,
      "outputs": [
        {
          "output_type": "stream",
          "text": [
            "0\n",
            "0\n"
          ],
          "name": "stdout"
        }
      ]
    },
    {
      "metadata": {
        "id": "nEh8rzmWpDVJ",
        "colab_type": "code",
        "colab": {}
      },
      "cell_type": "code",
      "source": [
        "unlabeled_train = pd.read_csv(CLAS_PATH/'unlabeled_train.csv', header=None, chunksize=chunksize)"
      ],
      "execution_count": 0,
      "outputs": []
    },
    {
      "metadata": {
        "id": "yn1QAbNBK_b5",
        "colab_type": "code",
        "colab": {}
      },
      "cell_type": "code",
      "source": [
        "def get_texts_b(df, n_lbls=0):\n",
        "    texts = f'\\n{BOS} {FLD} 1 ' + df[n_lbls]\n",
        "    for i in range(n_lbls+1, len(df.columns)): texts += f' {FLD} {i-n_lbls} ' + df[i].astype(str)\n",
        "    texts = list(texts.apply(fixup).values)\n",
        "    tok = Tokenizer().proc_all_mp(partition_by_cores(texts))\n",
        "    return tok\n",
        "\n",
        "def get_all_b(df, n_lbls):\n",
        "    tok = []\n",
        "    for i, r in enumerate(df):\n",
        "        tok_ = get_texts_b(r, n_lbls)\n",
        "        tok += tok_;\n",
        "        print(len(tok))\n",
        "    return tok"
      ],
      "execution_count": 0,
      "outputs": []
    },
    {
      "metadata": {
        "id": "9hjMUPLI7PZ6",
        "colab_type": "code",
        "colab": {
          "base_uri": "https://localhost:8080/",
          "height": 85
        },
        "outputId": "64c26cd0-3342-4740-af30-82e8817aab52"
      },
      "cell_type": "code",
      "source": [
        "tok_test = get_all_b(unlabeled_train,0)"
      ],
      "execution_count": 61,
      "outputs": [
        {
          "output_type": "stream",
          "text": [
            "24000\n",
            "48000\n",
            "72000\n",
            "72324\n"
          ],
          "name": "stdout"
        }
      ]
    },
    {
      "metadata": {
        "id": "3gImJDFvJy8p",
        "colab_type": "code",
        "colab": {}
      },
      "cell_type": "code",
      "source": [
        "(CLAS_PATH/'tmp').mkdir(exist_ok=True)\n",
        "\n",
        "np.save(CLAS_PATH/'tmp'/'tok_trn.npy', tok_trn)\n",
        "np.save(CLAS_PATH/'tmp'/'tok_val.npy', tok_val)\n",
        "np.save(CLAS_PATH/'tmp'/'tok_test.npy', tok_test)\n",
        "\n",
        "np.save(CLAS_PATH/'tmp'/'trn_labels.npy', trn_labels)\n",
        "np.save(CLAS_PATH/'tmp'/'val_labels.npy', val_labels)"
      ],
      "execution_count": 0,
      "outputs": []
    },
    {
      "metadata": {
        "id": "Qb4NH4dnJy8s",
        "colab_type": "code",
        "colab": {}
      },
      "cell_type": "code",
      "source": [
        "tok_trn = np.load(CLAS_PATH/'tmp'/'tok_trn.npy')\n",
        "tok_val = np.load(CLAS_PATH/'tmp'/'tok_val.npy')\n",
        "tok_test = np.load(CLAS_PATH/'tmp'/'tok_test.npy')"
      ],
      "execution_count": 0,
      "outputs": []
    },
    {
      "metadata": {
        "id": "_3SFnSJ2Jy8u",
        "colab_type": "code",
        "colab": {
          "base_uri": "https://localhost:8080/",
          "height": 34
        },
        "outputId": "45c88b04-9cca-45bb-9ca8-e9837562978a"
      },
      "cell_type": "code",
      "source": [
        "itos = pickle.load((LM_PATH/'tmp'/'itos.pkl').open('rb'))\n",
        "stoi = collections.defaultdict(lambda:0, {v:k for k,v in enumerate(itos)})\n",
        "len(itos)"
      ],
      "execution_count": 64,
      "outputs": [
        {
          "output_type": "execute_result",
          "data": {
            "text/plain": [
              "8639"
            ]
          },
          "metadata": {
            "tags": []
          },
          "execution_count": 64
        }
      ]
    },
    {
      "metadata": {
        "id": "S6Qls6ovJy8z",
        "colab_type": "code",
        "colab": {}
      },
      "cell_type": "code",
      "source": [
        "trn_clas = np.array([[stoi[o] for o in p] for p in tok_trn])\n",
        "val_clas = np.array([[stoi[o] for o in p] for p in tok_val])\n",
        "test_clas = np.array([[stoi[o] for o in p] for p in tok_test])"
      ],
      "execution_count": 0,
      "outputs": []
    },
    {
      "metadata": {
        "id": "WgNITZAgJy81",
        "colab_type": "code",
        "colab": {}
      },
      "cell_type": "code",
      "source": [
        "np.save(CLAS_PATH/'tmp'/'trn_ids.npy', trn_clas)\n",
        "np.save(CLAS_PATH/'tmp'/'val_ids.npy', val_clas)\n",
        "np.save(CLAS_PATH/'tmp'/'test_ids.npy', test_clas)"
      ],
      "execution_count": 0,
      "outputs": []
    },
    {
      "metadata": {
        "id": "p9w9Rv3fJy83",
        "colab_type": "text"
      },
      "cell_type": "markdown",
      "source": [
        "## Classifier"
      ]
    },
    {
      "metadata": {
        "id": "vHnpS6eAJy84",
        "colab_type": "text"
      },
      "cell_type": "markdown",
      "source": [
        "Now we can create our final model, a classifier which is really a custom linear head over our trained IMDB backbone. The steps to create the classifier model are similar to the ones for the LM."
      ]
    },
    {
      "metadata": {
        "id": "w5bKlImVJy84",
        "colab_type": "code",
        "colab": {}
      },
      "cell_type": "code",
      "source": [
        "trn_clas = np.load(CLAS_PATH/'tmp'/'trn_ids.npy')\n",
        "val_clas = np.load(CLAS_PATH/'tmp'/'val_ids.npy')\n",
        "test_clas = np.load(CLAS_PATH/'tmp'/'test_ids.npy')"
      ],
      "execution_count": 0,
      "outputs": []
    },
    {
      "metadata": {
        "id": "fbEOBTWCJy88",
        "colab_type": "code",
        "colab": {}
      },
      "cell_type": "code",
      "source": [
        "trn_labels = np.squeeze(np.load(CLAS_PATH/'tmp'/'trn_labels.npy'))\n",
        "val_labels = np.squeeze(np.load(CLAS_PATH/'tmp'/'val_labels.npy'))"
      ],
      "execution_count": 0,
      "outputs": []
    },
    {
      "metadata": {
        "id": "bUe-mduxnq2k",
        "colab_type": "code",
        "colab": {
          "base_uri": "https://localhost:8080/",
          "height": 34
        },
        "outputId": "5dff1afb-84ed-4abe-c448-cf30ae8b5e2b"
      },
      "cell_type": "code",
      "source": [
        "test_clas.shape"
      ],
      "execution_count": 69,
      "outputs": [
        {
          "output_type": "execute_result",
          "data": {
            "text/plain": [
              "(72324,)"
            ]
          },
          "metadata": {
            "tags": []
          },
          "execution_count": 69
        }
      ]
    },
    {
      "metadata": {
        "id": "AINlKaGWr0_q",
        "colab_type": "code",
        "colab": {}
      },
      "cell_type": "code",
      "source": [
        "test_labels = np.zeros(test_clas.shape)"
      ],
      "execution_count": 0,
      "outputs": []
    },
    {
      "metadata": {
        "id": "yJ6vnLhIJy8-",
        "colab_type": "code",
        "colab": {}
      },
      "cell_type": "code",
      "source": [
        "bptt,em_sz,nh,nl = 70,400,1150,3\n",
        "vs = len(itos)\n",
        "opt_fn = partial(optim.Adam, betas=(0.8, 0.99))\n",
        "bs = 48"
      ],
      "execution_count": 0,
      "outputs": []
    },
    {
      "metadata": {
        "id": "IMZOEShxJy9A",
        "colab_type": "code",
        "colab": {}
      },
      "cell_type": "code",
      "source": [
        "min_lbl = trn_labels.min()\n",
        "trn_labels -= min_lbl\n",
        "val_labels -= min_lbl\n",
        "c=int(trn_labels.max())+1"
      ],
      "execution_count": 0,
      "outputs": []
    },
    {
      "metadata": {
        "id": "1nzj10UMJy9B",
        "colab_type": "text"
      },
      "cell_type": "markdown",
      "source": [
        "In the classifier, unlike LM, we need to read a movie review at a time and learn to predict the it's sentiment as pos/neg. We do not deal with equal bptt size batches, so we have to pad the sequences to the same length in each batch. To create batches of similar sized movie reviews, we use a sortish sampler method invented by [@Smerity](https://twitter.com/Smerity) and [@jekbradbury](https://twitter.com/jekbradbury)\n",
        "\n",
        "The sortishSampler cuts down the overall number of padding tokens the classifier ends up seeing."
      ]
    },
    {
      "metadata": {
        "id": "XuiY_qFvNmjR",
        "colab_type": "code",
        "colab": {}
      },
      "cell_type": "code",
      "source": [
        "test_ds = TextDataset(test_clas, test_labels)\n",
        "test_dl = DataLoader(test_ds, bs, transpose=True, num_workers=1, pad_idx=1)"
      ],
      "execution_count": 0,
      "outputs": []
    },
    {
      "metadata": {
        "id": "jLFQPT_6Jy9H",
        "colab_type": "code",
        "colab": {}
      },
      "cell_type": "code",
      "source": [
        "trn_ds = TextDataset(trn_clas, trn_labels)\n",
        "val_ds = TextDataset(val_clas, val_labels)\n",
        "trn_dl = DataLoader(trn_ds, bs//2, transpose=True, num_workers=1, pad_idx=1)\n",
        "val_dl = DataLoader(val_ds, bs, transpose=True, num_workers=1, pad_idx=1)"
      ],
      "execution_count": 0,
      "outputs": []
    },
    {
      "metadata": {
        "id": "rLNJAUVdg0oB",
        "colab_type": "code",
        "colab": {
          "base_uri": "https://localhost:8080/",
          "height": 34
        },
        "outputId": "2e0c994a-c643-4b0e-8b2c-7a8b9ac305c9"
      },
      "cell_type": "code",
      "source": [
        "test_ds"
      ],
      "execution_count": 75,
      "outputs": [
        {
          "output_type": "execute_result",
          "data": {
            "text/plain": [
              "<fastai.text.TextDataset at 0x7f5f54fc9780>"
            ]
          },
          "metadata": {
            "tags": []
          },
          "execution_count": 75
        }
      ]
    },
    {
      "metadata": {
        "id": "yBl-_jUBgexq",
        "colab_type": "code",
        "colab": {}
      },
      "cell_type": "code",
      "source": [
        "## ModelData??"
      ],
      "execution_count": 0,
      "outputs": []
    },
    {
      "metadata": {
        "id": "sqAzgZh9OaKv",
        "colab_type": "code",
        "colab": {}
      },
      "cell_type": "code",
      "source": [
        "md = ModelData(PATH, trn_dl, val_dl,test_dl)"
      ],
      "execution_count": 0,
      "outputs": []
    },
    {
      "metadata": {
        "id": "ZC0NPjiRJy9P",
        "colab_type": "code",
        "colab": {}
      },
      "cell_type": "code",
      "source": [
        "# part 1\n",
        "dps = np.array([0.4, 0.5, 0.05, 0.3, 0.1])"
      ],
      "execution_count": 0,
      "outputs": []
    },
    {
      "metadata": {
        "id": "_vipjDOcJy9T",
        "colab_type": "code",
        "colab": {}
      },
      "cell_type": "code",
      "source": [
        "dps = np.array([0.4,0.5,0.05,0.3,0.4])*0.75"
      ],
      "execution_count": 0,
      "outputs": []
    },
    {
      "metadata": {
        "id": "nbWk95LrJy9h",
        "colab_type": "code",
        "colab": {}
      },
      "cell_type": "code",
      "source": [
        "m = get_rnn_classifer(bptt, 20*70, c, vs, emb_sz=em_sz, n_hid=nh, n_layers=nl, pad_token=1,\n",
        "          layers=[3*em_sz, 50, c], drops=[dps[4], 0.1],\n",
        "          dropouti=dps[0], wdrop=dps[1], dropoute=dps[2], dropouth=dps[3])"
      ],
      "execution_count": 0,
      "outputs": []
    },
    {
      "metadata": {
        "id": "CQX4ED2tJy9m",
        "colab_type": "code",
        "colab": {}
      },
      "cell_type": "code",
      "source": [
        "opt_fn = partial(optim.Adam, betas=(0.7, 0.99))"
      ],
      "execution_count": 0,
      "outputs": []
    },
    {
      "metadata": {
        "id": "VBGSAlbpJy9q",
        "colab_type": "code",
        "colab": {}
      },
      "cell_type": "code",
      "source": [
        "learn = RNN_Learner(md, TextModel(to_gpu(m)), opt_fn=opt_fn)\n",
        "learn.reg_fn = partial(seq2seq_reg, alpha=2, beta=1)\n",
        "learn.clip=.25\n",
        "learn.metrics = [accuracy]"
      ],
      "execution_count": 0,
      "outputs": []
    },
    {
      "metadata": {
        "id": "hrJuT_WwJy9u",
        "colab_type": "code",
        "colab": {}
      },
      "cell_type": "code",
      "source": [
        "lr=3e-3\n",
        "lrm = 2.6\n",
        "lrs = np.array([lr/(lrm**4), lr/(lrm**3), lr/(lrm**2), lr/lrm, lr])"
      ],
      "execution_count": 0,
      "outputs": []
    },
    {
      "metadata": {
        "id": "ZPe9WNHvJy9x",
        "colab_type": "code",
        "colab": {}
      },
      "cell_type": "code",
      "source": [
        "lrs=np.array([1e-4,1e-4,1e-4,1e-3,1e-2])"
      ],
      "execution_count": 0,
      "outputs": []
    },
    {
      "metadata": {
        "id": "roG7Yw1sJy-I",
        "colab_type": "code",
        "colab": {}
      },
      "cell_type": "code",
      "source": [
        "wd = 1e-7\n",
        "wd = 0\n",
        "learn.load_encoder('lm1_enc')"
      ],
      "execution_count": 0,
      "outputs": []
    },
    {
      "metadata": {
        "id": "ouc4ipYTJy-Q",
        "colab_type": "code",
        "colab": {}
      },
      "cell_type": "code",
      "source": [
        "learn.freeze_to(-1)"
      ],
      "execution_count": 0,
      "outputs": []
    },
    {
      "metadata": {
        "id": "c84-00r_Jy-U",
        "colab_type": "code",
        "colab": {
          "base_uri": "https://localhost:8080/",
          "height": 399
        },
        "outputId": "422b3496-95aa-4e9d-d7db-2ea4e196a7bf"
      },
      "cell_type": "code",
      "source": [
        "learn.lr_find(lrs/1000)\n",
        "learn.sched.plot()"
      ],
      "execution_count": 87,
      "outputs": [
        {
          "output_type": "display_data",
          "data": {
            "application/vnd.jupyter.widget-view+json": {
              "model_id": "fecc61f16a6c46e2ad1e182644eac63f",
              "version_minor": 0,
              "version_major": 2
            },
            "text/plain": [
              "HBox(children=(IntProgress(value=0, description='Epoch', max=1, style=ProgressStyle(description_width='initial…"
            ]
          },
          "metadata": {
            "tags": []
          }
        },
        {
          "output_type": "stream",
          "text": [
            " 82%|████████▏ | 290/352 [00:23<00:05, 12.31it/s, loss=2.33]"
          ],
          "name": "stdout"
        },
        {
          "output_type": "display_data",
          "data": {
            "image/png": "[encoded data removed]",
            "text/plain": [
              "<Figure size 576x396 with 1 Axes>"
            ]
          },
          "metadata": {
            "tags": []
          }
        }
      ]
    },
    {
      "metadata": {
        "id": "I5oP-9euJy-a",
        "colab_type": "code",
        "colab": {
          "base_uri": "https://localhost:8080/",
          "height": 85
        },
        "outputId": "4a26ec09-e4e8-48fc-bb85-3bfa6cbb93e2"
      },
      "cell_type": "code",
      "source": [
        "learn.fit(lrs, 1, wds=wd, cycle_len=1, use_clr=(10,3))"
      ],
      "execution_count": 88,
      "outputs": [
        {
          "output_type": "display_data",
          "data": {
            "application/vnd.jupyter.widget-view+json": {
              "model_id": "d0b807af8e26410db4ca08a6e68714bc",
              "version_minor": 0,
              "version_major": 2
            },
            "text/plain": [
              "HBox(children=(IntProgress(value=0, description='Epoch', max=1, style=ProgressStyle(description_width='initial…"
            ]
          },
          "metadata": {
            "tags": []
          }
        },
        {
          "output_type": "stream",
          "text": [
            "epoch      trn_loss   val_loss   accuracy   \n",
            "    0      0.439454   0.309068   0.874049  \n"
          ],
          "name": "stdout"
        },
        {
          "output_type": "execute_result",
          "data": {
            "text/plain": [
              "[array([0.30907]), 0.8740491030292062]"
            ]
          },
          "metadata": {
            "tags": []
          },
          "execution_count": 88
        }
      ]
    },
    {
      "metadata": {
        "id": "CuhmrZi3wp6Y",
        "colab_type": "code",
        "colab": {}
      },
      "cell_type": "code",
      "source": [
        "learn.save('clas_0')"
      ],
      "execution_count": 0,
      "outputs": []
    },
    {
      "metadata": {
        "id": "irAFQXWGJy-o",
        "colab_type": "code",
        "colab": {}
      },
      "cell_type": "code",
      "source": [
        "learn.load('clas_0')"
      ],
      "execution_count": 0,
      "outputs": []
    },
    {
      "metadata": {
        "id": "L21jU_mrJy--",
        "colab_type": "code",
        "colab": {}
      },
      "cell_type": "code",
      "source": [
        "learn.freeze_to(-2)"
      ],
      "execution_count": 0,
      "outputs": []
    },
    {
      "metadata": {
        "id": "gPRLEoa3Jy_C",
        "colab_type": "code",
        "colab": {
          "base_uri": "https://localhost:8080/",
          "height": 85
        },
        "outputId": "796bd115-2d89-42ca-a771-cb9b7b26ebb8"
      },
      "cell_type": "code",
      "source": [
        "learn.fit(lrs, 1, wds=wd, cycle_len=1, use_clr=(8,3))"
      ],
      "execution_count": 92,
      "outputs": [
        {
          "output_type": "display_data",
          "data": {
            "application/vnd.jupyter.widget-view+json": {
              "model_id": "45076c1822f444569879eeafa3210fa6",
              "version_minor": 0,
              "version_major": 2
            },
            "text/plain": [
              "HBox(children=(IntProgress(value=0, description='Epoch', max=1, style=ProgressStyle(description_width='initial…"
            ]
          },
          "metadata": {
            "tags": []
          }
        },
        {
          "output_type": "stream",
          "text": [
            "epoch      trn_loss   val_loss   accuracy   \n",
            "    0      0.355309   0.236948   0.906591  \n"
          ],
          "name": "stdout"
        },
        {
          "output_type": "execute_result",
          "data": {
            "text/plain": [
              "[array([0.23695]), 0.9065909820143777]"
            ]
          },
          "metadata": {
            "tags": []
          },
          "execution_count": 92
        }
      ]
    },
    {
      "metadata": {
        "id": "wjx2IWemJy_K",
        "colab_type": "code",
        "colab": {}
      },
      "cell_type": "code",
      "source": [
        "learn.save('clas_1')"
      ],
      "execution_count": 0,
      "outputs": []
    },
    {
      "metadata": {
        "id": "J2CCnmO0Jy_P",
        "colab_type": "code",
        "colab": {}
      },
      "cell_type": "code",
      "source": [
        "learn.load('clas_1')"
      ],
      "execution_count": 0,
      "outputs": []
    },
    {
      "metadata": {
        "id": "UlN3YMAKJy_T",
        "colab_type": "code",
        "colab": {}
      },
      "cell_type": "code",
      "source": [
        "learn.unfreeze()"
      ],
      "execution_count": 0,
      "outputs": []
    },
    {
      "metadata": {
        "id": "H7uasgh3Jy_Z",
        "colab_type": "code",
        "colab": {
          "base_uri": "https://localhost:8080/",
          "height": 323
        },
        "outputId": "42c37935-3c38-4f7b-f83b-39ecbe665805"
      },
      "cell_type": "code",
      "source": [
        "learn.fit(lrs, 1, wds=wd, cycle_len=15, use_clr=(32,10),best_save_name = 'best_model')  "
      ],
      "execution_count": 96,
      "outputs": [
        {
          "output_type": "display_data",
          "data": {
            "application/vnd.jupyter.widget-view+json": {
              "model_id": "8625b6e7732340e48f9cd10d81359f55",
              "version_minor": 0,
              "version_major": 2
            },
            "text/plain": [
              "HBox(children=(IntProgress(value=0, description='Epoch', max=15, style=ProgressStyle(description_width='initia…"
            ]
          },
          "metadata": {
            "tags": []
          }
        },
        {
          "output_type": "stream",
          "text": [
            "epoch      trn_loss   val_loss   accuracy   \n",
            "    0      0.335248   0.220298   0.916724  \n",
            "    1      0.304825   0.222616   0.92144   \n",
            "    2      0.281923   0.205843   0.925484  \n",
            "    3      0.246203   0.200383   0.928606  \n",
            "    4      0.22862    0.222511   0.923246  \n",
            "    5      0.213735   0.241945   0.917608  \n",
            "    6      0.202962   0.247996   0.91829   \n",
            "    7      0.188694   0.25206    0.923851  \n",
            "    8      0.18641    0.280032   0.924668  \n",
            "    9      0.168273   0.283486   0.923188  \n",
            "    10     0.16639    0.353261   0.917522  \n",
            "    11     0.13765    0.357622   0.921575  \n",
            "    12     0.139751   0.349432   0.922622  \n",
            "    13     0.133094   0.360077   0.923525  \n",
            "    14     0.129736   0.349242   0.926377  \n"
          ],
          "name": "stdout"
        },
        {
          "output_type": "execute_result",
          "data": {
            "text/plain": [
              "[array([0.34924]), 0.926377363362143]"
            ]
          },
          "metadata": {
            "tags": []
          },
          "execution_count": 96
        }
      ]
    },
    {
      "metadata": {
        "id": "9tIoSEnwsMot",
        "colab_type": "code",
        "colab": {
          "base_uri": "https://localhost:8080/",
          "height": 68
        },
        "outputId": "9c44b1ad-f5b2-45ae-840a-122d01b64f03"
      },
      "cell_type": "code",
      "source": [
        "ls"
      ],
      "execution_count": 97,
      "outputs": [
        {
          "output_type": "stream",
          "text": [
            "clean_data.csv  losses.npy     test.csv         unlabeled_train2.csv\n",
            "\u001b[0m\u001b[01;34mdata\u001b[0m/           loss_plot.png  test_data.csv    valid_data.csv\n",
            "eval3.pt        \u001b[01;34msample_data\u001b[0m/   train_data2.csv\n"
          ],
          "name": "stdout"
        }
      ]
    },
    {
      "metadata": {
        "id": "trCm45sjSwSO",
        "colab_type": "code",
        "colab": {}
      },
      "cell_type": "code",
      "source": [
        "check_preds = learn.predict()\n",
        "m = nn.Softmax()\n",
        "input = Variable(torch.from_numpy(check_preds))\n",
        "probs=m(input)"
      ],
      "execution_count": 0,
      "outputs": []
    },
    {
      "metadata": {
        "id": "BIR7bC8SoeqT",
        "colab_type": "code",
        "colab": {}
      },
      "cell_type": "code",
      "source": [
        "probs = probs.data.cpu().numpy()"
      ],
      "execution_count": 0,
      "outputs": []
    },
    {
      "metadata": {
        "id": "U2LVsXyeoju_",
        "colab_type": "code",
        "colab": {
          "base_uri": "https://localhost:8080/",
          "height": 34
        },
        "outputId": "9eb5b55e-2f8e-48ea-90c8-f383f6044ffc"
      },
      "cell_type": "code",
      "source": [
        "probs.shape"
      ],
      "execution_count": 100,
      "outputs": [
        {
          "output_type": "execute_result",
          "data": {
            "text/plain": [
              "(2112, 2)"
            ]
          },
          "metadata": {
            "tags": []
          },
          "execution_count": 100
        }
      ]
    },
    {
      "metadata": {
        "id": "zULjnOKQo3QA",
        "colab_type": "code",
        "colab": {
          "base_uri": "https://localhost:8080/",
          "height": 34
        },
        "outputId": "693e0403-ebe8-46a6-c36e-a97fb60e23e2"
      },
      "cell_type": "code",
      "source": [
        "probs.dtype"
      ],
      "execution_count": 101,
      "outputs": [
        {
          "output_type": "execute_result",
          "data": {
            "text/plain": [
              "dtype('float32')"
            ]
          },
          "metadata": {
            "tags": []
          },
          "execution_count": 101
        }
      ]
    },
    {
      "metadata": {
        "id": "tn2Y7M6RrOPM",
        "colab_type": "code",
        "colab": {
          "base_uri": "https://localhost:8080/",
          "height": 34
        },
        "outputId": "925b02ca-5a46-4baa-8fc2-b28ede56e13c"
      },
      "cell_type": "code",
      "source": [
        "predictions = np.argmax(probs,axis=1)\n",
        "from sklearn.metrics import accuracy_score,roc_auc_score,f1_score\n",
        "accuracy_score(predictions,md.val_y)"
      ],
      "execution_count": 102,
      "outputs": [
        {
          "output_type": "execute_result",
          "data": {
            "text/plain": [
              "0.9237689393939394"
            ]
          },
          "metadata": {
            "tags": []
          },
          "execution_count": 102
        }
      ]
    },
    {
      "metadata": {
        "id": "2pkr0OR7rRgL",
        "colab_type": "code",
        "colab": {
          "base_uri": "https://localhost:8080/",
          "height": 34
        },
        "outputId": "5a2f7d7d-9e48-42a1-f924-2d7c14168c89"
      },
      "cell_type": "code",
      "source": [
        "roc_auc_score(predictions,md.val_y)"
      ],
      "execution_count": 103,
      "outputs": [
        {
          "output_type": "execute_result",
          "data": {
            "text/plain": [
              "0.9235102058467394"
            ]
          },
          "metadata": {
            "tags": []
          },
          "execution_count": 103
        }
      ]
    },
    {
      "metadata": {
        "id": "Jb7bkYBKrUoM",
        "colab_type": "code",
        "colab": {
          "base_uri": "https://localhost:8080/",
          "height": 34
        },
        "outputId": "14ea15a3-19be-4a98-b2f0-2001b5dc7333"
      },
      "cell_type": "code",
      "source": [
        "f1_score(predictions,md.val_y)"
      ],
      "execution_count": 104,
      "outputs": [
        {
          "output_type": "execute_result",
          "data": {
            "text/plain": [
              "0.9285397248113626"
            ]
          },
          "metadata": {
            "tags": []
          },
          "execution_count": 104
        }
      ]
    },
    {
      "metadata": {
        "id": "XA4B8LcSpD0T",
        "colab_type": "code",
        "colab": {}
      },
      "cell_type": "code",
      "source": [
        "df = pd.DataFrame({'no': probs[:,0],\n",
        "                   'yes': probs[:,1]})"
      ],
      "execution_count": 0,
      "outputs": []
    },
    {
      "metadata": {
        "id": "QSHiWSZupNuA",
        "colab_type": "code",
        "colab": {}
      },
      "cell_type": "code",
      "source": [
        "from google.colab import files\n",
        "df.to_csv(PATH/'predictions.csv')\n",
        "files.download(PATH/'predictions.csv')"
      ],
      "execution_count": 0,
      "outputs": []
    },
    {
      "metadata": {
        "id": "RzMUVOnVFMWN",
        "colab_type": "code",
        "colab": {}
      },
      "cell_type": "code",
      "source": [
        "check_preds = learn.predict(is_test=True)\n",
        "m = nn.Softmax()\n",
        "input = Variable(torch.from_numpy(check_preds))\n",
        "probs=m(input)"
      ],
      "execution_count": 0,
      "outputs": []
    },
    {
      "metadata": {
        "id": "66fYg1Z61sQs",
        "colab_type": "code",
        "colab": {}
      },
      "cell_type": "code",
      "source": [
        "probs = probs.data.cpu().numpy()"
      ],
      "execution_count": 0,
      "outputs": []
    },
    {
      "metadata": {
        "id": "dJWXLRfeXWX0",
        "colab_type": "code",
        "colab": {
          "base_uri": "https://localhost:8080/",
          "height": 34
        },
        "outputId": "9839ac03-4578-4ea1-8f5a-4b10af60f0e3"
      },
      "cell_type": "code",
      "source": [
        "probs.shape"
      ],
      "execution_count": 110,
      "outputs": [
        {
          "output_type": "execute_result",
          "data": {
            "text/plain": [
              "(72324, 2)"
            ]
          },
          "metadata": {
            "tags": []
          },
          "execution_count": 110
        }
      ]
    },
    {
      "metadata": {
        "id": "Qm-UlE8HRtcO",
        "colab_type": "code",
        "colab": {}
      },
      "cell_type": "code",
      "source": [
        "pred_no = np.where(probs[:,0]>0.95)[0]\n",
        "pred_yes = np.where(probs[:,1]>0.95)[0]"
      ],
      "execution_count": 0,
      "outputs": []
    },
    {
      "metadata": {
        "id": "gPMkz3hXJ0UD",
        "colab_type": "code",
        "colab": {
          "base_uri": "https://localhost:8080/",
          "height": 34
        },
        "outputId": "5e898b47-f87d-4092-8ba8-8619f148fc56"
      },
      "cell_type": "code",
      "source": [
        "pred_no"
      ],
      "execution_count": 112,
      "outputs": [
        {
          "output_type": "execute_result",
          "data": {
            "text/plain": [
              "array([    1,     2,     3, ..., 72316, 72321, 72323])"
            ]
          },
          "metadata": {
            "tags": []
          },
          "execution_count": 112
        }
      ]
    },
    {
      "metadata": {
        "id": "9FaDWzjNNgN9",
        "colab_type": "code",
        "colab": {
          "base_uri": "https://localhost:8080/",
          "height": 68
        },
        "outputId": "8a84ebe5-83ea-4d97-8f5c-741336c5b4a6"
      },
      "cell_type": "code",
      "source": [
        "ls"
      ],
      "execution_count": 113,
      "outputs": [
        {
          "output_type": "stream",
          "text": [
            "clean_data.csv  losses.npy     test.csv         unlabeled_train2.csv\n",
            "\u001b[0m\u001b[01;34mdata\u001b[0m/           loss_plot.png  test_data.csv    valid_data.csv\n",
            "eval3.pt        \u001b[01;34msample_data\u001b[0m/   train_data2.csv\n"
          ],
          "name": "stdout"
        }
      ]
    },
    {
      "metadata": {
        "id": "CltNAN-iWqOo",
        "colab_type": "code",
        "colab": {}
      },
      "cell_type": "code",
      "source": [
        "add_train = pd.read_csv(CLAS_PATH/'unlabeled_train.csv',sep=',',names = [\"moment\"])"
      ],
      "execution_count": 0,
      "outputs": []
    },
    {
      "metadata": {
        "id": "B43F8YbuXFGz",
        "colab_type": "code",
        "colab": {
          "base_uri": "https://localhost:8080/",
          "height": 359
        },
        "outputId": "464a2f43-8a0d-48ce-abc3-bb17031755bb"
      },
      "cell_type": "code",
      "source": [
        "add_train.head(10)"
      ],
      "execution_count": 115,
      "outputs": [
        {
          "output_type": "execute_result",
          "data": {
            "text/html": [
              "<div>\n",
              "<style scoped>\n",
              "    .dataframe tbody tr th:only-of-type {\n",
              "        vertical-align: middle;\n",
              "    }\n",
              "\n",
              "    .dataframe tbody tr th {\n",
              "        vertical-align: top;\n",
              "    }\n",
              "\n",
              "    .dataframe thead th {\n",
              "        text-align: right;\n",
              "    }\n",
              "</style>\n",
              "<table border=\"1\" class=\"dataframe\">\n",
              "  <thead>\n",
              "    <tr style=\"text-align: right;\">\n",
              "      <th></th>\n",
              "      <th>moment</th>\n",
              "    </tr>\n",
              "  </thead>\n",
              "  <tbody>\n",
              "    <tr>\n",
              "      <th>0</th>\n",
              "      <td>I went on a successful date with someone I fel...</td>\n",
              "    </tr>\n",
              "    <tr>\n",
              "      <th>1</th>\n",
              "      <td>I went to the gym this morning and did yoga.</td>\n",
              "    </tr>\n",
              "    <tr>\n",
              "      <th>2</th>\n",
              "      <td>I meditated last night.</td>\n",
              "    </tr>\n",
              "    <tr>\n",
              "      <th>3</th>\n",
              "      <td>I made a new recipe for peasant bread, and it ...</td>\n",
              "    </tr>\n",
              "    <tr>\n",
              "      <th>4</th>\n",
              "      <td>I got gift from my elder brother which was rea...</td>\n",
              "    </tr>\n",
              "    <tr>\n",
              "      <th>5</th>\n",
              "      <td>YESTERDAY MY MOMS BIRTHDAY SO I ENJOYED</td>\n",
              "    </tr>\n",
              "    <tr>\n",
              "      <th>6</th>\n",
              "      <td>Watching cupcake wars with my three teen children</td>\n",
              "    </tr>\n",
              "    <tr>\n",
              "      <th>7</th>\n",
              "      <td>I came in 3rd place in my Call of Duty video g...</td>\n",
              "    </tr>\n",
              "    <tr>\n",
              "      <th>8</th>\n",
              "      <td>I was shorting Gold and made $200 from the trade.</td>\n",
              "    </tr>\n",
              "    <tr>\n",
              "      <th>9</th>\n",
              "      <td>My son performed very well for a test preparat...</td>\n",
              "    </tr>\n",
              "  </tbody>\n",
              "</table>\n",
              "</div>"
            ],
            "text/plain": [
              "                                              moment\n",
              "0  I went on a successful date with someone I fel...\n",
              "1       I went to the gym this morning and did yoga.\n",
              "2                            I meditated last night.\n",
              "3  I made a new recipe for peasant bread, and it ...\n",
              "4  I got gift from my elder brother which was rea...\n",
              "5            YESTERDAY MY MOMS BIRTHDAY SO I ENJOYED\n",
              "6  Watching cupcake wars with my three teen children\n",
              "7  I came in 3rd place in my Call of Duty video g...\n",
              "8  I was shorting Gold and made $200 from the trade.\n",
              "9  My son performed very well for a test preparat..."
            ]
          },
          "metadata": {
            "tags": []
          },
          "execution_count": 115
        }
      ]
    },
    {
      "metadata": {
        "id": "D46hK2ieOlr-",
        "colab_type": "code",
        "colab": {
          "base_uri": "https://localhost:8080/",
          "height": 119
        },
        "outputId": "c492f5d3-4a1b-4f4d-86eb-21a3138b3285"
      },
      "cell_type": "code",
      "source": [
        "addon_yes = add_train.iloc[pred_yes]\n",
        "addon_yes['social'] = 1"
      ],
      "execution_count": 116,
      "outputs": [
        {
          "output_type": "stream",
          "text": [
            "/usr/local/lib/python3.6/dist-packages/ipykernel_launcher.py:2: SettingWithCopyWarning: \n",
            "A value is trying to be set on a copy of a slice from a DataFrame.\n",
            "Try using .loc[row_indexer,col_indexer] = value instead\n",
            "\n",
            "See the caveats in the documentation: http://pandas.pydata.org/pandas-docs/stable/indexing.html#indexing-view-versus-copy\n",
            "  \n"
          ],
          "name": "stderr"
        }
      ]
    },
    {
      "metadata": {
        "id": "5GQISEQpJ4ur",
        "colab_type": "code",
        "colab": {}
      },
      "cell_type": "code",
      "source": [
        "addon_yes.columns = ['text','labels']"
      ],
      "execution_count": 0,
      "outputs": []
    },
    {
      "metadata": {
        "id": "FBmOtRIWKY3E",
        "colab_type": "code",
        "colab": {
          "base_uri": "https://localhost:8080/",
          "height": 359
        },
        "outputId": "64d871e0-6c9e-4d61-a262-f770ad28edc2"
      },
      "cell_type": "code",
      "source": [
        "addon_yes.head(10)"
      ],
      "execution_count": 118,
      "outputs": [
        {
          "output_type": "execute_result",
          "data": {
            "text/html": [
              "<div>\n",
              "<style scoped>\n",
              "    .dataframe tbody tr th:only-of-type {\n",
              "        vertical-align: middle;\n",
              "    }\n",
              "\n",
              "    .dataframe tbody tr th {\n",
              "        vertical-align: top;\n",
              "    }\n",
              "\n",
              "    .dataframe thead th {\n",
              "        text-align: right;\n",
              "    }\n",
              "</style>\n",
              "<table border=\"1\" class=\"dataframe\">\n",
              "  <thead>\n",
              "    <tr style=\"text-align: right;\">\n",
              "      <th></th>\n",
              "      <th>text</th>\n",
              "      <th>labels</th>\n",
              "    </tr>\n",
              "  </thead>\n",
              "  <tbody>\n",
              "    <tr>\n",
              "      <th>0</th>\n",
              "      <td>I went on a successful date with someone I fel...</td>\n",
              "      <td>1</td>\n",
              "    </tr>\n",
              "    <tr>\n",
              "      <th>4</th>\n",
              "      <td>I got gift from my elder brother which was rea...</td>\n",
              "      <td>1</td>\n",
              "    </tr>\n",
              "    <tr>\n",
              "      <th>5</th>\n",
              "      <td>YESTERDAY MY MOMS BIRTHDAY SO I ENJOYED</td>\n",
              "      <td>1</td>\n",
              "    </tr>\n",
              "    <tr>\n",
              "      <th>6</th>\n",
              "      <td>Watching cupcake wars with my three teen children</td>\n",
              "      <td>1</td>\n",
              "    </tr>\n",
              "    <tr>\n",
              "      <th>9</th>\n",
              "      <td>My son performed very well for a test preparat...</td>\n",
              "      <td>1</td>\n",
              "    </tr>\n",
              "    <tr>\n",
              "      <th>10</th>\n",
              "      <td>I helped my neighbour to fix their car damages.</td>\n",
              "      <td>1</td>\n",
              "    </tr>\n",
              "    <tr>\n",
              "      <th>13</th>\n",
              "      <td>My grandmother start to walk from the bed afte...</td>\n",
              "      <td>1</td>\n",
              "    </tr>\n",
              "    <tr>\n",
              "      <th>15</th>\n",
              "      <td>I napped with my husband on the bed this after...</td>\n",
              "      <td>1</td>\n",
              "    </tr>\n",
              "    <tr>\n",
              "      <th>16</th>\n",
              "      <td>My co-woker started playing a Carley Rae Jepse...</td>\n",
              "      <td>1</td>\n",
              "    </tr>\n",
              "    <tr>\n",
              "      <th>17</th>\n",
              "      <td>After a long time my brother gave a suprise vi...</td>\n",
              "      <td>1</td>\n",
              "    </tr>\n",
              "  </tbody>\n",
              "</table>\n",
              "</div>"
            ],
            "text/plain": [
              "                                                 text  labels\n",
              "0   I went on a successful date with someone I fel...       1\n",
              "4   I got gift from my elder brother which was rea...       1\n",
              "5             YESTERDAY MY MOMS BIRTHDAY SO I ENJOYED       1\n",
              "6   Watching cupcake wars with my three teen children       1\n",
              "9   My son performed very well for a test preparat...       1\n",
              "10    I helped my neighbour to fix their car damages.       1\n",
              "13  My grandmother start to walk from the bed afte...       1\n",
              "15  I napped with my husband on the bed this after...       1\n",
              "16  My co-woker started playing a Carley Rae Jepse...       1\n",
              "17  After a long time my brother gave a suprise vi...       1"
            ]
          },
          "metadata": {
            "tags": []
          },
          "execution_count": 118
        }
      ]
    },
    {
      "metadata": {
        "id": "eASXQn6PsCaP",
        "colab_type": "code",
        "colab": {
          "base_uri": "https://localhost:8080/",
          "height": 34
        },
        "outputId": "c416065f-99cc-4637-b21b-96ea9848baea"
      },
      "cell_type": "code",
      "source": [
        "pred_no"
      ],
      "execution_count": 119,
      "outputs": [
        {
          "output_type": "execute_result",
          "data": {
            "text/plain": [
              "array([    1,     2,     3, ..., 72316, 72321, 72323])"
            ]
          },
          "metadata": {
            "tags": []
          },
          "execution_count": 119
        }
      ]
    },
    {
      "metadata": {
        "id": "e_Myl7p4cWqx",
        "colab_type": "code",
        "colab": {
          "base_uri": "https://localhost:8080/",
          "height": 119
        },
        "outputId": "19ba819d-320d-447b-9d5e-93a7be83e6ee"
      },
      "cell_type": "code",
      "source": [
        "addon_no = add_train.iloc[pred_no]\n",
        "addon_no['social'] = 0\n",
        "addon_no.columns = ['text','labels']"
      ],
      "execution_count": 120,
      "outputs": [
        {
          "output_type": "stream",
          "text": [
            "/usr/local/lib/python3.6/dist-packages/ipykernel_launcher.py:2: SettingWithCopyWarning: \n",
            "A value is trying to be set on a copy of a slice from a DataFrame.\n",
            "Try using .loc[row_indexer,col_indexer] = value instead\n",
            "\n",
            "See the caveats in the documentation: http://pandas.pydata.org/pandas-docs/stable/indexing.html#indexing-view-versus-copy\n",
            "  \n"
          ],
          "name": "stderr"
        }
      ]
    },
    {
      "metadata": {
        "id": "lvGH9W8NKS5C",
        "colab_type": "code",
        "colab": {
          "base_uri": "https://localhost:8080/",
          "height": 359
        },
        "outputId": "f78a58c9-2cf5-4244-eea5-30a6fe069dc2"
      },
      "cell_type": "code",
      "source": [
        "addon_no.head(10)"
      ],
      "execution_count": 121,
      "outputs": [
        {
          "output_type": "execute_result",
          "data": {
            "text/html": [
              "<div>\n",
              "<style scoped>\n",
              "    .dataframe tbody tr th:only-of-type {\n",
              "        vertical-align: middle;\n",
              "    }\n",
              "\n",
              "    .dataframe tbody tr th {\n",
              "        vertical-align: top;\n",
              "    }\n",
              "\n",
              "    .dataframe thead th {\n",
              "        text-align: right;\n",
              "    }\n",
              "</style>\n",
              "<table border=\"1\" class=\"dataframe\">\n",
              "  <thead>\n",
              "    <tr style=\"text-align: right;\">\n",
              "      <th></th>\n",
              "      <th>text</th>\n",
              "      <th>labels</th>\n",
              "    </tr>\n",
              "  </thead>\n",
              "  <tbody>\n",
              "    <tr>\n",
              "      <th>1</th>\n",
              "      <td>I went to the gym this morning and did yoga.</td>\n",
              "      <td>0</td>\n",
              "    </tr>\n",
              "    <tr>\n",
              "      <th>2</th>\n",
              "      <td>I meditated last night.</td>\n",
              "      <td>0</td>\n",
              "    </tr>\n",
              "    <tr>\n",
              "      <th>3</th>\n",
              "      <td>I made a new recipe for peasant bread, and it ...</td>\n",
              "      <td>0</td>\n",
              "    </tr>\n",
              "    <tr>\n",
              "      <th>7</th>\n",
              "      <td>I came in 3rd place in my Call of Duty video g...</td>\n",
              "      <td>0</td>\n",
              "    </tr>\n",
              "    <tr>\n",
              "      <th>8</th>\n",
              "      <td>I was shorting Gold and made $200 from the trade.</td>\n",
              "      <td>0</td>\n",
              "    </tr>\n",
              "    <tr>\n",
              "      <th>14</th>\n",
              "      <td>i was able to hit a top spin serve in tennis</td>\n",
              "      <td>0</td>\n",
              "    </tr>\n",
              "    <tr>\n",
              "      <th>21</th>\n",
              "      <td>Going to the mountains and hiking the trail to...</td>\n",
              "      <td>0</td>\n",
              "    </tr>\n",
              "    <tr>\n",
              "      <th>27</th>\n",
              "      <td>I cooked and ate a wonderful sausage and chees...</td>\n",
              "      <td>0</td>\n",
              "    </tr>\n",
              "    <tr>\n",
              "      <th>28</th>\n",
              "      <td>I achieved my daily income goal.</td>\n",
              "      <td>0</td>\n",
              "    </tr>\n",
              "    <tr>\n",
              "      <th>31</th>\n",
              "      <td>I went shopping</td>\n",
              "      <td>0</td>\n",
              "    </tr>\n",
              "  </tbody>\n",
              "</table>\n",
              "</div>"
            ],
            "text/plain": [
              "                                                 text  labels\n",
              "1        I went to the gym this morning and did yoga.       0\n",
              "2                             I meditated last night.       0\n",
              "3   I made a new recipe for peasant bread, and it ...       0\n",
              "7   I came in 3rd place in my Call of Duty video g...       0\n",
              "8   I was shorting Gold and made $200 from the trade.       0\n",
              "14       i was able to hit a top spin serve in tennis       0\n",
              "21  Going to the mountains and hiking the trail to...       0\n",
              "27  I cooked and ate a wonderful sausage and chees...       0\n",
              "28                   I achieved my daily income goal.       0\n",
              "31                                    I went shopping       0"
            ]
          },
          "metadata": {
            "tags": []
          },
          "execution_count": 121
        }
      ]
    },
    {
      "metadata": {
        "id": "s9lm637iMW8q",
        "colab_type": "code",
        "colab": {
          "base_uri": "https://localhost:8080/",
          "height": 359
        },
        "outputId": "8e5af1c5-e7d6-4616-d1ca-8d924d11e54f"
      },
      "cell_type": "code",
      "source": [
        "train.head(10)"
      ],
      "execution_count": 122,
      "outputs": [
        {
          "output_type": "execute_result",
          "data": {
            "text/html": [
              "<div>\n",
              "<style scoped>\n",
              "    .dataframe tbody tr th:only-of-type {\n",
              "        vertical-align: middle;\n",
              "    }\n",
              "\n",
              "    .dataframe tbody tr th {\n",
              "        vertical-align: top;\n",
              "    }\n",
              "\n",
              "    .dataframe thead th {\n",
              "        text-align: right;\n",
              "    }\n",
              "</style>\n",
              "<table border=\"1\" class=\"dataframe\">\n",
              "  <thead>\n",
              "    <tr style=\"text-align: right;\">\n",
              "      <th></th>\n",
              "      <th>text</th>\n",
              "      <th>labels</th>\n",
              "    </tr>\n",
              "  </thead>\n",
              "  <tbody>\n",
              "    <tr>\n",
              "      <th>484</th>\n",
              "      <td>I went to an art gallery, which I've never don...</td>\n",
              "      <td>0</td>\n",
              "    </tr>\n",
              "    <tr>\n",
              "      <th>217</th>\n",
              "      <td>I learned how to cook a new cake recipe.</td>\n",
              "      <td>0</td>\n",
              "    </tr>\n",
              "    <tr>\n",
              "      <th>3608</th>\n",
              "      <td>All my friends give me surprise party on my bi...</td>\n",
              "      <td>1</td>\n",
              "    </tr>\n",
              "    <tr>\n",
              "      <th>7568</th>\n",
              "      <td>I ordered three pairs of pants online and when...</td>\n",
              "      <td>0</td>\n",
              "    </tr>\n",
              "    <tr>\n",
              "      <th>1805</th>\n",
              "      <td>I was able to successfully clean a student's c...</td>\n",
              "      <td>1</td>\n",
              "    </tr>\n",
              "    <tr>\n",
              "      <th>2218</th>\n",
              "      <td>I watched one of my favorite shows after a hia...</td>\n",
              "      <td>0</td>\n",
              "    </tr>\n",
              "    <tr>\n",
              "      <th>1318</th>\n",
              "      <td>Gonzaga won its Final Four basketball game.</td>\n",
              "      <td>1</td>\n",
              "    </tr>\n",
              "    <tr>\n",
              "      <th>2820</th>\n",
              "      <td>I talked on the phone with a good friend of mi...</td>\n",
              "      <td>1</td>\n",
              "    </tr>\n",
              "    <tr>\n",
              "      <th>4891</th>\n",
              "      <td>Going to get a coffee at the bookstore and bro...</td>\n",
              "      <td>0</td>\n",
              "    </tr>\n",
              "    <tr>\n",
              "      <th>4627</th>\n",
              "      <td>Watched a friend's daughter play soccer</td>\n",
              "      <td>1</td>\n",
              "    </tr>\n",
              "  </tbody>\n",
              "</table>\n",
              "</div>"
            ],
            "text/plain": [
              "                                                   text  labels\n",
              "484   I went to an art gallery, which I've never don...       0\n",
              "217            I learned how to cook a new cake recipe.       0\n",
              "3608  All my friends give me surprise party on my bi...       1\n",
              "7568  I ordered three pairs of pants online and when...       0\n",
              "1805  I was able to successfully clean a student's c...       1\n",
              "2218  I watched one of my favorite shows after a hia...       0\n",
              "1318        Gonzaga won its Final Four basketball game.       1\n",
              "2820  I talked on the phone with a good friend of mi...       1\n",
              "4891  Going to get a coffee at the bookstore and bro...       0\n",
              "4627            Watched a friend's daughter play soccer       1"
            ]
          },
          "metadata": {
            "tags": []
          },
          "execution_count": 122
        }
      ]
    },
    {
      "metadata": {
        "id": "nfJ4yVxuculu",
        "colab_type": "code",
        "colab": {}
      },
      "cell_type": "code",
      "source": [
        "indices = np.concatenate((pred_yes,pred_no))"
      ],
      "execution_count": 0,
      "outputs": []
    },
    {
      "metadata": {
        "id": "5WmipCVHOnIi",
        "colab_type": "code",
        "colab": {}
      },
      "cell_type": "code",
      "source": [
        "add_train = add_train.iloc[~indices]\n",
        "\n",
        "train = pd.concat([train,addon_yes,addon_no])"
      ],
      "execution_count": 0,
      "outputs": []
    },
    {
      "metadata": {
        "id": "MGjakhGWLesg",
        "colab_type": "code",
        "colab": {
          "base_uri": "https://localhost:8080/",
          "height": 359
        },
        "outputId": "20d851b6-85aa-4337-bb11-d05ee1ecfe2c"
      },
      "cell_type": "code",
      "source": [
        "train.head(10)"
      ],
      "execution_count": 125,
      "outputs": [
        {
          "output_type": "execute_result",
          "data": {
            "text/html": [
              "<div>\n",
              "<style scoped>\n",
              "    .dataframe tbody tr th:only-of-type {\n",
              "        vertical-align: middle;\n",
              "    }\n",
              "\n",
              "    .dataframe tbody tr th {\n",
              "        vertical-align: top;\n",
              "    }\n",
              "\n",
              "    .dataframe thead th {\n",
              "        text-align: right;\n",
              "    }\n",
              "</style>\n",
              "<table border=\"1\" class=\"dataframe\">\n",
              "  <thead>\n",
              "    <tr style=\"text-align: right;\">\n",
              "      <th></th>\n",
              "      <th>text</th>\n",
              "      <th>labels</th>\n",
              "    </tr>\n",
              "  </thead>\n",
              "  <tbody>\n",
              "    <tr>\n",
              "      <th>484</th>\n",
              "      <td>I went to an art gallery, which I've never don...</td>\n",
              "      <td>0</td>\n",
              "    </tr>\n",
              "    <tr>\n",
              "      <th>217</th>\n",
              "      <td>I learned how to cook a new cake recipe.</td>\n",
              "      <td>0</td>\n",
              "    </tr>\n",
              "    <tr>\n",
              "      <th>3608</th>\n",
              "      <td>All my friends give me surprise party on my bi...</td>\n",
              "      <td>1</td>\n",
              "    </tr>\n",
              "    <tr>\n",
              "      <th>7568</th>\n",
              "      <td>I ordered three pairs of pants online and when...</td>\n",
              "      <td>0</td>\n",
              "    </tr>\n",
              "    <tr>\n",
              "      <th>1805</th>\n",
              "      <td>I was able to successfully clean a student's c...</td>\n",
              "      <td>1</td>\n",
              "    </tr>\n",
              "    <tr>\n",
              "      <th>2218</th>\n",
              "      <td>I watched one of my favorite shows after a hia...</td>\n",
              "      <td>0</td>\n",
              "    </tr>\n",
              "    <tr>\n",
              "      <th>1318</th>\n",
              "      <td>Gonzaga won its Final Four basketball game.</td>\n",
              "      <td>1</td>\n",
              "    </tr>\n",
              "    <tr>\n",
              "      <th>2820</th>\n",
              "      <td>I talked on the phone with a good friend of mi...</td>\n",
              "      <td>1</td>\n",
              "    </tr>\n",
              "    <tr>\n",
              "      <th>4891</th>\n",
              "      <td>Going to get a coffee at the bookstore and bro...</td>\n",
              "      <td>0</td>\n",
              "    </tr>\n",
              "    <tr>\n",
              "      <th>4627</th>\n",
              "      <td>Watched a friend's daughter play soccer</td>\n",
              "      <td>1</td>\n",
              "    </tr>\n",
              "  </tbody>\n",
              "</table>\n",
              "</div>"
            ],
            "text/plain": [
              "                                                   text  labels\n",
              "484   I went to an art gallery, which I've never don...       0\n",
              "217            I learned how to cook a new cake recipe.       0\n",
              "3608  All my friends give me surprise party on my bi...       1\n",
              "7568  I ordered three pairs of pants online and when...       0\n",
              "1805  I was able to successfully clean a student's c...       1\n",
              "2218  I watched one of my favorite shows after a hia...       0\n",
              "1318        Gonzaga won its Final Four basketball game.       1\n",
              "2820  I talked on the phone with a good friend of mi...       1\n",
              "4891  Going to get a coffee at the bookstore and bro...       0\n",
              "4627            Watched a friend's daughter play soccer       1"
            ]
          },
          "metadata": {
            "tags": []
          },
          "execution_count": 125
        }
      ]
    },
    {
      "metadata": {
        "id": "P2ptArxGK71b",
        "colab_type": "code",
        "colab": {}
      },
      "cell_type": "code",
      "source": [
        "train.to_csv(PATH/'train_data2.csv',index=False)\n",
        "add_train.to_csv(PATH/\"unlabeled_train2.csv\",index=False)"
      ],
      "execution_count": 0,
      "outputs": []
    },
    {
      "metadata": {
        "id": "l-nzma2L-XHh",
        "colab_type": "code",
        "colab": {}
      },
      "cell_type": "code",
      "source": [
        "from google.colab import files\n",
        "files.download(PATH/'train_data2.csv')\n",
        "files.download(PATH/\"unlabeled_train2.csv\")\n",
        "files.download(CLAS_PATH/'test.csv')\n",
        "files.download('/content/data/claff/models/best_model.h5')"
      ],
      "execution_count": 0,
      "outputs": []
    },
    {
      "metadata": {
        "id": "_ha0vi84Jy_0",
        "colab_type": "text"
      },
      "cell_type": "markdown",
      "source": [
        "The previous state of the art result was 94.1% accuracy (5.9% error). With bidir we get 95.4% accuracy (4.6% error)."
      ]
    }
  ]
}